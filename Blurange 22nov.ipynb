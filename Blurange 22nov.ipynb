{
 "cells": [
  {
   "cell_type": "code",
   "execution_count": 1,
   "id": "035db326-8020-4453-87ea-19af0c5a81f8",
   "metadata": {},
   "outputs": [],
   "source": [
    "load(\"HH-of-T3-15nov.sage\")"
   ]
  },
  {
   "cell_type": "code",
   "execution_count": 2,
   "id": "c25332ba-c80d-4ea9-b897-8fd7f75311a4",
   "metadata": {},
   "outputs": [
    {
     "ename": "ModuleNotFoundError",
     "evalue": "No module named 'modules'",
     "output_type": "error",
     "traceback": [
      "\u001b[0;31m---------------------------------------------------------------------------\u001b[0m",
      "\u001b[0;31mModuleNotFoundError\u001b[0m                       Traceback (most recent call last)",
      "Cell \u001b[0;32mIn[2], line 2\u001b[0m\n\u001b[1;32m      1\u001b[0m \u001b[38;5;28;01mimport\u001b[39;00m \u001b[38;5;21;01msage\u001b[39;00m\u001b[38;5;21;01m.\u001b[39;00m\u001b[38;5;21;01mmodules\u001b[39;00m\n\u001b[0;32m----> 2\u001b[0m \u001b[38;5;28;01mimport\u001b[39;00m \u001b[38;5;21;01mmodules\u001b[39;00m\n",
      "\u001b[0;31mModuleNotFoundError\u001b[0m: No module named 'modules'"
     ]
    }
   ],
   "source": [
    "import sage.modules\n",
    "import modules"
   ]
  },
  {
   "cell_type": "code",
   "execution_count": 3,
   "id": "db68fc6d-921a-47d8-87ba-d49cccc3c3fd",
   "metadata": {},
   "outputs": [],
   "source": [
    "T = SL2Z.1\n",
    "S = SL2Z.0"
   ]
  },
  {
   "cell_type": "code",
   "execution_count": 7,
   "id": "4a11157f-9c2f-4952-9dc4-df9fbc1f81a4",
   "metadata": {},
   "outputs": [
    {
     "data": {
      "text/html": [
       "<div class=\"notruncate\">\n",
       "<table border=\"1\" class=\"table_form\">\n",
       "<tbody>\n",
       "<tr>\n",
       "<th style=\"text-align:left\">\\(0\\)</th>\n",
       "<th style=\"text-align:left\">\\(1\\)</th>\n",
       "<th style=\"text-align:left\">\\(2\\)</th>\n",
       "<th style=\"text-align:left\">\\(3\\)</th>\n",
       "<th style=\"text-align:left\">\\(4\\)</th>\n",
       "<th style=\"text-align:left\">\\(5\\)</th>\n",
       "<th style=\"text-align:left\">\\(6\\)</th>\n",
       "<th style=\"text-align:left\">\\(7\\)</th>\n",
       "</tr>\n",
       "<tr class =\"row-a\">\n",
       "<td style=\"text-align:left\">\\(\\left(\\begin{array}{rr}\n",
       "1 & 0 \\\\\n",
       "0 & 1\n",
       "\\end{array}\\right)\\)</td>\n",
       "<td style=\"text-align:left\">\\(1\\)</td>\n",
       "<td style=\"text-align:left\">\\(2\\)</td>\n",
       "<td style=\"text-align:left\">\\(3\\)</td>\n",
       "<td style=\"text-align:left\">\\(5\\)</td>\n",
       "<td style=\"text-align:left\">\\(7\\)</td>\n",
       "<td style=\"text-align:left\">\\(11\\)</td>\n",
       "<td style=\"text-align:left\">\\(15\\)</td>\n",
       "</tr>\n",
       "<tr class =\"row-b\">\n",
       "<td style=\"text-align:left\">\\(\\left(\\begin{array}{rr}\n",
       "1 & 1 \\\\\n",
       "0 & 1\n",
       "\\end{array}\\right)\\)</td>\n",
       "<td style=\"text-align:left\">\\(1\\)</td>\n",
       "<td style=\"text-align:left\">\\(3\\)</td>\n",
       "<td style=\"text-align:left\">\\(6\\)</td>\n",
       "<td style=\"text-align:left\">\\(12\\)</td>\n",
       "<td style=\"text-align:left\">\\(23\\)</td>\n",
       "<td style=\"text-align:left\">\\(42\\)</td>\n",
       "<td style=\"text-align:left\">\\(77\\)</td>\n",
       "</tr>\n",
       "<tr class =\"row-a\">\n",
       "<td style=\"text-align:left\">\\(\\left(\\begin{array}{rr}\n",
       "1 & 2 \\\\\n",
       "0 & 1\n",
       "\\end{array}\\right)\\)</td>\n",
       "<td style=\"text-align:left\">\\(2\\)</td>\n",
       "<td style=\"text-align:left\">\\(6\\)</td>\n",
       "<td style=\"text-align:left\">\\(16\\)</td>\n",
       "<td style=\"text-align:left\">\\(34\\)</td>\n",
       "<td style=\"text-align:left\">\\(80\\)</td>\n",
       "<td style=\"text-align:left\">\\(168\\)</td>\n",
       "<td style=\"text-align:left\">\\(348\\)</td>\n",
       "</tr>\n",
       "</tbody>\n",
       "</table>\n",
       "</div>"
      ],
      "text/plain": [
       "┌─────────────┬───┬───┬────┬────┬────┬─────┬─────┐\n",
       "│ 0           | 1 | 2 | 3  | 4  | 5  | 6   | 7   |\n",
       "╞═════════════╪═══╪═══╪════╪════╪════╪═════╪═════╡\n",
       "│ [1 0]\n",
       "[0 1] | 1 | 2 | 3  | 5  | 7  | 11  | 15  |\n",
       "├─────────────┼───┼───┼────┼────┼────┼─────┼─────┤\n",
       "│ [1 1]\n",
       "[0 1] | 1 | 3 | 6  | 12 | 23 | 42  | 77  |\n",
       "├─────────────┼───┼───┼────┼────┼────┼─────┼─────┤\n",
       "│ [1 2]\n",
       "[0 1] | 2 | 6 | 16 | 34 | 80 | 168 | 348 |\n",
       "└─────────────┴───┴───┴────┴────┴────┴─────┴─────┘"
      ]
     },
     "execution_count": 7,
     "metadata": {},
     "output_type": "execute_result"
    }
   ],
   "source": [
    "\n",
    "Blurange_table([T^k for k in [0,1,2]],7)"
   ]
  },
  {
   "cell_type": "markdown",
   "id": "9547e204-e459-4bf0-9bd1-871f28716027",
   "metadata": {},
   "source": [
    "Now without taking coinvar (note that it goes much quicker)\n"
   ]
  },
  {
   "cell_type": "code",
   "execution_count": 11,
   "id": "d54a93e5-f29a-4933-9db1-e68055787b17",
   "metadata": {},
   "outputs": [
    {
     "data": {
      "text/html": [
       "<div class=\"notruncate\">\n",
       "<table border=\"1\" class=\"table_form\">\n",
       "<tbody>\n",
       "<tr>\n",
       "<th style=\"text-align:left\">\\(0\\)</th>\n",
       "<th style=\"text-align:left\">\\(1\\)</th>\n",
       "<th style=\"text-align:left\">\\(2\\)</th>\n",
       "<th style=\"text-align:left\">\\(3\\)</th>\n",
       "<th style=\"text-align:left\">\\(4\\)</th>\n",
       "<th style=\"text-align:left\">\\(5\\)</th>\n",
       "<th style=\"text-align:left\">\\(6\\)</th>\n",
       "<th style=\"text-align:left\">\\(7\\)</th>\n",
       "<th style=\"text-align:left\">\\(8\\)</th>\n",
       "<th style=\"text-align:left\">\\(9\\)</th>\n",
       "</tr>\n",
       "<tr class =\"row-a\">\n",
       "<td style=\"text-align:left\">\\(\\left(\\begin{array}{rr}\n",
       "1 & 0 \\\\\n",
       "0 & 1\n",
       "\\end{array}\\right)\\)</td>\n",
       "<td style=\"text-align:left\">\\(1\\)</td>\n",
       "<td style=\"text-align:left\">\\(2\\)</td>\n",
       "<td style=\"text-align:left\">\\(3\\)</td>\n",
       "<td style=\"text-align:left\">\\(5\\)</td>\n",
       "<td style=\"text-align:left\">\\(7\\)</td>\n",
       "<td style=\"text-align:left\">\\(11\\)</td>\n",
       "<td style=\"text-align:left\">\\(15\\)</td>\n",
       "<td style=\"text-align:left\">\\(22\\)</td>\n",
       "<td style=\"text-align:left\">\\(30\\)</td>\n",
       "</tr>\n",
       "<tr class =\"row-b\">\n",
       "<td style=\"text-align:left\">\\(\\left(\\begin{array}{rr}\n",
       "1 & 1 \\\\\n",
       "0 & 1\n",
       "\\end{array}\\right)\\)</td>\n",
       "<td style=\"text-align:left\">\\(1\\)</td>\n",
       "<td style=\"text-align:left\">\\(3\\)</td>\n",
       "<td style=\"text-align:left\">\\(6\\)</td>\n",
       "<td style=\"text-align:left\">\\(14\\)</td>\n",
       "<td style=\"text-align:left\">\\(25\\)</td>\n",
       "<td style=\"text-align:left\">\\(56\\)</td>\n",
       "<td style=\"text-align:left\">\\(97\\)</td>\n",
       "<td style=\"text-align:left\">\\(198\\)</td>\n",
       "<td style=\"text-align:left\">\\(354\\)</td>\n",
       "</tr>\n",
       "<tr class =\"row-a\">\n",
       "<td style=\"text-align:left\">\\(\\left(\\begin{array}{rr}\n",
       "1 & 2 \\\\\n",
       "0 & 1\n",
       "\\end{array}\\right)\\)</td>\n",
       "<td style=\"text-align:left\">\\(2\\)</td>\n",
       "<td style=\"text-align:left\">\\(8\\)</td>\n",
       "<td style=\"text-align:left\">\\(22\\)</td>\n",
       "<td style=\"text-align:left\">\\(68\\)</td>\n",
       "<td style=\"text-align:left\">\\(170\\)</td>\n",
       "<td style=\"text-align:left\">\\(484\\)</td>\n",
       "<td style=\"text-align:left\">\\(1166\\)</td>\n",
       "<td style=\"text-align:left\">\\(3048\\)</td>\n",
       "<td style=\"text-align:left\">\\(7274\\)</td>\n",
       "</tr>\n",
       "<tr class =\"row-b\">\n",
       "<td style=\"text-align:left\">\\(\\left(\\begin{array}{rr}\n",
       "1 & 3 \\\\\n",
       "0 & 1\n",
       "\\end{array}\\right)\\)</td>\n",
       "<td style=\"text-align:left\">\\(3\\)</td>\n",
       "<td style=\"text-align:left\">\\(15\\)</td>\n",
       "<td style=\"text-align:left\">\\(54\\)</td>\n",
       "<td style=\"text-align:left\">\\(210\\)</td>\n",
       "<td style=\"text-align:left\">\\(699\\)</td>\n",
       "<td style=\"text-align:left\">\\(2484\\)</td>\n",
       "<td style=\"text-align:left\">\\(7995\\)</td>\n",
       "<td style=\"text-align:left\">\\(26610\\)</td>\n",
       "<td style=\"text-align:left\">\\(84186\\)</td>\n",
       "</tr>\n",
       "</tbody>\n",
       "</table>\n",
       "</div>"
      ],
      "text/plain": [
       "┌─────────────┬───┬────┬────┬─────┬─────┬──────┬──────┬───────┬───────┐\n",
       "│ 0           | 1 | 2  | 3  | 4   | 5   | 6    | 7    | 8     | 9     |\n",
       "╞═════════════╪═══╪════╪════╪═════╪═════╪══════╪══════╪═══════╪═══════╡\n",
       "│ [1 0]\n",
       "[0 1] | 1 | 2  | 3  | 5   | 7   | 11   | 15   | 22    | 30    |\n",
       "├─────────────┼───┼────┼────┼─────┼─────┼──────┼──────┼───────┼───────┤\n",
       "│ [1 1]\n",
       "[0 1] | 1 | 3  | 6  | 14  | 25  | 56   | 97   | 198   | 354   |\n",
       "├─────────────┼───┼────┼────┼─────┼─────┼──────┼──────┼───────┼───────┤\n",
       "│ [1 2]\n",
       "[0 1] | 2 | 8  | 22 | 68  | 170 | 484  | 1166 | 3048  | 7274  |\n",
       "├─────────────┼───┼────┼────┼─────┼─────┼──────┼──────┼───────┼───────┤\n",
       "│ [1 3]\n",
       "[0 1] | 3 | 15 | 54 | 210 | 699 | 2484 | 7995 | 26610 | 84186 |\n",
       "└─────────────┴───┴────┴────┴─────┴─────┴──────┴──────┴───────┴───────┘"
      ]
     },
     "execution_count": 11,
     "metadata": {},
     "output_type": "execute_result"
    }
   ],
   "source": [
    "Blurange_table([T^k for k in [0,1,2,3]],9,False)"
   ]
  },
  {
   "cell_type": "code",
   "execution_count": 3,
   "id": "e6ba99a6-99e3-45e5-8860-1c835260d9c3",
   "metadata": {},
   "outputs": [],
   "source": [
    "S = SL2Z.0\n",
    "T = SL2Z.1"
   ]
  },
  {
   "cell_type": "code",
   "execution_count": 7,
   "id": "e28b6d98-64ca-4b26-9a18-7f80d65e28eb",
   "metadata": {},
   "outputs": [
    {
     "data": {
      "text/html": [
       "<div class=\"notruncate\">\n",
       "<table border=\"1\" class=\"table_form\">\n",
       "<tbody>\n",
       "<tr>\n",
       "<th style=\"text-align:left\">\\(0\\)</th>\n",
       "<th style=\"text-align:left\">\\(1\\)</th>\n",
       "<th style=\"text-align:left\">\\(2\\)</th>\n",
       "</tr>\n",
       "<tr class =\"row-a\">\n",
       "<td style=\"text-align:left\">\\(\\left(\\begin{array}{rr}\n",
       "0 & -1 \\\\\n",
       "1 & 0\n",
       "\\end{array}\\right)\\)</td>\n",
       "<td style=\"text-align:left\">\\(2\\)</td>\n",
       "<td style=\"text-align:left\">\\(4\\)</td>\n",
       "</tr>\n",
       "<tr class =\"row-b\">\n",
       "<td style=\"text-align:left\">\\(\\left(\\begin{array}{rr}\n",
       "0 & -1 \\\\\n",
       "1 & 1\n",
       "\\end{array}\\right)\\)</td>\n",
       "<td style=\"text-align:left\">\\(1\\)</td>\n",
       "<td style=\"text-align:left\">\\(2\\)</td>\n",
       "</tr>\n",
       "<tr class =\"row-a\">\n",
       "<td style=\"text-align:left\">\\(\\left(\\begin{array}{rr}\n",
       "0 & -1 \\\\\n",
       "1 & 2\n",
       "\\end{array}\\right)\\)</td>\n",
       "<td style=\"text-align:left\">\\(1\\)</td>\n",
       "<td style=\"text-align:left\">\\(3\\)</td>\n",
       "</tr>\n",
       "<tr class =\"row-b\">\n",
       "<td style=\"text-align:left\">\\(\\left(\\begin{array}{rr}\n",
       "0 & -1 \\\\\n",
       "1 & 3\n",
       "\\end{array}\\right)\\)</td>\n",
       "<td style=\"text-align:left\">\\(1\\)</td>\n",
       "<td style=\"text-align:left\">\\(2\\)</td>\n",
       "</tr>\n",
       "<tr class =\"row-a\">\n",
       "<td style=\"text-align:left\">\\(\\left(\\begin{array}{rr}\n",
       "0 & -1 \\\\\n",
       "1 & 4\n",
       "\\end{array}\\right)\\)</td>\n",
       "<td style=\"text-align:left\">\\(2\\)</td>\n",
       "<td style=\"text-align:left\">\\(4\\)</td>\n",
       "</tr>\n",
       "<tr class =\"row-b\">\n",
       "<td style=\"text-align:left\">\\(\\left(\\begin{array}{rr}\n",
       "0 & -1 \\\\\n",
       "1 & 5\n",
       "\\end{array}\\right)\\)</td>\n",
       "<td style=\"text-align:left\">\\(3\\)</td>\n",
       "<td style=\"text-align:left\">\\(6\\)</td>\n",
       "</tr>\n",
       "<tr class =\"row-a\">\n",
       "<td style=\"text-align:left\">\\(\\left(\\begin{array}{rr}\n",
       "0 & -1 \\\\\n",
       "1 & 6\n",
       "\\end{array}\\right)\\)</td>\n",
       "<td style=\"text-align:left\">\\(4\\)</td>\n",
       "<td style=\"text-align:left\">\\(8\\)</td>\n",
       "</tr>\n",
       "<tr class =\"row-b\">\n",
       "<td style=\"text-align:left\">\\(\\left(\\begin{array}{rr}\n",
       "0 & -1 \\\\\n",
       "1 & 7\n",
       "\\end{array}\\right)\\)</td>\n",
       "<td style=\"text-align:left\">\\(5\\)</td>\n",
       "<td style=\"text-align:left\">\\(10\\)</td>\n",
       "</tr>\n",
       "<tr class =\"row-a\">\n",
       "<td style=\"text-align:left\">\\(\\left(\\begin{array}{rr}\n",
       "0 & -1 \\\\\n",
       "1 & 8\n",
       "\\end{array}\\right)\\)</td>\n",
       "<td style=\"text-align:left\">\\(6\\)</td>\n",
       "<td style=\"text-align:left\">\\(12\\)</td>\n",
       "</tr>\n",
       "<tr class =\"row-b\">\n",
       "<td style=\"text-align:left\">\\(\\left(\\begin{array}{rr}\n",
       "0 & -1 \\\\\n",
       "1 & 9\n",
       "\\end{array}\\right)\\)</td>\n",
       "<td style=\"text-align:left\">\\(7\\)</td>\n",
       "<td style=\"text-align:left\">\\(14\\)</td>\n",
       "</tr>\n",
       "<tr class =\"row-a\">\n",
       "<td style=\"text-align:left\">\\(\\left(\\begin{array}{rr}\n",
       "0 & -1 \\\\\n",
       "1 & 10\n",
       "\\end{array}\\right)\\)</td>\n",
       "<td style=\"text-align:left\">\\(8\\)</td>\n",
       "<td style=\"text-align:left\">\\(16\\)</td>\n",
       "</tr>\n",
       "<tr class =\"row-b\">\n",
       "<td style=\"text-align:left\">\\(\\left(\\begin{array}{rr}\n",
       "0 & -1 \\\\\n",
       "1 & 11\n",
       "\\end{array}\\right)\\)</td>\n",
       "<td style=\"text-align:left\">\\(9\\)</td>\n",
       "<td style=\"text-align:left\">\\(18\\)</td>\n",
       "</tr>\n",
       "<tr class =\"row-a\">\n",
       "<td style=\"text-align:left\">\\(\\left(\\begin{array}{rr}\n",
       "0 & -1 \\\\\n",
       "1 & 12\n",
       "\\end{array}\\right)\\)</td>\n",
       "<td style=\"text-align:left\">\\(10\\)</td>\n",
       "<td style=\"text-align:left\">\\(20\\)</td>\n",
       "</tr>\n",
       "<tr class =\"row-b\">\n",
       "<td style=\"text-align:left\">\\(\\left(\\begin{array}{rr}\n",
       "0 & -1 \\\\\n",
       "1 & 13\n",
       "\\end{array}\\right)\\)</td>\n",
       "<td style=\"text-align:left\">\\(11\\)</td>\n",
       "<td style=\"text-align:left\">\\(22\\)</td>\n",
       "</tr>\n",
       "<tr class =\"row-a\">\n",
       "<td style=\"text-align:left\">\\(\\left(\\begin{array}{rr}\n",
       "0 & -1 \\\\\n",
       "1 & 14\n",
       "\\end{array}\\right)\\)</td>\n",
       "<td style=\"text-align:left\">\\(12\\)</td>\n",
       "<td style=\"text-align:left\">\\(24\\)</td>\n",
       "</tr>\n",
       "</tbody>\n",
       "</table>\n",
       "</div>"
      ],
      "text/plain": [
       "┌─────────────────┬────┬────┐\n",
       "│ 0               | 1  | 2  |\n",
       "╞═════════════════╪════╪════╡\n",
       "│ [ 0 -1]\n",
       "[ 1  0] | 2  | 4  |\n",
       "├─────────────────┼────┼────┤\n",
       "│ [ 0 -1]\n",
       "[ 1  1] | 1  | 2  |\n",
       "├─────────────────┼────┼────┤\n",
       "│ [ 0 -1]\n",
       "[ 1  2] | 1  | 3  |\n",
       "├─────────────────┼────┼────┤\n",
       "│ [ 0 -1]\n",
       "[ 1  3] | 1  | 2  |\n",
       "├─────────────────┼────┼────┤\n",
       "│ [ 0 -1]\n",
       "[ 1  4] | 2  | 4  |\n",
       "├─────────────────┼────┼────┤\n",
       "│ [ 0 -1]\n",
       "[ 1  5] | 3  | 6  |\n",
       "├─────────────────┼────┼────┤\n",
       "│ [ 0 -1]\n",
       "[ 1  6] | 4  | 8  |\n",
       "├─────────────────┼────┼────┤\n",
       "│ [ 0 -1]\n",
       "[ 1  7] | 5  | 10 |\n",
       "├─────────────────┼────┼────┤\n",
       "│ [ 0 -1]\n",
       "[ 1  8] | 6  | 12 |\n",
       "├─────────────────┼────┼────┤\n",
       "│ [ 0 -1]\n",
       "[ 1  9] | 7  | 14 |\n",
       "├─────────────────┼────┼────┤\n",
       "│ [ 0 -1]\n",
       "[ 1 10] | 8  | 16 |\n",
       "├─────────────────┼────┼────┤\n",
       "│ [ 0 -1]\n",
       "[ 1 11] | 9  | 18 |\n",
       "├─────────────────┼────┼────┤\n",
       "│ [ 0 -1]\n",
       "[ 1 12] | 10 | 20 |\n",
       "├─────────────────┼────┼────┤\n",
       "│ [ 0 -1]\n",
       "[ 1 13] | 11 | 22 |\n",
       "├─────────────────┼────┼────┤\n",
       "│ [ 0 -1]\n",
       "[ 1 14] | 12 | 24 |\n",
       "└─────────────────┴────┴────┘"
      ]
     },
     "execution_count": 7,
     "metadata": {},
     "output_type": "execute_result"
    }
   ],
   "source": [
    "Blurange_table([S*T^k for k in [0,1,2,3,4,5,6,7,8,9,10,11,12,13,14]],2)"
   ]
  },
  {
   "cell_type": "code",
   "execution_count": 12,
   "id": "0a7957d9-e3a3-43eb-9fdd-e57e173f5364",
   "metadata": {},
   "outputs": [
    {
     "data": {
      "text/html": [
       "<div class=\"notruncate\">\n",
       "<table border=\"1\" class=\"table_form\">\n",
       "<tbody>\n",
       "<tr>\n",
       "<th style=\"text-align:left\">\\(0\\)</th>\n",
       "<th style=\"text-align:left\">\\(1\\)</th>\n",
       "<th style=\"text-align:left\">\\(2\\)</th>\n",
       "<th style=\"text-align:left\">\\(3\\)</th>\n",
       "<th style=\"text-align:left\">\\(4\\)</th>\n",
       "<th style=\"text-align:left\">\\(5\\)</th>\n",
       "<th style=\"text-align:left\">\\(6\\)</th>\n",
       "</tr>\n",
       "<tr class =\"row-a\">\n",
       "<td style=\"text-align:left\">\\(\\left(\\begin{array}{rr}\n",
       "1 & 0 \\\\\n",
       "0 & 1\n",
       "\\end{array}\\right)\\)</td>\n",
       "<td style=\"text-align:left\">\\(1\\)</td>\n",
       "<td style=\"text-align:left\">\\(2\\)</td>\n",
       "<td style=\"text-align:left\">\\(3\\)</td>\n",
       "<td style=\"text-align:left\">\\(5\\)</td>\n",
       "<td style=\"text-align:left\">\\(7\\)</td>\n",
       "<td style=\"text-align:left\">\\(11\\)</td>\n",
       "</tr>\n",
       "<tr class =\"row-b\">\n",
       "<td style=\"text-align:left\">\\(\\left(\\begin{array}{rr}\n",
       "0 & -1 \\\\\n",
       "1 & 0\n",
       "\\end{array}\\right)\\)</td>\n",
       "<td style=\"text-align:left\">\\(2\\)</td>\n",
       "<td style=\"text-align:left\">\\(4\\)</td>\n",
       "<td style=\"text-align:left\">\\(8\\)</td>\n",
       "<td style=\"text-align:left\">\\(13\\)</td>\n",
       "<td style=\"text-align:left\">\\(22\\)</td>\n",
       "<td style=\"text-align:left\">\\(36\\)</td>\n",
       "</tr>\n",
       "<tr class =\"row-a\">\n",
       "<td style=\"text-align:left\">\\(\\left(\\begin{array}{rr}\n",
       "-1 & 0 \\\\\n",
       "0 & -1\n",
       "\\end{array}\\right)\\)</td>\n",
       "<td style=\"text-align:left\">\\(4\\)</td>\n",
       "<td style=\"text-align:left\">\\(5\\)</td>\n",
       "<td style=\"text-align:left\">\\(12\\)</td>\n",
       "<td style=\"text-align:left\">\\(26\\)</td>\n",
       "<td style=\"text-align:left\">\\(40\\)</td>\n",
       "<td style=\"text-align:left\">\\(71\\)</td>\n",
       "</tr>\n",
       "<tr class =\"row-b\">\n",
       "<td style=\"text-align:left\">\\(\\left(\\begin{array}{rr}\n",
       "0 & 1 \\\\\n",
       "-1 & 0\n",
       "\\end{array}\\right)\\)</td>\n",
       "<td style=\"text-align:left\">\\(2\\)</td>\n",
       "<td style=\"text-align:left\">\\(4\\)</td>\n",
       "<td style=\"text-align:left\">\\(8\\)</td>\n",
       "<td style=\"text-align:left\">\\(13\\)</td>\n",
       "<td style=\"text-align:left\">\\(22\\)</td>\n",
       "<td style=\"text-align:left\">\\(36\\)</td>\n",
       "</tr>\n",
       "</tbody>\n",
       "</table>\n",
       "</div>"
      ],
      "text/plain": [
       "┌─────────────────┬───┬───┬────┬────┬────┬────┐\n",
       "│ 0               | 1 | 2 | 3  | 4  | 5  | 6  |\n",
       "╞═════════════════╪═══╪═══╪════╪════╪════╪════╡\n",
       "│ [1 0]\n",
       "[0 1]     | 1 | 2 | 3  | 5  | 7  | 11 |\n",
       "├─────────────────┼───┼───┼────┼────┼────┼────┤\n",
       "│ [ 0 -1]\n",
       "[ 1  0] | 2 | 4 | 8  | 13 | 22 | 36 |\n",
       "├─────────────────┼───┼───┼────┼────┼────┼────┤\n",
       "│ [-1  0]\n",
       "[ 0 -1] | 4 | 5 | 12 | 26 | 40 | 71 |\n",
       "├─────────────────┼───┼───┼────┼────┼────┼────┤\n",
       "│ [ 0  1]\n",
       "[-1  0] | 2 | 4 | 8  | 13 | 22 | 36 |\n",
       "└─────────────────┴───┴───┴────┴────┴────┴────┘"
      ]
     },
     "execution_count": 12,
     "metadata": {},
     "output_type": "execute_result"
    }
   ],
   "source": [
    "Blurange_table([S^k for k in [0,1,2,3]],6)"
   ]
  },
  {
   "cell_type": "code",
   "execution_count": 13,
   "id": "7730d199-32d7-4882-a6a9-b8291c9749d7",
   "metadata": {},
   "outputs": [
    {
     "data": {
      "text/html": [
       "<div class=\"notruncate\">\n",
       "<table border=\"1\" class=\"table_form\">\n",
       "<tbody>\n",
       "<tr>\n",
       "<th style=\"text-align:left\">\\(0\\)</th>\n",
       "<th style=\"text-align:left\">\\(1\\)</th>\n",
       "<th style=\"text-align:left\">\\(2\\)</th>\n",
       "<th style=\"text-align:left\">\\(3\\)</th>\n",
       "<th style=\"text-align:left\">\\(4\\)</th>\n",
       "<th style=\"text-align:left\">\\(5\\)</th>\n",
       "<th style=\"text-align:left\">\\(6\\)</th>\n",
       "<th style=\"text-align:left\">\\(7\\)</th>\n",
       "<th style=\"text-align:left\">\\(8\\)</th>\n",
       "</tr>\n",
       "<tr class =\"row-a\">\n",
       "<td style=\"text-align:left\">\\(\\left(\\begin{array}{rr}\n",
       "1 & 0 \\\\\n",
       "0 & 1\n",
       "\\end{array}\\right)\\)</td>\n",
       "<td style=\"text-align:left\">\\(1\\)</td>\n",
       "<td style=\"text-align:left\">\\(2\\)</td>\n",
       "<td style=\"text-align:left\">\\(3\\)</td>\n",
       "<td style=\"text-align:left\">\\(5\\)</td>\n",
       "<td style=\"text-align:left\">\\(7\\)</td>\n",
       "<td style=\"text-align:left\">\\(11\\)</td>\n",
       "<td style=\"text-align:left\">\\(15\\)</td>\n",
       "<td style=\"text-align:left\">\\(22\\)</td>\n",
       "</tr>\n",
       "<tr class =\"row-b\">\n",
       "<td style=\"text-align:left\">\\(\\left(\\begin{array}{rr}\n",
       "0 & -1 \\\\\n",
       "1 & 0\n",
       "\\end{array}\\right)\\)</td>\n",
       "<td style=\"text-align:left\">\\(2\\)</td>\n",
       "<td style=\"text-align:left\">\\(8\\)</td>\n",
       "<td style=\"text-align:left\">\\(18\\)</td>\n",
       "<td style=\"text-align:left\">\\(53\\)</td>\n",
       "<td style=\"text-align:left\">\\(116\\)</td>\n",
       "<td style=\"text-align:left\">\\(308\\)</td>\n",
       "<td style=\"text-align:left\">\\(660\\)</td>\n",
       "<td style=\"text-align:left\">\\(1630\\)</td>\n",
       "</tr>\n",
       "<tr class =\"row-a\">\n",
       "<td style=\"text-align:left\">\\(\\left(\\begin{array}{rr}\n",
       "-1 & 0 \\\\\n",
       "0 & -1\n",
       "\\end{array}\\right)\\)</td>\n",
       "<td style=\"text-align:left\">\\(4\\)</td>\n",
       "<td style=\"text-align:left\">\\(17\\)</td>\n",
       "<td style=\"text-align:left\">\\(72\\)</td>\n",
       "<td style=\"text-align:left\">\\(290\\)</td>\n",
       "<td style=\"text-align:left\">\\(1168\\)</td>\n",
       "<td style=\"text-align:left\">\\(4691\\)</td>\n",
       "<td style=\"text-align:left\">\\(18780\\)</td>\n",
       "<td style=\"text-align:left\">\\(75157\\)</td>\n",
       "</tr>\n",
       "<tr class =\"row-b\">\n",
       "<td style=\"text-align:left\">\\(\\left(\\begin{array}{rr}\n",
       "0 & 1 \\\\\n",
       "-1 & 0\n",
       "\\end{array}\\right)\\)</td>\n",
       "<td style=\"text-align:left\">\\(2\\)</td>\n",
       "<td style=\"text-align:left\">\\(8\\)</td>\n",
       "<td style=\"text-align:left\">\\(18\\)</td>\n",
       "<td style=\"text-align:left\">\\(53\\)</td>\n",
       "<td style=\"text-align:left\">\\(116\\)</td>\n",
       "<td style=\"text-align:left\">\\(308\\)</td>\n",
       "<td style=\"text-align:left\">\\(660\\)</td>\n",
       "<td style=\"text-align:left\">\\(1630\\)</td>\n",
       "</tr>\n",
       "</tbody>\n",
       "</table>\n",
       "</div>"
      ],
      "text/plain": [
       "┌─────────────────┬───┬────┬────┬─────┬──────┬──────┬───────┬───────┐\n",
       "│ 0               | 1 | 2  | 3  | 4   | 5    | 6    | 7     | 8     |\n",
       "╞═════════════════╪═══╪════╪════╪═════╪══════╪══════╪═══════╪═══════╡\n",
       "│ [1 0]\n",
       "[0 1]     | 1 | 2  | 3  | 5   | 7    | 11   | 15    | 22    |\n",
       "├─────────────────┼───┼────┼────┼─────┼──────┼──────┼───────┼───────┤\n",
       "│ [ 0 -1]\n",
       "[ 1  0] | 2 | 8  | 18 | 53  | 116  | 308  | 660   | 1630  |\n",
       "├─────────────────┼───┼────┼────┼─────┼──────┼──────┼───────┼───────┤\n",
       "│ [-1  0]\n",
       "[ 0 -1] | 4 | 17 | 72 | 290 | 1168 | 4691 | 18780 | 75157 |\n",
       "├─────────────────┼───┼────┼────┼─────┼──────┼──────┼───────┼───────┤\n",
       "│ [ 0  1]\n",
       "[-1  0] | 2 | 8  | 18 | 53  | 116  | 308  | 660   | 1630  |\n",
       "└─────────────────┴───┴────┴────┴─────┴──────┴──────┴───────┴───────┘"
      ]
     },
     "execution_count": 13,
     "metadata": {},
     "output_type": "execute_result"
    }
   ],
   "source": [
    "Blurange_table([S^k for k in [0,1,2,3]],8,False)"
   ]
  },
  {
   "cell_type": "code",
   "execution_count": 9,
   "id": "09802717-b1a0-4bea-902c-a12f7bbb43d6",
   "metadata": {},
   "outputs": [
    {
     "data": {
      "text/plain": [
       "[ 1 -1]\n",
       "[ 0  1]"
      ]
     },
     "execution_count": 9,
     "metadata": {},
     "output_type": "execute_result"
    }
   ],
   "source": [
    "T.inverse()"
   ]
  },
  {
   "cell_type": "code",
   "execution_count": 24,
   "id": "b8c7e93f-b392-4fc2-92ff-554d7d900a1e",
   "metadata": {},
   "outputs": [
    {
     "data": {
      "text/html": [
       "<div class=\"notruncate\">\n",
       "<table border=\"1\" class=\"table_form\">\n",
       "<tbody>\n",
       "<tr>\n",
       "<th style=\"text-align:left\">\\(0\\)</th>\n",
       "<th style=\"text-align:left\">\\(1\\)</th>\n",
       "<th style=\"text-align:left\">\\(2\\)</th>\n",
       "</tr>\n",
       "<tr class =\"row-a\">\n",
       "<td style=\"text-align:left\">\\(\\left(\\begin{array}{rr}\n",
       "1 & 0 \\\\\n",
       "0 & 1\n",
       "\\end{array}\\right)\\)</td>\n",
       "<td style=\"text-align:left\">\\(1\\)</td>\n",
       "<td style=\"text-align:left\">\\(2\\)</td>\n",
       "</tr>\n",
       "<tr class =\"row-b\">\n",
       "<td style=\"text-align:left\">\\(\\left(\\begin{array}{rr}\n",
       "1 & -2 \\\\\n",
       "1 & -1\n",
       "\\end{array}\\right)\\)</td>\n",
       "<td style=\"text-align:left\">\\(2\\)</td>\n",
       "<td style=\"text-align:left\">\\(4\\)</td>\n",
       "</tr>\n",
       "<tr class =\"row-a\">\n",
       "<td style=\"text-align:left\">\\(\\left(\\begin{array}{rr}\n",
       "-1 & 0 \\\\\n",
       "0 & -1\n",
       "\\end{array}\\right)\\)</td>\n",
       "<td style=\"text-align:left\">\\(4\\)</td>\n",
       "<td style=\"text-align:left\">\\(5\\)</td>\n",
       "</tr>\n",
       "<tr class =\"row-b\">\n",
       "<td style=\"text-align:left\">\\(\\left(\\begin{array}{rr}\n",
       "-1 & 2 \\\\\n",
       "-1 & 1\n",
       "\\end{array}\\right)\\)</td>\n",
       "<td style=\"text-align:left\">\\(2\\)</td>\n",
       "<td style=\"text-align:left\">\\(4\\)</td>\n",
       "</tr>\n",
       "</tbody>\n",
       "</table>\n",
       "</div>"
      ],
      "text/plain": [
       "┌─────────────────┬───┬───┐\n",
       "│ 0               | 1 | 2 |\n",
       "╞═════════════════╪═══╪═══╡\n",
       "│ [1 0]\n",
       "[0 1]     | 1 | 2 |\n",
       "├─────────────────┼───┼───┤\n",
       "│ [ 1 -2]\n",
       "[ 1 -1] | 2 | 4 |\n",
       "├─────────────────┼───┼───┤\n",
       "│ [-1  0]\n",
       "[ 0 -1] | 4 | 5 |\n",
       "├─────────────────┼───┼───┤\n",
       "│ [-1  2]\n",
       "[-1  1] | 2 | 4 |\n",
       "└─────────────────┴───┴───┘"
      ]
     },
     "execution_count": 24,
     "metadata": {},
     "output_type": "execute_result"
    }
   ],
   "source": [
    "Blurange_table([T*S^k*T.inverse(\n",
    ") for k in [0,1,2,3]],2)"
   ]
  },
  {
   "cell_type": "code",
   "execution_count": 23,
   "id": "cffcb081-e7eb-4db5-a2a5-8c8baf2d3f7b",
   "metadata": {},
   "outputs": [
    {
     "data": {
      "text/html": [
       "<div class=\"notruncate\">\n",
       "<table border=\"1\" class=\"table_form\">\n",
       "<tbody>\n",
       "<tr class =\"row-a\">\n",
       "<td style=\"text-align:left\">\\(\\left(\\begin{array}{rr}\n",
       "1 & 0 \\\\\n",
       "0 & 1\n",
       "\\end{array}\\right)\\)</td>\n",
       "<td style=\"text-align:left\">\\(5\\)</td>\n",
       "</tr>\n",
       "<tr class =\"row-b\">\n",
       "<td style=\"text-align:left\">\\(\\left(\\begin{array}{rr}\n",
       "1 & -2 \\\\\n",
       "1 & -1\n",
       "\\end{array}\\right)\\)</td>\n",
       "<td style=\"text-align:left\">\\(4\\)</td>\n",
       "</tr>\n",
       "<tr class =\"row-a\">\n",
       "<td style=\"text-align:left\">\\(\\left(\\begin{array}{rr}\n",
       "-1 & 0 \\\\\n",
       "0 & -1\n",
       "\\end{array}\\right)\\)</td>\n",
       "<td style=\"text-align:left\">\\(5\\)</td>\n",
       "</tr>\n",
       "<tr class =\"row-b\">\n",
       "<td style=\"text-align:left\">\\(\\left(\\begin{array}{rr}\n",
       "-1 & 2 \\\\\n",
       "-1 & 1\n",
       "\\end{array}\\right)\\)</td>\n",
       "<td style=\"text-align:left\">\\(4\\)</td>\n",
       "</tr>\n",
       "</tbody>\n",
       "</table>\n",
       "</div>"
      ],
      "text/plain": [
       "┌─────────────────┬───┐\n",
       "│ [1 0]\n",
       "[0 1]     | 5 |\n",
       "├─────────────────┼───┤\n",
       "│ [ 1 -2]\n",
       "[ 1 -1] | 4 |\n",
       "├─────────────────┼───┤\n",
       "│ [-1  0]\n",
       "[ 0 -1] | 5 |\n",
       "├─────────────────┼───┤\n",
       "│ [-1  2]\n",
       "[-1  1] | 4 |\n",
       "└─────────────────┴───┘"
      ]
     },
     "execution_count": 23,
     "metadata": {},
     "output_type": "execute_result"
    }
   ],
   "source": [
    "Patrick_dim_GL2_skein_table([T*S^k*T.inverse(\n",
    ") for k in [0,1,2,3]])"
   ]
  },
  {
   "cell_type": "code",
   "execution_count": null,
   "id": "4b6b5e00-5bf8-4681-9cf4-295e43ab5444",
   "metadata": {},
   "outputs": [],
   "source": []
  },
  {
   "cell_type": "code",
   "execution_count": 11,
   "id": "165c93dc-31c7-471e-a8b6-80939ed751f8",
   "metadata": {},
   "outputs": [
    {
     "data": {
      "text/plain": [
       "6"
      ]
     },
     "execution_count": 11,
     "metadata": {},
     "output_type": "execute_result"
    }
   ],
   "source": [
    "get_dim_empty_skein(T)"
   ]
  },
  {
   "cell_type": "code",
   "execution_count": 25,
   "id": "396d3361-8363-44cd-af3e-dd59803cf9ea",
   "metadata": {},
   "outputs": [
    {
     "data": {
      "text/html": [
       "<div class=\"notruncate\">\n",
       "<table border=\"1\" class=\"table_form\">\n",
       "<tbody>\n",
       "<tr>\n",
       "<th style=\"text-align:left\">\\(0\\)</th>\n",
       "<th style=\"text-align:left\">\\(1\\)</th>\n",
       "<th style=\"text-align:left\">\\(2\\)</th>\n",
       "</tr>\n",
       "<tr class =\"row-a\">\n",
       "<td style=\"text-align:left\">\\(\\left(\\begin{array}{rr}\n",
       "1 & 0 \\\\\n",
       "0 & 1\n",
       "\\end{array}\\right)\\)</td>\n",
       "<td style=\"text-align:left\">\\(1\\)</td>\n",
       "<td style=\"text-align:left\">\\(2\\)</td>\n",
       "</tr>\n",
       "<tr class =\"row-b\">\n",
       "<td style=\"text-align:left\">\\(\\left(\\begin{array}{rr}\n",
       "1 & 1 \\\\\n",
       "0 & 1\n",
       "\\end{array}\\right)\\)</td>\n",
       "<td style=\"text-align:left\">\\(1\\)</td>\n",
       "<td style=\"text-align:left\">\\(3\\)</td>\n",
       "</tr>\n",
       "<tr class =\"row-a\">\n",
       "<td style=\"text-align:left\">\\(\\left(\\begin{array}{rr}\n",
       "1 & 2 \\\\\n",
       "0 & 1\n",
       "\\end{array}\\right)\\)</td>\n",
       "<td style=\"text-align:left\">\\(2\\)</td>\n",
       "<td style=\"text-align:left\">\\(6\\)</td>\n",
       "</tr>\n",
       "<tr class =\"row-b\">\n",
       "<td style=\"text-align:left\">\\(\\left(\\begin{array}{rr}\n",
       "1 & 3 \\\\\n",
       "0 & 1\n",
       "\\end{array}\\right)\\)</td>\n",
       "<td style=\"text-align:left\">\\(3\\)</td>\n",
       "<td style=\"text-align:left\">\\(9\\)</td>\n",
       "</tr>\n",
       "<tr class =\"row-a\">\n",
       "<td style=\"text-align:left\">\\(\\left(\\begin{array}{rr}\n",
       "1 & 4 \\\\\n",
       "0 & 1\n",
       "\\end{array}\\right)\\)</td>\n",
       "<td style=\"text-align:left\">\\(4\\)</td>\n",
       "<td style=\"text-align:left\">\\(12\\)</td>\n",
       "</tr>\n",
       "<tr class =\"row-b\">\n",
       "<td style=\"text-align:left\">\\(\\left(\\begin{array}{rr}\n",
       "1 & 5 \\\\\n",
       "0 & 1\n",
       "\\end{array}\\right)\\)</td>\n",
       "<td style=\"text-align:left\">\\(5\\)</td>\n",
       "<td style=\"text-align:left\">\\(15\\)</td>\n",
       "</tr>\n",
       "<tr class =\"row-a\">\n",
       "<td style=\"text-align:left\">\\(\\left(\\begin{array}{rr}\n",
       "1 & 6 \\\\\n",
       "0 & 1\n",
       "\\end{array}\\right)\\)</td>\n",
       "<td style=\"text-align:left\">\\(6\\)</td>\n",
       "<td style=\"text-align:left\">\\(18\\)</td>\n",
       "</tr>\n",
       "<tr class =\"row-b\">\n",
       "<td style=\"text-align:left\">\\(\\left(\\begin{array}{rr}\n",
       "1 & 7 \\\\\n",
       "0 & 1\n",
       "\\end{array}\\right)\\)</td>\n",
       "<td style=\"text-align:left\">\\(7\\)</td>\n",
       "<td style=\"text-align:left\">\\(21\\)</td>\n",
       "</tr>\n",
       "</tbody>\n",
       "</table>\n",
       "</div>"
      ],
      "text/plain": [
       "┌─────────────┬───┬────┐\n",
       "│ 0           | 1 | 2  |\n",
       "╞═════════════╪═══╪════╡\n",
       "│ [1 0]\n",
       "[0 1] | 1 | 2  |\n",
       "├─────────────┼───┼────┤\n",
       "│ [1 1]\n",
       "[0 1] | 1 | 3  |\n",
       "├─────────────┼───┼────┤\n",
       "│ [1 2]\n",
       "[0 1] | 2 | 6  |\n",
       "├─────────────┼───┼────┤\n",
       "│ [1 3]\n",
       "[0 1] | 3 | 9  |\n",
       "├─────────────┼───┼────┤\n",
       "│ [1 4]\n",
       "[0 1] | 4 | 12 |\n",
       "├─────────────┼───┼────┤\n",
       "│ [1 5]\n",
       "[0 1] | 5 | 15 |\n",
       "├─────────────┼───┼────┤\n",
       "│ [1 6]\n",
       "[0 1] | 6 | 18 |\n",
       "├─────────────┼───┼────┤\n",
       "│ [1 7]\n",
       "[0 1] | 7 | 21 |\n",
       "└─────────────┴───┴────┘"
      ]
     },
     "execution_count": 25,
     "metadata": {},
     "output_type": "execute_result"
    }
   ],
   "source": [
    "Blurange_table([T^k for k in [0,1,2,3,4,5,6,7]],2)"
   ]
  },
  {
   "cell_type": "code",
   "execution_count": 26,
   "id": "9562ffe1-e937-4979-b4af-b0fec4370ba3",
   "metadata": {},
   "outputs": [
    {
     "data": {
      "text/html": [
       "<div class=\"notruncate\">\n",
       "<table border=\"1\" class=\"table_form\">\n",
       "<tbody>\n",
       "<tr class =\"row-a\">\n",
       "<td style=\"text-align:left\">\\(\\left(\\begin{array}{rr}\n",
       "1 & 0 \\\\\n",
       "0 & 1\n",
       "\\end{array}\\right)\\)</td>\n",
       "<td style=\"text-align:left\">\\(5\\)</td>\n",
       "</tr>\n",
       "<tr class =\"row-b\">\n",
       "<td style=\"text-align:left\">\\(\\left(\\begin{array}{rr}\n",
       "1 & 1 \\\\\n",
       "0 & 1\n",
       "\\end{array}\\right)\\)</td>\n",
       "<td style=\"text-align:left\">\\(4\\)</td>\n",
       "</tr>\n",
       "<tr class =\"row-a\">\n",
       "<td style=\"text-align:left\">\\(\\left(\\begin{array}{rr}\n",
       "1 & 2 \\\\\n",
       "0 & 1\n",
       "\\end{array}\\right)\\)</td>\n",
       "<td style=\"text-align:left\">\\(6\\)</td>\n",
       "</tr>\n",
       "<tr class =\"row-b\">\n",
       "<td style=\"text-align:left\">\\(\\left(\\begin{array}{rr}\n",
       "1 & 3 \\\\\n",
       "0 & 1\n",
       "\\end{array}\\right)\\)</td>\n",
       "<td style=\"text-align:left\">\\(5\\)</td>\n",
       "</tr>\n",
       "<tr class =\"row-a\">\n",
       "<td style=\"text-align:left\">\\(\\left(\\begin{array}{rr}\n",
       "1 & 4 \\\\\n",
       "0 & 1\n",
       "\\end{array}\\right)\\)</td>\n",
       "<td style=\"text-align:left\">\\(7\\)</td>\n",
       "</tr>\n",
       "<tr class =\"row-b\">\n",
       "<td style=\"text-align:left\">\\(\\left(\\begin{array}{rr}\n",
       "1 & 5 \\\\\n",
       "0 & 1\n",
       "\\end{array}\\right)\\)</td>\n",
       "<td style=\"text-align:left\">\\(6\\)</td>\n",
       "</tr>\n",
       "<tr class =\"row-a\">\n",
       "<td style=\"text-align:left\">\\(\\left(\\begin{array}{rr}\n",
       "1 & 6 \\\\\n",
       "0 & 1\n",
       "\\end{array}\\right)\\)</td>\n",
       "<td style=\"text-align:left\">\\(8\\)</td>\n",
       "</tr>\n",
       "<tr class =\"row-b\">\n",
       "<td style=\"text-align:left\">\\(\\left(\\begin{array}{rr}\n",
       "1 & 7 \\\\\n",
       "0 & 1\n",
       "\\end{array}\\right)\\)</td>\n",
       "<td style=\"text-align:left\">\\(7\\)</td>\n",
       "</tr>\n",
       "</tbody>\n",
       "</table>\n",
       "</div>"
      ],
      "text/plain": [
       "┌─────────────┬───┐\n",
       "│ [1 0]\n",
       "[0 1] | 5 |\n",
       "├─────────────┼───┤\n",
       "│ [1 1]\n",
       "[0 1] | 4 |\n",
       "├─────────────┼───┤\n",
       "│ [1 2]\n",
       "[0 1] | 6 |\n",
       "├─────────────┼───┤\n",
       "│ [1 3]\n",
       "[0 1] | 5 |\n",
       "├─────────────┼───┤\n",
       "│ [1 4]\n",
       "[0 1] | 7 |\n",
       "├─────────────┼───┤\n",
       "│ [1 5]\n",
       "[0 1] | 6 |\n",
       "├─────────────┼───┤\n",
       "│ [1 6]\n",
       "[0 1] | 8 |\n",
       "├─────────────┼───┤\n",
       "│ [1 7]\n",
       "[0 1] | 7 |\n",
       "└─────────────┴───┘"
      ]
     },
     "execution_count": 26,
     "metadata": {},
     "output_type": "execute_result"
    }
   ],
   "source": [
    "Patrick_dim_GL2_skein_table([T^k for k in [0,1,2,3,4,5,6,7]])"
   ]
  },
  {
   "cell_type": "code",
   "execution_count": 4,
   "id": "7764fa20-4c71-4ea4-a3db-07c7554d81ea",
   "metadata": {},
   "outputs": [
    {
     "data": {
      "text/plain": [
       "[1 0]\n",
       "[1 1]"
      ]
     },
     "execution_count": 4,
     "metadata": {},
     "output_type": "execute_result"
    }
   ],
   "source": [
    "L = SL2Z([1,0,1,1])\n",
    "L"
   ]
  },
  {
   "cell_type": "code",
   "execution_count": 6,
   "id": "6a2ffcdb-1625-4b7f-8c95-8e187bccf409",
   "metadata": {},
   "outputs": [
    {
     "data": {
      "text/html": [
       "<div class=\"notruncate\">\n",
       "<table border=\"1\" class=\"table_form\">\n",
       "<tbody>\n",
       "<tr class =\"row-a\">\n",
       "<td style=\"text-align:left\">\\(\\left(\\begin{array}{rr}\n",
       "1 & 1 \\\\\n",
       "0 & 1\n",
       "\\end{array}\\right)\\)</td>\n",
       "<td style=\"text-align:left\">\\(4\\)</td>\n",
       "</tr>\n",
       "<tr class =\"row-b\">\n",
       "<td style=\"text-align:left\">\\(\\left(\\begin{array}{rr}\n",
       "2 & 1 \\\\\n",
       "1 & 1\n",
       "\\end{array}\\right)\\)</td>\n",
       "<td style=\"text-align:left\">\\(4\\)</td>\n",
       "</tr>\n",
       "<tr class =\"row-a\">\n",
       "<td style=\"text-align:left\">\\(\\left(\\begin{array}{rr}\n",
       "3 & 1 \\\\\n",
       "2 & 1\n",
       "\\end{array}\\right)\\)</td>\n",
       "<td style=\"text-align:left\">\\(6\\)</td>\n",
       "</tr>\n",
       "<tr class =\"row-b\">\n",
       "<td style=\"text-align:left\">\\(\\left(\\begin{array}{rr}\n",
       "4 & 1 \\\\\n",
       "3 & 1\n",
       "\\end{array}\\right)\\)</td>\n",
       "<td style=\"text-align:left\">\\(6\\)</td>\n",
       "</tr>\n",
       "<tr class =\"row-a\">\n",
       "<td style=\"text-align:left\">\\(\\left(\\begin{array}{rr}\n",
       "5 & 1 \\\\\n",
       "4 & 1\n",
       "\\end{array}\\right)\\)</td>\n",
       "<td style=\"text-align:left\">\\(8\\)</td>\n",
       "</tr>\n",
       "<tr class =\"row-b\">\n",
       "<td style=\"text-align:left\">\\(\\left(\\begin{array}{rr}\n",
       "6 & 1 \\\\\n",
       "5 & 1\n",
       "\\end{array}\\right)\\)</td>\n",
       "<td style=\"text-align:left\">\\(8\\)</td>\n",
       "</tr>\n",
       "<tr class =\"row-a\">\n",
       "<td style=\"text-align:left\">\\(\\left(\\begin{array}{rr}\n",
       "7 & 1 \\\\\n",
       "6 & 1\n",
       "\\end{array}\\right)\\)</td>\n",
       "<td style=\"text-align:left\">\\(10\\)</td>\n",
       "</tr>\n",
       "<tr class =\"row-b\">\n",
       "<td style=\"text-align:left\">\\(\\left(\\begin{array}{rr}\n",
       "8 & 1 \\\\\n",
       "7 & 1\n",
       "\\end{array}\\right)\\)</td>\n",
       "<td style=\"text-align:left\">\\(10\\)</td>\n",
       "</tr>\n",
       "<tr class =\"row-a\">\n",
       "<td style=\"text-align:left\">\\(\\left(\\begin{array}{rr}\n",
       "9 & 1 \\\\\n",
       "8 & 1\n",
       "\\end{array}\\right)\\)</td>\n",
       "<td style=\"text-align:left\">\\(12\\)</td>\n",
       "</tr>\n",
       "<tr class =\"row-b\">\n",
       "<td style=\"text-align:left\">\\(\\left(\\begin{array}{rr}\n",
       "10 & 1 \\\\\n",
       "9 & 1\n",
       "\\end{array}\\right)\\)</td>\n",
       "<td style=\"text-align:left\">\\(12\\)</td>\n",
       "</tr>\n",
       "<tr class =\"row-a\">\n",
       "<td style=\"text-align:left\">\\(\\left(\\begin{array}{rr}\n",
       "11 & 1 \\\\\n",
       "10 & 1\n",
       "\\end{array}\\right)\\)</td>\n",
       "<td style=\"text-align:left\">\\(14\\)</td>\n",
       "</tr>\n",
       "</tbody>\n",
       "</table>\n",
       "</div>"
      ],
      "text/plain": [
       "┌─────────────────┬────┐\n",
       "│ [1 1]\n",
       "[0 1]     | 4  |\n",
       "├─────────────────┼────┤\n",
       "│ [2 1]\n",
       "[1 1]     | 4  |\n",
       "├─────────────────┼────┤\n",
       "│ [3 1]\n",
       "[2 1]     | 6  |\n",
       "├─────────────────┼────┤\n",
       "│ [4 1]\n",
       "[3 1]     | 6  |\n",
       "├─────────────────┼────┤\n",
       "│ [5 1]\n",
       "[4 1]     | 8  |\n",
       "├─────────────────┼────┤\n",
       "│ [6 1]\n",
       "[5 1]     | 8  |\n",
       "├─────────────────┼────┤\n",
       "│ [7 1]\n",
       "[6 1]     | 10 |\n",
       "├─────────────────┼────┤\n",
       "│ [8 1]\n",
       "[7 1]     | 10 |\n",
       "├─────────────────┼────┤\n",
       "│ [9 1]\n",
       "[8 1]     | 12 |\n",
       "├─────────────────┼────┤\n",
       "│ [10  1]\n",
       "[ 9  1] | 12 |\n",
       "├─────────────────┼────┤\n",
       "│ [11  1]\n",
       "[10  1] | 14 |\n",
       "└─────────────────┴────┘"
      ]
     },
     "execution_count": 6,
     "metadata": {},
     "output_type": "execute_result"
    }
   ],
   "source": [
    "Patrick_dim_GL2_skein_table([T*L**k for k in [0,1,2,3,4,5,6,7,8,9,10]])"
   ]
  },
  {
   "cell_type": "code",
   "execution_count": 7,
   "id": "46a0da95-07a0-42c5-9ac4-b0d305c8d293",
   "metadata": {},
   "outputs": [
    {
     "data": {
      "text/html": [
       "<div class=\"notruncate\">\n",
       "<table border=\"1\" class=\"table_form\">\n",
       "<tbody>\n",
       "<tr class =\"row-a\">\n",
       "<td style=\"text-align:left\">\\(\\left(\\begin{array}{rr}\n",
       "1 & 2 \\\\\n",
       "0 & 1\n",
       "\\end{array}\\right)\\)</td>\n",
       "<td style=\"text-align:left\">\\(6\\)</td>\n",
       "</tr>\n",
       "<tr class =\"row-b\">\n",
       "<td style=\"text-align:left\">\\(\\left(\\begin{array}{rr}\n",
       "3 & 2 \\\\\n",
       "1 & 1\n",
       "\\end{array}\\right)\\)</td>\n",
       "<td style=\"text-align:left\">\\(6\\)</td>\n",
       "</tr>\n",
       "<tr class =\"row-a\">\n",
       "<td style=\"text-align:left\">\\(\\left(\\begin{array}{rr}\n",
       "5 & 2 \\\\\n",
       "2 & 1\n",
       "\\end{array}\\right)\\)</td>\n",
       "<td style=\"text-align:left\">\\(10\\)</td>\n",
       "</tr>\n",
       "<tr class =\"row-b\">\n",
       "<td style=\"text-align:left\">\\(\\left(\\begin{array}{rr}\n",
       "7 & 2 \\\\\n",
       "3 & 1\n",
       "\\end{array}\\right)\\)</td>\n",
       "<td style=\"text-align:left\">\\(10\\)</td>\n",
       "</tr>\n",
       "<tr class =\"row-a\">\n",
       "<td style=\"text-align:left\">\\(\\left(\\begin{array}{rr}\n",
       "9 & 2 \\\\\n",
       "4 & 1\n",
       "\\end{array}\\right)\\)</td>\n",
       "<td style=\"text-align:left\">\\(14\\)</td>\n",
       "</tr>\n",
       "<tr class =\"row-b\">\n",
       "<td style=\"text-align:left\">\\(\\left(\\begin{array}{rr}\n",
       "11 & 2 \\\\\n",
       "5 & 1\n",
       "\\end{array}\\right)\\)</td>\n",
       "<td style=\"text-align:left\">\\(14\\)</td>\n",
       "</tr>\n",
       "<tr class =\"row-a\">\n",
       "<td style=\"text-align:left\">\\(\\left(\\begin{array}{rr}\n",
       "13 & 2 \\\\\n",
       "6 & 1\n",
       "\\end{array}\\right)\\)</td>\n",
       "<td style=\"text-align:left\">\\(18\\)</td>\n",
       "</tr>\n",
       "<tr class =\"row-b\">\n",
       "<td style=\"text-align:left\">\\(\\left(\\begin{array}{rr}\n",
       "15 & 2 \\\\\n",
       "7 & 1\n",
       "\\end{array}\\right)\\)</td>\n",
       "<td style=\"text-align:left\">\\(18\\)</td>\n",
       "</tr>\n",
       "<tr class =\"row-a\">\n",
       "<td style=\"text-align:left\">\\(\\left(\\begin{array}{rr}\n",
       "17 & 2 \\\\\n",
       "8 & 1\n",
       "\\end{array}\\right)\\)</td>\n",
       "<td style=\"text-align:left\">\\(22\\)</td>\n",
       "</tr>\n",
       "<tr class =\"row-b\">\n",
       "<td style=\"text-align:left\">\\(\\left(\\begin{array}{rr}\n",
       "19 & 2 \\\\\n",
       "9 & 1\n",
       "\\end{array}\\right)\\)</td>\n",
       "<td style=\"text-align:left\">\\(22\\)</td>\n",
       "</tr>\n",
       "<tr class =\"row-a\">\n",
       "<td style=\"text-align:left\">\\(\\left(\\begin{array}{rr}\n",
       "21 & 2 \\\\\n",
       "10 & 1\n",
       "\\end{array}\\right)\\)</td>\n",
       "<td style=\"text-align:left\">\\(26\\)</td>\n",
       "</tr>\n",
       "</tbody>\n",
       "</table>\n",
       "</div>"
      ],
      "text/plain": [
       "┌─────────────────┬────┐\n",
       "│ [1 2]\n",
       "[0 1]     | 6  |\n",
       "├─────────────────┼────┤\n",
       "│ [3 2]\n",
       "[1 1]     | 6  |\n",
       "├─────────────────┼────┤\n",
       "│ [5 2]\n",
       "[2 1]     | 10 |\n",
       "├─────────────────┼────┤\n",
       "│ [7 2]\n",
       "[3 1]     | 10 |\n",
       "├─────────────────┼────┤\n",
       "│ [9 2]\n",
       "[4 1]     | 14 |\n",
       "├─────────────────┼────┤\n",
       "│ [11  2]\n",
       "[ 5  1] | 14 |\n",
       "├─────────────────┼────┤\n",
       "│ [13  2]\n",
       "[ 6  1] | 18 |\n",
       "├─────────────────┼────┤\n",
       "│ [15  2]\n",
       "[ 7  1] | 18 |\n",
       "├─────────────────┼────┤\n",
       "│ [17  2]\n",
       "[ 8  1] | 22 |\n",
       "├─────────────────┼────┤\n",
       "│ [19  2]\n",
       "[ 9  1] | 22 |\n",
       "├─────────────────┼────┤\n",
       "│ [21  2]\n",
       "[10  1] | 26 |\n",
       "└─────────────────┴────┘"
      ]
     },
     "execution_count": 7,
     "metadata": {},
     "output_type": "execute_result"
    }
   ],
   "source": [
    "Patrick_dim_GL2_skein_table([T**2*L**k for k in [0,1,2,3,4,5,6,7,8,9,10]])"
   ]
  },
  {
   "cell_type": "code",
   "execution_count": 9,
   "id": "6d28e507-9062-464c-8d67-5f64429de573",
   "metadata": {},
   "outputs": [
    {
     "data": {
      "text/plain": [
       "16"
      ]
     },
     "execution_count": 9,
     "metadata": {},
     "output_type": "execute_result"
    }
   ],
   "source": [
    "dim_skeinmod(T**2*L**4 ,2)"
   ]
  },
  {
   "cell_type": "code",
   "execution_count": 16,
   "id": "6cf5ba4d-71d1-42ae-828b-e4ffbf2c0ad6",
   "metadata": {},
   "outputs": [
    {
     "data": {
      "text/plain": [
       "6"
      ]
     },
     "execution_count": 16,
     "metadata": {},
     "output_type": "execute_result"
    }
   ],
   "source": [
    "gamma = S*T\n",
    "gamma.order()"
   ]
  },
  {
   "cell_type": "markdown",
   "id": "230ddf6a-7ce4-439d-a567-e5e713cc0f8d",
   "metadata": {},
   "source": [
    "Trying some stuff with generating functions."
   ]
  },
  {
   "cell_type": "markdown",
   "id": "ea16f828-543d-4031-bc43-c923ee957369",
   "metadata": {},
   "source": [
    "22/11 poging 2"
   ]
  },
  {
   "cell_type": "code",
   "execution_count": 4,
   "id": "692cd8a7-cb85-4e65-82cb-702b5d9fda34",
   "metadata": {},
   "outputs": [],
   "source": [
    "P.<t> = LazyPowerSeriesRing(QQ) \n",
    "f = P()"
   ]
  },
  {
   "cell_type": "code",
   "execution_count": 5,
   "id": "0c41e801-a094-41a5-bc50-c5e661218b0e",
   "metadata": {},
   "outputs": [
    {
     "data": {
      "text/plain": [
       "[0,\n",
       " 1,\n",
       " t + 1/2*t^2 + 1/2*t^3 + 1/2*t^4 + O(t^5),\n",
       " -12 - 8*t + t^2 + t^3,\n",
       " 1 + t - 2*t^2 - 7*t^3 - t^4 + 20*t^5 + 23*t^6 + O(t^7),\n",
       " t + 4*t^2 + 9*t^3 + 16*t^4 + 25*t^5 + 36*t^6 + O(t^7)]"
      ]
     },
     "execution_count": 5,
     "metadata": {},
     "output_type": "execute_result"
    }
   ],
   "source": [
    "P.some_elements()"
   ]
  },
  {
   "cell_type": "code",
   "execution_count": 6,
   "id": "c4fb6651-72b9-466f-998e-6df447a96456",
   "metadata": {},
   "outputs": [
    {
     "data": {
      "text/plain": [
       "1 + t + 3*t^2 + 6*t^3 + 14*t^4 + 25*t^5 + 56*t^6 + O(t^7)"
      ]
     },
     "execution_count": 6,
     "metadata": {},
     "output_type": "execute_result"
    }
   ],
   "source": [
    "euler = P.prod(lambda n: 1 - n*t^n, PositiveIntegers())\n",
    "1/euler"
   ]
  },
  {
   "cell_type": "code",
   "execution_count": 7,
   "id": "864216f3-1225-40c7-9eb5-a4fa0e07c33e",
   "metadata": {},
   "outputs": [
    {
     "data": {
      "text/plain": [
       "1 + t + 3*t^2 + 6*t^3 + 12*t^4 + 23*t^5 + 42*t^6 + O(t^7)"
      ]
     },
     "execution_count": 7,
     "metadata": {},
     "output_type": "execute_result"
    }
   ],
   "source": [
    "L = P.prod(lambda n: 1 + n*t^n/(1-t^n), PositiveIntegers())\n",
    "L\n"
   ]
  },
  {
   "cell_type": "code",
   "execution_count": 8,
   "id": "bb8899c4-0b9a-47b8-ace0-a5455f72795b",
   "metadata": {},
   "outputs": [
    {
     "data": {
      "text/plain": [
       "1 + 2*t + 6*t^2 + 16*t^3 + 34*t^4 + 80*t^5 + 168*t^6 + O(t^7)"
      ]
     },
     "execution_count": 8,
     "metadata": {},
     "output_type": "execute_result"
    }
   ],
   "source": [
    "L = P.prod(lambda n: 1 + 2*n*t^n/(1-t^n), PositiveIntegers())\n",
    "L\n"
   ]
  },
  {
   "cell_type": "code",
   "execution_count": 9,
   "id": "028158ea-1a3f-460b-a642-82e0f56289b2",
   "metadata": {},
   "outputs": [
    {
     "data": {
      "text/plain": [
       "1 + 3*t + 9*t^2 + 30*t^3 + 66*t^4 + 171*t^5 + 414*t^6 + O(t^7)"
      ]
     },
     "execution_count": 9,
     "metadata": {},
     "output_type": "execute_result"
    }
   ],
   "source": [
    "L = P.prod(lambda n: 1 + 3*n*t^n/(1-t^n), PositiveIntegers())\n",
    "L\n"
   ]
  },
  {
   "cell_type": "code",
   "execution_count": 10,
   "id": "d733d998-b367-40d5-8dea-a1cda9466c74",
   "metadata": {},
   "outputs": [
    {
     "data": {
      "text/html": [
       "<div class=\"notruncate\">\n",
       "<table border=\"1\" class=\"table_form\">\n",
       "<tbody>\n",
       "<tr>\n",
       "<th style=\"text-align:left\">\\(0\\)</th>\n",
       "<th style=\"text-align:left\">\\(1\\)</th>\n",
       "<th style=\"text-align:left\">\\(2\\)</th>\n",
       "<th style=\"text-align:left\">\\(3\\)</th>\n",
       "<th style=\"text-align:left\">\\(4\\)</th>\n",
       "<th style=\"text-align:left\">\\(5\\)</th>\n",
       "<th style=\"text-align:left\">\\(6\\)</th>\n",
       "<th style=\"text-align:left\">\\(7\\)</th>\n",
       "</tr>\n",
       "<tr class =\"row-a\">\n",
       "<td style=\"text-align:left\">\\(\\left(\\begin{array}{rr}\n",
       "1 & 0 \\\\\n",
       "0 & 1\n",
       "\\end{array}\\right)\\)</td>\n",
       "<td style=\"text-align:left\">\\(1\\)</td>\n",
       "<td style=\"text-align:left\">\\(2\\)</td>\n",
       "<td style=\"text-align:left\">\\(3\\)</td>\n",
       "<td style=\"text-align:left\">\\(5\\)</td>\n",
       "<td style=\"text-align:left\">\\(7\\)</td>\n",
       "<td style=\"text-align:left\">\\(11\\)</td>\n",
       "<td style=\"text-align:left\">\\(15\\)</td>\n",
       "</tr>\n",
       "<tr class =\"row-b\">\n",
       "<td style=\"text-align:left\">\\(\\left(\\begin{array}{rr}\n",
       "1 & 1 \\\\\n",
       "0 & 1\n",
       "\\end{array}\\right)\\)</td>\n",
       "<td style=\"text-align:left\">\\(1\\)</td>\n",
       "<td style=\"text-align:left\">\\(3\\)</td>\n",
       "<td style=\"text-align:left\">\\(6\\)</td>\n",
       "<td style=\"text-align:left\">\\(12\\)</td>\n",
       "<td style=\"text-align:left\">\\(23\\)</td>\n",
       "<td style=\"text-align:left\">\\(42\\)</td>\n",
       "<td style=\"text-align:left\">\\(77\\)</td>\n",
       "</tr>\n",
       "<tr class =\"row-a\">\n",
       "<td style=\"text-align:left\">\\(\\left(\\begin{array}{rr}\n",
       "1 & 2 \\\\\n",
       "0 & 1\n",
       "\\end{array}\\right)\\)</td>\n",
       "<td style=\"text-align:left\">\\(2\\)</td>\n",
       "<td style=\"text-align:left\">\\(6\\)</td>\n",
       "<td style=\"text-align:left\">\\(16\\)</td>\n",
       "<td style=\"text-align:left\">\\(34\\)</td>\n",
       "<td style=\"text-align:left\">\\(80\\)</td>\n",
       "<td style=\"text-align:left\">\\(168\\)</td>\n",
       "<td style=\"text-align:left\">\\(348\\)</td>\n",
       "</tr>\n",
       "<tr class =\"row-b\">\n",
       "<td style=\"text-align:left\">\\(\\left(\\begin{array}{rr}\n",
       "1 & 3 \\\\\n",
       "0 & 1\n",
       "\\end{array}\\right)\\)</td>\n",
       "<td style=\"text-align:left\">\\(3\\)</td>\n",
       "<td style=\"text-align:left\">\\(9\\)</td>\n",
       "<td style=\"text-align:left\">\\(30\\)</td>\n",
       "<td style=\"text-align:left\">\\(66\\)</td>\n",
       "<td style=\"text-align:left\">\\(171\\)</td>\n",
       "<td style=\"text-align:left\">\\(414\\)</td>\n",
       "<td style=\"text-align:left\">\\(897\\)</td>\n",
       "</tr>\n",
       "</tbody>\n",
       "</table>\n",
       "</div>"
      ],
      "text/plain": [
       "┌─────────────┬───┬───┬────┬────┬─────┬─────┬─────┐\n",
       "│ 0           | 1 | 2 | 3  | 4  | 5   | 6   | 7   |\n",
       "╞═════════════╪═══╪═══╪════╪════╪═════╪═════╪═════╡\n",
       "│ [1 0]\n",
       "[0 1] | 1 | 2 | 3  | 5  | 7   | 11  | 15  |\n",
       "├─────────────┼───┼───┼────┼────┼─────┼─────┼─────┤\n",
       "│ [1 1]\n",
       "[0 1] | 1 | 3 | 6  | 12 | 23  | 42  | 77  |\n",
       "├─────────────┼───┼───┼────┼────┼─────┼─────┼─────┤\n",
       "│ [1 2]\n",
       "[0 1] | 2 | 6 | 16 | 34 | 80  | 168 | 348 |\n",
       "├─────────────┼───┼───┼────┼────┼─────┼─────┼─────┤\n",
       "│ [1 3]\n",
       "[0 1] | 3 | 9 | 30 | 66 | 171 | 414 | 897 |\n",
       "└─────────────┴───┴───┴────┴────┴─────┴─────┴─────┘"
      ]
     },
     "execution_count": 10,
     "metadata": {},
     "output_type": "execute_result"
    }
   ],
   "source": [
    "Blurange_table([T^k for k in [0,1,2,3]],7)"
   ]
  },
  {
   "cell_type": "markdown",
   "id": "840fb6cb-cfb1-497a-8703-d3ffdffc8b6b",
   "metadata": {},
   "source": [
    "Conclusion: generating function for gamma = T^k, GL_m-skein modules (so take_coinv=True) is product from n = 1 to infinity 1 + k*n*t^n/(1-t^n)"
   ]
  },
  {
   "cell_type": "code",
   "execution_count": 16,
   "id": "68acb1ac-955d-40a4-99a6-361efd9badb4",
   "metadata": {},
   "outputs": [
    {
     "data": {
      "text/plain": [
       "\u001b[0;31mInit signature:\u001b[0m \u001b[0mLazyPowerSeriesRing\u001b[0m\u001b[0;34m(\u001b[0m\u001b[0mbase_ring\u001b[0m\u001b[0;34m,\u001b[0m \u001b[0mnames\u001b[0m\u001b[0;34m,\u001b[0m \u001b[0msparse\u001b[0m\u001b[0;34m=\u001b[0m\u001b[0;32mTrue\u001b[0m\u001b[0;34m,\u001b[0m \u001b[0mcategory\u001b[0m\u001b[0;34m=\u001b[0m\u001b[0;32mNone\u001b[0m\u001b[0;34m)\u001b[0m\u001b[0;34m\u001b[0m\u001b[0;34m\u001b[0m\u001b[0m\n",
       "\u001b[0;31mDocstring:\u001b[0m     \n",
       "   The ring of (possibly multivariate) lazy Taylor series.\n",
       "\n",
       "   INPUT:\n",
       "\n",
       "   * \"base_ring\" -- base ring of this Taylor series ring\n",
       "\n",
       "   * \"names\" -- name(s) of the generator of this Taylor series ring\n",
       "\n",
       "   * \"sparse\" -- (default: \"True\") whether this series is sparse or\n",
       "     not\n",
       "\n",
       "   EXAMPLES:\n",
       "\n",
       "      sage: LazyPowerSeriesRing(ZZ, 't')\n",
       "      Lazy Taylor Series Ring in t over Integer Ring\n",
       "\n",
       "      sage: L.<x, y> = LazyPowerSeriesRing(QQ); L\n",
       "      Multivariate Lazy Taylor Series Ring in x, y over Rational Field\n",
       "\u001b[0;31mInit docstring:\u001b[0m    Initialize \"self\".\n",
       "\u001b[0;31mFile:\u001b[0m           /home/sage/sage/local/var/lib/sage/venv-python3.11.1/lib/python3.11/site-packages/sage/rings/lazy_series_ring.py\n",
       "\u001b[0;31mType:\u001b[0m           ClasscallMetaclass\n",
       "\u001b[0;31mSubclasses:\u001b[0m     LazyPowerSeriesRing_with_category"
      ]
     },
     "metadata": {},
     "output_type": "display_data"
    }
   ],
   "source": [
    "LazyPowerSeriesRing(QQ)?"
   ]
  }
 ],
 "metadata": {
  "kernelspec": {
   "display_name": "SageMath 10.3",
   "language": "sage",
   "name": "sagemath"
  },
  "language_info": {
   "codemirror_mode": {
    "name": "ipython",
    "version": 3
   },
   "file_extension": ".py",
   "mimetype": "text/x-python",
   "name": "python",
   "nbconvert_exporter": "python",
   "pygments_lexer": "ipython3",
   "version": "3.11.9"
  }
 },
 "nbformat": 4,
 "nbformat_minor": 5
}
