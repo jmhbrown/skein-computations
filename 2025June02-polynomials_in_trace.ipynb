{
 "cells": [
  {
   "cell_type": "code",
   "execution_count": 1,
   "id": "aa276bf6-25a0-4b5b-9b88-3ba19811d8b2",
   "metadata": {},
   "outputs": [],
   "source": [
    "x,y = PolynomialRing(QQ,['x','y']).gens()"
   ]
  },
  {
   "cell_type": "code",
   "execution_count": 2,
   "id": "73dd0b14-049b-4a11-bef8-4f1e26bb01b9",
   "metadata": {},
   "outputs": [],
   "source": [
    "def trace_polynomial(k):\n",
    "    #tr(A^k) expressed in terms of tr(A) =: x\n",
    "    if k == 1:\n",
    "        result = x\n",
    "    elif k==2:\n",
    "        result = x^2-2\n",
    "    else: result = trace_polynomial(k-1)*x-trace_polynomial(k-2)\n",
    "    return result"
   ]
  },
  {
   "cell_type": "code",
   "execution_count": 3,
   "id": "ba037681-a375-4980-9fe0-aa86ef06fec3",
   "metadata": {},
   "outputs": [],
   "source": [
    "def Monica_polynomial(m):\n",
    "    #Contribution for m-cycle written as polynomial in x where x = tr(A)\n",
    "    result = 0\n",
    "    for d in divisors(m):\n",
    "        result = result + euler_phi(m/d)*trace_polynomial(d)\n",
    "    result= result/m\n",
    "    result = result -2\n",
    "    return result"
   ]
  },
  {
   "cell_type": "code",
   "execution_count": 4,
   "id": "3c03a9f1-100d-486c-8807-2ff52219f88a",
   "metadata": {},
   "outputs": [],
   "source": [
    "def Monica_poly_red(m):\n",
    "    #Contribution for m-cycle written as polynomial in x where x = tr(A), but now only the sum phi(m/r)tr(A^r) part\n",
    "    result = 0\n",
    "    for d in divisors(m):\n",
    "        result = result + euler_phi(m/d)*trace_polynomial(d)\n",
    "    return result"
   ]
  },
  {
   "cell_type": "code",
   "execution_count": 5,
   "id": "9e3221e8-31d0-4c57-a2ee-ec1e05abf886",
   "metadata": {},
   "outputs": [],
   "source": [
    "def Monica_poly_shifted(m): \n",
    "    #Contribution for m-cycle written as polynomial in y where y = tr(A)-2\n",
    "    p =Monica_polynomial(m)\n",
    "    p_in_y = p(x = y + 2)\n",
    "    return p_in_y"
   ]
  },
  {
   "cell_type": "code",
   "execution_count": 6,
   "id": "6611d379-bf19-4244-bf12-afab576ceb51",
   "metadata": {},
   "outputs": [],
   "source": [
    "def Monica_poly_red_shifted(m):\n",
    "     #Contribution for m-cycle written as polynomial in y where y = tr(A)-2, but now only the sum phi(m/r)tr(A^r) part\n",
    "    p =Monica_poly_red(m)\n",
    "    p_in_y = p(x = y + 2)\n",
    "    return p_in_y"
   ]
  },
  {
   "cell_type": "code",
   "execution_count": 7,
   "id": "083faee5-a3c6-4be3-8dfd-86d688c6de0e",
   "metadata": {},
   "outputs": [
    {
     "name": "stdout",
     "output_type": "stream",
     "text": [
      "1 , x - 2\n",
      "2 , 1/2*x^2 + 1/2*x - 3\n",
      "3 , 1/3*x^3 - 1/3*x - 2\n",
      "4 , 1/4*x^4 - 3/4*x^2 + 1/2*x - 2\n",
      "5 , 1/5*x^5 - x^3 + 9/5*x - 2\n",
      "6 , 1/6*x^6 - x^4 + 1/6*x^3 + 11/6*x^2 - 1/6*x - 3\n",
      "7 , 1/7*x^7 - x^5 + 2*x^3 - 1/7*x - 2\n",
      "8 , 1/8*x^8 - x^6 + 21/8*x^4 - 9/4*x^2 + 1/2*x - 2\n",
      "9 , 1/9*x^9 - x^7 + 3*x^5 - 28/9*x^3 + x - 2\n",
      "10 , 1/10*x^10 - x^8 + 7/2*x^6 + 1/10*x^5 - 5*x^4 - 1/2*x^3 + 29/10*x^2 + 9/10*x - 3\n"
     ]
    }
   ],
   "source": [
    "for k in range(1,11):\n",
    "    print(k,',',Monica_polynomial(k))"
   ]
  },
  {
   "cell_type": "code",
   "execution_count": 8,
   "id": "93f3a2c3-b2c9-4758-82af-2043b711e945",
   "metadata": {},
   "outputs": [
    {
     "name": "stdout",
     "output_type": "stream",
     "text": [
      "1 , x - 2\n",
      "2 , (1/2) * (x - 2) * (x + 3)\n",
      "3 , (1/3) * (x - 2) * (x^2 + 2*x + 3)\n",
      "4 , (1/4) * (x - 2) * (x^3 + 2*x^2 + x + 4)\n",
      "5 , (1/5) * (x - 2) * (x^4 + 2*x^3 - x^2 - 2*x + 5)\n",
      "6 , (1/6) * (x - 2) * (x^5 + 2*x^4 - 2*x^3 - 3*x^2 + 5*x + 9)\n",
      "7 , (1/7) * (x - 2) * (x^6 + 2*x^5 - 3*x^4 - 6*x^3 + 2*x^2 + 4*x + 7)\n",
      "8 , (1/8) * (x - 2) * (x^7 + 2*x^6 - 4*x^5 - 8*x^4 + 5*x^3 + 10*x^2 + 2*x + 8)\n",
      "9 , (1/9) * (x - 2) * (x^8 + 2*x^7 - 5*x^6 - 10*x^5 + 7*x^4 + 14*x^3 + 9)\n",
      "10 , (1/10) * (x - 2) * (x^9 + 2*x^8 - 6*x^7 - 12*x^6 + 11*x^5 + 23*x^4 - 4*x^3 - 13*x^2 + 3*x + 15)\n"
     ]
    }
   ],
   "source": [
    "for k in range(1,11):\n",
    "    print(k,',',Monica_polynomial(k).factor())"
   ]
  },
  {
   "cell_type": "code",
   "execution_count": 9,
   "id": "2beabe5f-cc5f-42fb-908d-3f5bb0c5a75f",
   "metadata": {},
   "outputs": [
    {
     "name": "stdout",
     "output_type": "stream",
     "text": [
      "1 , x\n",
      "2 , x^2 + x - 2\n",
      "3 , x^3 - x\n",
      "4 , x^4 - 3*x^2 + 2*x\n",
      "5 , x^5 - 5*x^3 + 9*x\n",
      "6 , x^6 - 6*x^4 + x^3 + 11*x^2 - x - 6\n",
      "7 , x^7 - 7*x^5 + 14*x^3 - x\n",
      "8 , x^8 - 8*x^6 + 21*x^4 - 18*x^2 + 4*x\n",
      "9 , x^9 - 9*x^7 + 27*x^5 - 28*x^3 + 9*x\n",
      "10 , x^10 - 10*x^8 + 35*x^6 + x^5 - 50*x^4 - 5*x^3 + 29*x^2 + 9*x - 10\n"
     ]
    }
   ],
   "source": [
    "for k in range(1,11):\n",
    "    print(k,',',Monica_poly_red(k))"
   ]
  },
  {
   "cell_type": "code",
   "execution_count": 10,
   "id": "a3b11798-df65-4643-b6c4-38f0ae4aa657",
   "metadata": {},
   "outputs": [
    {
     "name": "stdout",
     "output_type": "stream",
     "text": [
      "1 , x\n",
      "2 , (x - 1) * (x + 2)\n",
      "3 , x * (x - 1) * (x + 1)\n",
      "4 , x * (x + 2) * (x - 1)^2\n",
      "5 , x * (x^4 - 5*x^2 + 9)\n",
      "6 , (x - 1) * (x + 1) * (x + 2) * (x^3 - 2*x^2 - x + 3)\n",
      "7 , x * (x^6 - 7*x^4 + 14*x^2 - 1)\n",
      "8 , x * (x - 1) * (x + 2) * (x^5 - x^4 - 5*x^3 + 3*x^2 + 8*x - 2)\n",
      "9 , x * (x - 1) * (x + 1) * (x^6 - 8*x^4 + 19*x^2 - 9)\n",
      "10 , (x - 1) * (x + 2) * (x^2 + x - 1) * (x^6 - 2*x^5 - 4*x^4 + 7*x^3 + 5*x^2 - 3*x - 5)\n"
     ]
    }
   ],
   "source": [
    "for k in range(1,11):\n",
    "    print(k,',',Monica_poly_red(k).factor())"
   ]
  },
  {
   "cell_type": "code",
   "execution_count": 11,
   "id": "3b71e4c4-9602-41d2-b8be-88d9f839b87e",
   "metadata": {},
   "outputs": [
    {
     "name": "stdout",
     "output_type": "stream",
     "text": [
      "1 , y\n",
      "2 , 1/2*y^2 + 5/2*y\n",
      "3 , 1/3*y^3 + 2*y^2 + 11/3*y\n",
      "4 , 1/4*y^4 + 2*y^3 + 21/4*y^2 + 11/2*y\n",
      "5 , 1/5*y^5 + 2*y^4 + 7*y^3 + 10*y^2 + 29/5*y\n",
      "6 , 1/6*y^6 + 2*y^5 + 9*y^4 + 113/6*y^3 + 113/6*y^2 + 55/6*y\n",
      "7 , 1/7*y^7 + 2*y^6 + 11*y^5 + 30*y^4 + 42*y^3 + 28*y^2 + 55/7*y\n",
      "8 , 1/8*y^8 + 2*y^7 + 13*y^6 + 44*y^5 + 661/8*y^4 + 85*y^3 + 179/4*y^2 + 23/2*y\n",
      "9 , 1/9*y^9 + 2*y^8 + 15*y^7 + 182/3*y^6 + 143*y^5 + 198*y^4 + 1388/9*y^3 + 184/3*y^2 + 35/3*y\n",
      "10 , 1/10*y^10 + 2*y^9 + 17*y^8 + 80*y^7 + 455/2*y^6 + 801/2*y^5 + 430*y^4 + 535/2*y^3 + 879/10*y^2 + 29/2*y\n"
     ]
    }
   ],
   "source": [
    "for k in range(1,11):\n",
    "    print(k,',',Monica_poly_shifted(k))"
   ]
  },
  {
   "cell_type": "code",
   "execution_count": 12,
   "id": "8916be80-32d8-4cdc-95e4-917f26751214",
   "metadata": {},
   "outputs": [
    {
     "name": "stdout",
     "output_type": "stream",
     "text": [
      "1 , y\n",
      "2 , (1/2) * y * (y + 5)\n",
      "3 , (1/3) * y * (y^2 + 6*y + 11)\n",
      "4 , (1/4) * y * (y^3 + 8*y^2 + 21*y + 22)\n",
      "5 , (1/5) * y * (y^4 + 10*y^3 + 35*y^2 + 50*y + 29)\n",
      "6 , (1/6) * y * (y^5 + 12*y^4 + 54*y^3 + 113*y^2 + 113*y + 55)\n",
      "7 , (1/7) * y * (y^6 + 14*y^5 + 77*y^4 + 210*y^3 + 294*y^2 + 196*y + 55)\n",
      "8 , (1/8) * y * (y^7 + 16*y^6 + 104*y^5 + 352*y^4 + 661*y^3 + 680*y^2 + 358*y + 92)\n",
      "9 , (1/9) * y * (y^8 + 18*y^7 + 135*y^6 + 546*y^5 + 1287*y^4 + 1782*y^3 + 1388*y^2 + 552*y + 105)\n",
      "10 , (1/10) * y * (y^9 + 20*y^8 + 170*y^7 + 800*y^6 + 2275*y^5 + 4005*y^4 + 4300*y^3 + 2675*y^2 + 879*y + 145)\n"
     ]
    }
   ],
   "source": [
    "for k in range(1,11):\n",
    "    print(k,',',Monica_poly_shifted(k).factor())"
   ]
  },
  {
   "cell_type": "code",
   "execution_count": 13,
   "id": "8718258d-fc74-4e7f-a00e-da5525a1b5f5",
   "metadata": {},
   "outputs": [
    {
     "name": "stdout",
     "output_type": "stream",
     "text": [
      "1 , y + 2\n",
      "2 , y^2 + 5*y + 4\n",
      "3 , y^3 + 6*y^2 + 11*y + 6\n",
      "4 , y^4 + 8*y^3 + 21*y^2 + 22*y + 8\n",
      "5 , y^5 + 10*y^4 + 35*y^3 + 50*y^2 + 29*y + 10\n",
      "6 , y^6 + 12*y^5 + 54*y^4 + 113*y^3 + 113*y^2 + 55*y + 12\n",
      "7 , y^7 + 14*y^6 + 77*y^5 + 210*y^4 + 294*y^3 + 196*y^2 + 55*y + 14\n",
      "8 , y^8 + 16*y^7 + 104*y^6 + 352*y^5 + 661*y^4 + 680*y^3 + 358*y^2 + 92*y + 16\n",
      "9 , y^9 + 18*y^8 + 135*y^7 + 546*y^6 + 1287*y^5 + 1782*y^4 + 1388*y^3 + 552*y^2 + 105*y + 18\n",
      "10 , y^10 + 20*y^9 + 170*y^8 + 800*y^7 + 2275*y^6 + 4005*y^5 + 4300*y^4 + 2675*y^3 + 879*y^2 + 145*y + 20\n"
     ]
    }
   ],
   "source": [
    "for k in range(1,11):\n",
    "    print(k,',',Monica_poly_red_shifted(k))"
   ]
  },
  {
   "cell_type": "code",
   "execution_count": 14,
   "id": "43c7e71a-ab7a-46b3-a2d6-0d9f187a6f3e",
   "metadata": {},
   "outputs": [
    {
     "name": "stdout",
     "output_type": "stream",
     "text": [
      "1 , y + 2\n",
      "2 , (y + 1) * (y + 4)\n",
      "3 , (y + 1) * (y + 2) * (y + 3)\n",
      "4 , (y + 2) * (y + 4) * (y + 1)^2\n",
      "5 , (y + 2) * (y^4 + 8*y^3 + 19*y^2 + 12*y + 5)\n",
      "6 , (y + 1) * (y + 3) * (y + 4) * (y^3 + 4*y^2 + 3*y + 1)\n",
      "7 , (y + 2) * (y^6 + 12*y^5 + 53*y^4 + 104*y^3 + 86*y^2 + 24*y + 7)\n",
      "8 , (y + 1) * (y + 2) * (y + 4) * (y^5 + 9*y^4 + 27*y^3 + 29*y^2 + 8*y + 2)\n",
      "9 , (y + 1) * (y + 2) * (y + 3) * (y^6 + 12*y^5 + 52*y^4 + 96*y^3 + 67*y^2 + 12*y + 3)\n",
      "10 , (y + 1) * (y + 4) * (y^2 + 5*y + 5) * (y^6 + 10*y^5 + 36*y^4 + 55*y^3 + 31*y^2 + 5*y + 1)\n"
     ]
    }
   ],
   "source": [
    "for k in range(1,11):\n",
    "    print(k,',',Monica_poly_red_shifted(k).factor())"
   ]
  }
 ],
 "metadata": {
  "kernelspec": {
   "display_name": "SageMath 10.3",
   "language": "sage",
   "name": "sagemath"
  },
  "language_info": {
   "codemirror_mode": {
    "name": "ipython",
    "version": 3
   },
   "file_extension": ".py",
   "mimetype": "text/x-python",
   "name": "python",
   "nbconvert_exporter": "python",
   "pygments_lexer": "ipython3",
   "version": "3.11.9"
  }
 },
 "nbformat": 4,
 "nbformat_minor": 5
}
