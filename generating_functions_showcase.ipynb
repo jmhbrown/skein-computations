{
 "cells": [
  {
   "cell_type": "code",
   "execution_count": 1,
   "id": "ffe9d241-f315-49b5-8aae-6a3bbe1a52d4",
   "metadata": {},
   "outputs": [],
   "source": [
    "Q.<t> = LazyPowerSeriesRing(SR) #tell sage we're working with powerseries in t, where coefficients can be symbols (SR = symbolic ring)"
   ]
  },
  {
   "cell_type": "code",
   "execution_count": 2,
   "id": "728850d3-bb48-41dd-8582-15d0f18be578",
   "metadata": {},
   "outputs": [],
   "source": [
    "def solve_for_ansatz_v2(N): # input N is the highest power of t we want to consider\n",
    "    c = var(['c{}'.format(i-1) for i in range(1, N+2)]) # create the variables c_i (such that c_i = c[i])\n",
    "    D = var('D') # variable D, stand-in for |det(gamma-I)|\n",
    "    h = Q.prod(lambda n: 1 + D*t^n/(1-t^n), PositiveIntegers()) # our generating function for generic gamma\n",
    "    G = Q.prod(lambda n: ((1 - t**n)**(-1))**(c[n]), range(1, N+1)) # the ansatz, product up to and including N\n",
    "    eqs = [h[k] == G[k] for k in range(0,N+1)] # equating the coefficients\n",
    "    return solve(eqs,c) #solve for c_i"
   ]
  },
  {
   "cell_type": "code",
   "execution_count": 3,
   "id": "788b1b33-2514-4e76-a8db-32acec869201",
   "metadata": {},
   "outputs": [],
   "source": [
    "sols = solve_for_ansatz_v2(10) #example for N =10"
   ]
  },
  {
   "cell_type": "code",
   "execution_count": 4,
   "id": "7cab62b6-91d4-463a-aaca-f2f25ad157d0",
   "metadata": {},
   "outputs": [
    {
     "data": {
      "text/plain": [
       "[[c0 == r1, c1 == D, c2 == -1/2*D^2 + 3/2*D, c3 == 1/3*D^3 - D^2 + 5/3*D, c4 == -1/4*D^4 + D^3 - 7/4*D^2 + 2*D, c5 == 1/5*D^5 - D^4 + 2*D^3 - 2*D^2 + 9/5*D, c6 == -1/6*D^6 + D^5 - 5/2*D^4 + 7/2*D^3 - 10/3*D^2 + 5/2*D, c7 == 1/7*D^7 - D^6 + 3*D^5 - 5*D^4 + 5*D^3 - 3*D^2 + 13/7*D, c8 == -1/8*D^8 + D^7 - 7/2*D^6 + 7*D^5 - 71/8*D^4 + 15/2*D^3 - 9/2*D^2 + 5/2*D, c9 == 1/9*D^9 - D^8 + 4*D^7 - 28/3*D^6 + 14*D^5 - 14*D^4 + 86/9*D^3 - 14/3*D^2 + 7/3*D, c10 == -1/10*D^10 + D^9 - 9/2*D^8 + 12*D^7 - 21*D^6 + 253/10*D^5 - 43/2*D^4 + 13*D^3 - 59/10*D^2 + 27/10*D]]"
      ]
     },
     "execution_count": 4,
     "metadata": {},
     "output_type": "execute_result"
    }
   ],
   "source": [
    "sols # (ignore c_0)"
   ]
  },
  {
   "cell_type": "code",
   "execution_count": 5,
   "id": "9179904e-b0c9-467d-b095-08a49aaf7c8c",
   "metadata": {},
   "outputs": [
    {
     "name": "stdout",
     "output_type": "stream",
     "text": [
      "c1 == D\n",
      "2*c2 == -D^2 + 3*D\n",
      "3*c3 == D^3 - 3*D^2 + 5*D\n",
      "4*c4 == -D^4 + 4*D^3 - 7*D^2 + 8*D\n",
      "5*c5 == D^5 - 5*D^4 + 10*D^3 - 10*D^2 + 9*D\n",
      "6*c6 == -D^6 + 6*D^5 - 15*D^4 + 21*D^3 - 20*D^2 + 15*D\n",
      "7*c7 == D^7 - 7*D^6 + 21*D^5 - 35*D^4 + 35*D^3 - 21*D^2 + 13*D\n",
      "8*c8 == -D^8 + 8*D^7 - 28*D^6 + 56*D^5 - 71*D^4 + 60*D^3 - 36*D^2 + 20*D\n",
      "9*c9 == D^9 - 9*D^8 + 36*D^7 - 84*D^6 + 126*D^5 - 126*D^4 + 86*D^3 - 42*D^2 + 21*D\n",
      "10*c10 == -D^10 + 10*D^9 - 45*D^8 + 120*D^7 - 210*D^6 + 253*D^5 - 215*D^4 + 130*D^3 - 59*D^2 + 27*D\n"
     ]
    }
   ],
   "source": [
    "for i in range(1,11):\n",
    "    print(sols[0][i]*i) #looks like Pascal's triangle, kind of..."
   ]
  }
 ],
 "metadata": {
  "kernelspec": {
   "display_name": "SageMath 10.3",
   "language": "sage",
   "name": "sagemath"
  },
  "language_info": {
   "codemirror_mode": {
    "name": "ipython",
    "version": 3
   },
   "file_extension": ".py",
   "mimetype": "text/x-python",
   "name": "python",
   "nbconvert_exporter": "python",
   "pygments_lexer": "ipython3",
   "version": "3.11.9"
  }
 },
 "nbformat": 4,
 "nbformat_minor": 5
}
