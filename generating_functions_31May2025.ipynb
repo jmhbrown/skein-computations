{
 "cells": [
  {
   "cell_type": "code",
   "execution_count": 1,
   "id": "ffe9d241-f315-49b5-8aae-6a3bbe1a52d4",
   "metadata": {},
   "outputs": [],
   "source": [
    "Q.<t> = LazyPowerSeriesRing(SR) #tell sage we're working with powerseries in t, where coefficients can be symbols (SR = symbolic ring)"
   ]
  },
  {
   "cell_type": "code",
   "execution_count": 1,
   "id": "3786949b-9478-4fe8-a876-78f5fee3f46b",
   "metadata": {},
   "outputs": [],
   "source": [
    "B = Matrix(ZZ,[[0,-1],[1,0]])"
   ]
  },
  {
   "cell_type": "code",
   "execution_count": 40,
   "id": "50319d17-5b7f-4ad5-b906-d79a76a174a7",
   "metadata": {},
   "outputs": [
    {
     "data": {
      "text/plain": [
       "3"
      ]
     },
     "execution_count": 40,
     "metadata": {},
     "output_type": "execute_result"
    }
   ],
   "source": [
    "Monica_conjecture(B,2)"
   ]
  },
  {
   "cell_type": "code",
   "execution_count": 3,
   "id": "44db0bb0-45d6-431c-83b4-270b556394fd",
   "metadata": {},
   "outputs": [],
   "source": [
    "load(\"HH-of-T3.sage\")"
   ]
  },
  {
   "cell_type": "code",
   "execution_count": 4,
   "id": "299006b2-8ab3-4010-8eec-b169006358d4",
   "metadata": {},
   "outputs": [
    {
     "data": {
      "text/plain": [
       "[1 1]\n",
       "[0 1]"
      ]
     },
     "execution_count": 4,
     "metadata": {},
     "output_type": "execute_result"
    }
   ],
   "source": [
    "S=SL2Z.0\n",
    "T=SL2Z.1\n",
    "T\n"
   ]
  },
  {
   "cell_type": "code",
   "execution_count": 5,
   "id": "f5aeccf9-702c-4447-91ec-9681d935327e",
   "metadata": {},
   "outputs": [
    {
     "name": "stdout",
     "output_type": "stream",
     "text": [
      "[ 0 -1]\n",
      "[ 1  0]\n"
     ]
    }
   ],
   "source": [
    "print(B)"
   ]
  },
  {
   "cell_type": "code",
   "execution_count": 6,
   "id": "7821bb5b-5d2e-48ca-8566-2482938d11e4",
   "metadata": {},
   "outputs": [
    {
     "name": "stdout",
     "output_type": "stream",
     "text": [
      "[ 0 -1]\n",
      "[ 1  0]\n"
     ]
    }
   ],
   "source": [
    "print(S)"
   ]
  },
  {
   "cell_type": "code",
   "execution_count": 7,
   "id": "0f6c3482-cea1-430b-8415-21a4430e34e5",
   "metadata": {},
   "outputs": [
    {
     "data": {
      "text/plain": [
       "[-1  0]\n",
       "[ 0 -1]"
      ]
     },
     "execution_count": 7,
     "metadata": {},
     "output_type": "execute_result"
    }
   ],
   "source": [
    "S*S"
   ]
  },
  {
   "cell_type": "code",
   "execution_count": 8,
   "id": "67877650-4e75-4957-a389-4eb6826992f8",
   "metadata": {},
   "outputs": [],
   "source": [
    "A = Matrix(ZZ,[[2,3],[1,2]])"
   ]
  },
  {
   "cell_type": "code",
   "execution_count": 9,
   "id": "b74e79bf-ec15-41c7-b787-78140f0f6924",
   "metadata": {},
   "outputs": [
    {
     "name": "stdout",
     "output_type": "stream",
     "text": [
      "[2 3]\n",
      "[1 2]\n"
     ]
    }
   ],
   "source": [
    "print(A)"
   ]
  },
  {
   "cell_type": "code",
   "execution_count": 10,
   "id": "096d8add-cdac-4a4e-bd0e-50863e81ce58",
   "metadata": {},
   "outputs": [],
   "source": [
    "I = identity_matrix(2)"
   ]
  },
  {
   "cell_type": "code",
   "execution_count": 11,
   "id": "a7b7ec02-caf6-41a8-8899-3c2c33f94d2c",
   "metadata": {},
   "outputs": [
    {
     "data": {
      "text/plain": [
       "7"
      ]
     },
     "execution_count": 11,
     "metadata": {},
     "output_type": "execute_result"
    }
   ],
   "source": [
    "Monica_conjecture(A,2)"
   ]
  },
  {
   "cell_type": "code",
   "execution_count": 12,
   "id": "8534be59-8fcb-4db1-ad3a-299740cc4cc0",
   "metadata": {},
   "outputs": [
    {
     "data": {
      "text/plain": [
       "2"
      ]
     },
     "execution_count": 12,
     "metadata": {},
     "output_type": "execute_result"
    }
   ],
   "source": [
    "Monica_conjecture(B,3)"
   ]
  },
  {
   "cell_type": "code",
   "execution_count": 15,
   "id": "4db6621b-9228-42e0-90bd-45b2286313e2",
   "metadata": {},
   "outputs": [
    {
     "data": {
      "text/plain": [
       "52"
      ]
     },
     "execution_count": 15,
     "metadata": {},
     "output_type": "execute_result"
    }
   ],
   "source": [
    "Monica_conjecture(A,4)"
   ]
  },
  {
   "cell_type": "code",
   "execution_count": 16,
   "id": "ea382bab-0f0f-46a1-9ed3-0619a99d14eb",
   "metadata": {},
   "outputs": [
    {
     "data": {
      "text/plain": [
       "36"
      ]
     },
     "execution_count": 16,
     "metadata": {},
     "output_type": "execute_result"
    }
   ],
   "source": [
    "skein_mod_dim(A,3)"
   ]
  },
  {
   "cell_type": "code",
   "execution_count": null,
   "id": "1fe190ec-cdf4-4228-81de-1461c0b42d45",
   "metadata": {
    "jupyter": {
     "source_hidden": true
    }
   },
   "outputs": [],
   "source": [
    "i don't know how to give it a permutation sigma "
   ]
  },
  {
   "cell_type": "code",
   "execution_count": 42,
   "id": "ba810581-5441-486d-a2bc-185c1c1e0e93",
   "metadata": {},
   "outputs": [
    {
     "ename": "AttributeError",
     "evalue": "'Sigma' object has no attribute 'parent'",
     "output_type": "error",
     "traceback": [
      "\u001b[0;31m---------------------------------------------------------------------------\u001b[0m",
      "\u001b[0;31mAttributeError\u001b[0m                            Traceback (most recent call last)",
      "Cell \u001b[0;32mIn[42], line 1\u001b[0m\n\u001b[0;32m----> 1\u001b[0m \u001b[43mget_cokernel_v3\u001b[49m\u001b[43m(\u001b[49m\u001b[43mA\u001b[49m\u001b[43m,\u001b[49m\u001b[43m \u001b[49m\u001b[43msigma\u001b[49m\u001b[43m)\u001b[49m\n",
      "File \u001b[0;32m<string>:287\u001b[0m, in \u001b[0;36mget_cokernel_v3\u001b[0;34m(gamma, sigma)\u001b[0m\n",
      "\u001b[0;31mAttributeError\u001b[0m: 'Sigma' object has no attribute 'parent'"
     ]
    }
   ],
   "source": [
    "get_cokernel_v3(A, sigma)"
   ]
  },
  {
   "cell_type": "code",
   "execution_count": null,
   "id": "17cebc81-f888-4323-93ae-f1b9ea820646",
   "metadata": {},
   "outputs": [],
   "source": []
  },
  {
   "cell_type": "code",
   "execution_count": null,
   "id": "07e30f9e-006e-49c7-9bef-f391db000794",
   "metadata": {},
   "outputs": [],
   "source": []
  },
  {
   "cell_type": "code",
   "execution_count": 19,
   "id": "b49e8896-9246-4b22-b692-182de6cdb700",
   "metadata": {},
   "outputs": [
    {
     "data": {
      "text/html": [
       "<div class=\"notruncate\">\n",
       "<table  class=\"table_form\">\n",
       "<tbody>\n",
       "<tr class =\"row-a\">\n",
       "<td style=\"text-align:left\">\\(1\\)</td>\n",
       "<td style=\"text-align:left\">\\(1\\)</td>\n",
       "<td style=\"text-align:left\">\\((1,2)\\)</td>\n",
       "<td style=\"text-align:left\">\\((1,2,3)\\)</td>\n",
       "</tr>\n",
       "<tr class =\"row-b\">\n",
       "<td style=\"text-align:left\">\\(\\left(\\begin{array}{rr}\n",
       "2 & 3 \\\\\n",
       "1 & 2\n",
       "\\end{array}\\right)\\)</td>\n",
       "<td style=\"text-align:left\">\\(4\\)</td>\n",
       "<td style=\"text-align:left\">\\(14\\)</td>\n",
       "<td style=\"text-align:left\">\\(18\\)</td>\n",
       "</tr>\n",
       "</tbody>\n",
       "</table>\n",
       "</div>"
      ],
      "text/plain": [
       "  ()            ()   (1,2)   (1,2,3)\n",
       "  [2 3]\n",
       "[1 2]   4    14      18"
      ]
     },
     "execution_count": 19,
     "metadata": {},
     "output_type": "execute_result"
    }
   ],
   "source": [
    "Monica_table_v3([A],3)"
   ]
  },
  {
   "cell_type": "code",
   "execution_count": 20,
   "id": "360f8ad5-51b6-4c27-aa23-4c3290a6dc2f",
   "metadata": {},
   "outputs": [
    {
     "data": {
      "text/html": [
       "<div class=\"notruncate\">\n",
       "<table  class=\"table_form\">\n",
       "<tbody>\n",
       "<tr class =\"row-a\">\n",
       "<td style=\"text-align:left\">\\(1\\)</td>\n",
       "<td style=\"text-align:left\">\\(1\\)</td>\n",
       "<td style=\"text-align:left\">\\((1,2)\\)</td>\n",
       "</tr>\n",
       "<tr class =\"row-b\">\n",
       "<td style=\"text-align:left\">\\(\\left(\\begin{array}{rr}\n",
       "2 & 3 \\\\\n",
       "1 & 2\n",
       "\\end{array}\\right)\\)</td>\n",
       "<td style=\"text-align:left\">\\(3\\)</td>\n",
       "<td style=\"text-align:left\">\\(7\\)</td>\n",
       "</tr>\n",
       "</tbody>\n",
       "</table>\n",
       "</div>"
      ],
      "text/plain": [
       "  ()            ()   (1,2)\n",
       "  [2 3]\n",
       "[1 2]   3    7"
      ]
     },
     "execution_count": 20,
     "metadata": {},
     "output_type": "execute_result"
    }
   ],
   "source": [
    "Monica_table_v3([A],2)"
   ]
  },
  {
   "cell_type": "code",
   "execution_count": 21,
   "id": "82ec4346-c5b2-45bb-80d8-fd6ff48b7cd5",
   "metadata": {},
   "outputs": [
    {
     "data": {
      "text/html": [
       "<div class=\"notruncate\">\n",
       "<table  class=\"table_form\">\n",
       "<tbody>\n",
       "<tr class =\"row-a\">\n",
       "<td style=\"text-align:left\">\\(1\\)</td>\n",
       "<td style=\"text-align:left\">\\(1\\)</td>\n",
       "</tr>\n",
       "<tr class =\"row-b\">\n",
       "<td style=\"text-align:left\">\\(\\left(\\begin{array}{rr}\n",
       "2 & 3 \\\\\n",
       "1 & 2\n",
       "\\end{array}\\right)\\)</td>\n",
       "<td style=\"text-align:left\">\\(2\\)</td>\n",
       "</tr>\n",
       "</tbody>\n",
       "</table>\n",
       "</div>"
      ],
      "text/plain": [
       "  ()            ()\n",
       "  [2 3]\n",
       "[1 2]   2"
      ]
     },
     "execution_count": 21,
     "metadata": {},
     "output_type": "execute_result"
    }
   ],
   "source": [
    "Monica_table_v3([A],1)"
   ]
  },
  {
   "cell_type": "code",
   "execution_count": 22,
   "id": "0689220b-4f74-4fe7-9b1f-deef38658998",
   "metadata": {},
   "outputs": [
    {
     "data": {
      "text/html": [
       "<div class=\"notruncate\">\n",
       "<table  class=\"table_form\">\n",
       "<tbody>\n",
       "<tr class =\"row-a\">\n",
       "<td style=\"text-align:left\">\\(1\\)</td>\n",
       "<td style=\"text-align:left\">\\(1\\)</td>\n",
       "<td style=\"text-align:left\">\\((1,2)\\)</td>\n",
       "<td style=\"text-align:left\">\\((1,2)(3,4)\\)</td>\n",
       "<td style=\"text-align:left\">\\((1,2,3)\\)</td>\n",
       "<td style=\"text-align:left\">\\((1,2,3,4)\\)</td>\n",
       "</tr>\n",
       "<tr class =\"row-b\">\n",
       "<td style=\"text-align:left\">\\(\\left(\\begin{array}{rr}\n",
       "2 & 3 \\\\\n",
       "1 & 2\n",
       "\\end{array}\\right)\\)</td>\n",
       "<td style=\"text-align:left\">\\(5\\)</td>\n",
       "<td style=\"text-align:left\">\\(21\\)</td>\n",
       "<td style=\"text-align:left\">\\(28\\)</td>\n",
       "<td style=\"text-align:left\">\\(36\\)</td>\n",
       "<td style=\"text-align:left\">\\(52\\)</td>\n",
       "</tr>\n",
       "</tbody>\n",
       "</table>\n",
       "</div>"
      ],
      "text/plain": [
       "  ()            ()   (1,2)   (1,2)(3,4)   (1,2,3)   (1,2,3,4)\n",
       "  [2 3]\n",
       "[1 2]   5    21      28           36        52"
      ]
     },
     "execution_count": 22,
     "metadata": {},
     "output_type": "execute_result"
    }
   ],
   "source": [
    "Monica_table_v3([A],4)"
   ]
  },
  {
   "cell_type": "code",
   "execution_count": 29,
   "id": "61d2a9d3-10de-499c-a427-3d4dba06f570",
   "metadata": {},
   "outputs": [],
   "source": [
    "def get_cokernel_v4(gamma,sigma): #calculates HH_0 with coinvar for given gamma and sigma. Note this one is not exactly used in skein_mod_dim for effciency reasons. But it does exactly the same thing as what is happening there. \n",
    "    n = sigma.parent().degree()\n",
    "    cycle_type = list(sigma.cycle_type())\n",
    "    count = [0]*(n+1)\n",
    "    for i in range(1,n+1):\n",
    "        count[i] = cycle_type.count(i)\n",
    "    result= 0\n",
    "    for i in range(1,n+1):\n",
    "        if count[i] != 0:\n",
    "            result= result + binomial(Monica_conjecture(gamma,i) + count[i]-1,count[i])\n",
    "    return result"
   ]
  },
  {
   "cell_type": "code",
   "execution_count": 30,
   "id": "3ed9335f-60f5-4576-a5df-5bf0d5275097",
   "metadata": {},
   "outputs": [],
   "source": [
    "def Monica_table_v4(L,n): #Monica table with coker with coinvar calculated via Monica's conjecture\n",
    "    \"\"\"\n",
    "    sage: gamma = SL2Z.1^4\n",
    "    sage: try_all_conjugacy_classes(gamma,5,take_coinvariants)\n",
    "\n",
    "    \"\"\"\n",
    "    conjugacy_classes = [cc.an_element() for cc in SymmetricGroup(n).conjugacy_classes()]\n",
    "    \n",
    "    return table([[conjugacy_classes[0]] + conjugacy_classes] + [[l] + [get_cokernel_v4(l,sigma) for sigma in conjugacy_classes] for l in L])"
   ]
  },
  {
   "cell_type": "code",
   "execution_count": 31,
   "id": "3c2e6f4f-c78d-45da-8664-1e4bcb99ac25",
   "metadata": {},
   "outputs": [
    {
     "data": {
      "text/html": [
       "<div class=\"notruncate\">\n",
       "<table  class=\"table_form\">\n",
       "<tbody>\n",
       "<tr class =\"row-a\">\n",
       "<td style=\"text-align:left\">\\(1\\)</td>\n",
       "<td style=\"text-align:left\">\\(1\\)</td>\n",
       "<td style=\"text-align:left\">\\((1,2)\\)</td>\n",
       "<td style=\"text-align:left\">\\((1,2)(3,4)\\)</td>\n",
       "<td style=\"text-align:left\">\\((1,2,3)\\)</td>\n",
       "<td style=\"text-align:left\">\\((1,2,3,4)\\)</td>\n",
       "</tr>\n",
       "<tr class =\"row-b\">\n",
       "<td style=\"text-align:left\">\\(\\left(\\begin{array}{rr}\n",
       "2 & 3 \\\\\n",
       "1 & 2\n",
       "\\end{array}\\right)\\)</td>\n",
       "<td style=\"text-align:left\">\\(5\\)</td>\n",
       "<td style=\"text-align:left\">\\(10\\)</td>\n",
       "<td style=\"text-align:left\">\\(28\\)</td>\n",
       "<td style=\"text-align:left\">\\(20\\)</td>\n",
       "<td style=\"text-align:left\">\\(52\\)</td>\n",
       "</tr>\n",
       "</tbody>\n",
       "</table>\n",
       "</div>"
      ],
      "text/plain": [
       "  ()            ()   (1,2)   (1,2)(3,4)   (1,2,3)   (1,2,3,4)\n",
       "  [2 3]\n",
       "[1 2]   5    10      28           20        52"
      ]
     },
     "execution_count": 31,
     "metadata": {},
     "output_type": "execute_result"
    }
   ],
   "source": [
    "Monica_table_v4([A],4)"
   ]
  },
  {
   "cell_type": "code",
   "execution_count": 32,
   "id": "95dc1109-2530-4b41-9c01-2f13a97b0b00",
   "metadata": {},
   "outputs": [
    {
     "data": {
      "text/html": [
       "<div class=\"notruncate\">\n",
       "<table  class=\"table_form\">\n",
       "<tbody>\n",
       "<tr class =\"row-a\">\n",
       "<td style=\"text-align:left\">\\(1\\)</td>\n",
       "<td style=\"text-align:left\">\\(1\\)</td>\n",
       "<td style=\"text-align:left\">\\((1,2)\\)</td>\n",
       "<td style=\"text-align:left\">\\((1,2,3)\\)</td>\n",
       "</tr>\n",
       "<tr class =\"row-b\">\n",
       "<td style=\"text-align:left\">\\(\\left(\\begin{array}{rr}\n",
       "2 & 3 \\\\\n",
       "1 & 2\n",
       "\\end{array}\\right)\\)</td>\n",
       "<td style=\"text-align:left\">\\(4\\)</td>\n",
       "<td style=\"text-align:left\">\\(9\\)</td>\n",
       "<td style=\"text-align:left\">\\(18\\)</td>\n",
       "</tr>\n",
       "</tbody>\n",
       "</table>\n",
       "</div>"
      ],
      "text/plain": [
       "  ()            ()   (1,2)   (1,2,3)\n",
       "  [2 3]\n",
       "[1 2]   4    9       18"
      ]
     },
     "execution_count": 32,
     "metadata": {},
     "output_type": "execute_result"
    }
   ],
   "source": [
    "Monica_table_v4([A],3)"
   ]
  },
  {
   "cell_type": "code",
   "execution_count": 33,
   "id": "5170645d-9c05-4c21-950d-2976c2a0ab3f",
   "metadata": {},
   "outputs": [
    {
     "data": {
      "text/html": [
       "<div class=\"notruncate\">\n",
       "<table  class=\"table_form\">\n",
       "<tbody>\n",
       "<tr class =\"row-a\">\n",
       "<td style=\"text-align:left\">\\(1\\)</td>\n",
       "<td style=\"text-align:left\">\\(1\\)</td>\n",
       "<td style=\"text-align:left\">\\((1,2)\\)</td>\n",
       "</tr>\n",
       "<tr class =\"row-b\">\n",
       "<td style=\"text-align:left\">\\(\\left(\\begin{array}{rr}\n",
       "2 & 3 \\\\\n",
       "1 & 2\n",
       "\\end{array}\\right)\\)</td>\n",
       "<td style=\"text-align:left\">\\(3\\)</td>\n",
       "<td style=\"text-align:left\">\\(7\\)</td>\n",
       "</tr>\n",
       "</tbody>\n",
       "</table>\n",
       "</div>"
      ],
      "text/plain": [
       "  ()            ()   (1,2)\n",
       "  [2 3]\n",
       "[1 2]   3    7"
      ]
     },
     "execution_count": 33,
     "metadata": {},
     "output_type": "execute_result"
    }
   ],
   "source": [
    "Monica_table_v4([A],2)"
   ]
  },
  {
   "cell_type": "code",
   "execution_count": 34,
   "id": "676b5922-4231-4475-b3d0-bf43b930d429",
   "metadata": {},
   "outputs": [],
   "source": [
    "def skein_mod_dimv4(gamma,n):\n",
    "    #gives  GLn skein module dimension, using Monica's conjecture #only works for regular gamma!!!\n",
    "    single_cycle = [0]*(n+1)                         #calculate result for single m-cycle (more efficient to do it once in the beginning)\n",
    "    for i in range(1,n+1):                           #m ranging from 1 till n\n",
    "        single_cycle[i] = Monica_conjecture(gamma,i) #using Monica's conjecture\n",
    "        \n",
    "    result_per_conjugacyclass =[]                    #calculate HH_0 with coinvar for each conjugacyclass, to later sum them\n",
    "    conjugacy_classes = [cc.an_element() for cc in SymmetricGroup(n).conjugacy_classes()] #list all conjugacyclasses\n",
    "    for cc in conjugacy_classes:\n",
    "        cycle_type = list(cc.cycle_type())           #cycle type will give list of cycle lengths appearing. e.g. (12)(34)(5) in S5 will give [2,2,1]\n",
    "        count = [0]*(n+1)                            #count is a list where count[i] gives the number of cycles of length i\n",
    "        for i in range(1,n+1):\n",
    "            count[i] = cycle_type.count(i)\n",
    "        result= 0                                    #ADD all contributions of different cycle lengths together\n",
    "        for i in range(1,n+1):\n",
    "                result= result + binomial(single_cycle[i] + count[i]-1,count[i]) #using the stars and bar formula if there are multiple cycles of the same length\n",
    "        result_per_conjugacyclass.append(result)     #add result to list\n",
    "    endresult = sum(result_per_conjugacyclass)       #sum each contribution HH_0 with coinvar together to get end result\n",
    "    return endresult"
   ]
  },
  {
   "cell_type": "code",
   "execution_count": 35,
   "id": "cf783d9e-cae1-4186-8083-125f9f1c08b8",
   "metadata": {},
   "outputs": [],
   "source": [
    "def gen_fctv4(gamma,n): \n",
    "    #generating function up to and including t^n, brute forcing\n",
    "    Q.<t> = LazyPowerSeriesRing(SR)\n",
    "    f=1\n",
    "    for i in range(1,n+1):\n",
    "        f= f + skein_mod_dimv4(gamma,i)*t**i\n",
    "    return f"
   ]
  },
  {
   "cell_type": "code",
   "execution_count": 38,
   "id": "dcce4230-a916-492d-891e-1fa535a69271",
   "metadata": {},
   "outputs": [
    {
     "data": {
      "text/plain": [
       "1 + 2*t + 12*t^2 + 36*t^3 + 128*t^4"
      ]
     },
     "execution_count": 38,
     "metadata": {},
     "output_type": "execute_result"
    }
   ],
   "source": [
    "gen_fctv4(A,4)"
   ]
  },
  {
   "cell_type": "code",
   "execution_count": 39,
   "id": "ef69a33a-aa45-4b09-b033-9053b3e81540",
   "metadata": {},
   "outputs": [
    {
     "data": {
      "text/plain": [
       "1 + 2*t + 10*t^2 + 36*t^3 + 142*t^4"
      ]
     },
     "execution_count": 39,
     "metadata": {},
     "output_type": "execute_result"
    }
   ],
   "source": [
    "gen_fct(A,4)"
   ]
  },
  {
   "cell_type": "code",
   "execution_count": null,
   "id": "14995f51-e083-4447-9e6c-6adb4882a64d",
   "metadata": {},
   "outputs": [],
   "source": []
  }
 ],
 "metadata": {
  "kernelspec": {
   "display_name": "SageMath 10.4",
   "language": "sage",
   "name": "sagemath-10.4"
  },
  "language_info": {
   "codemirror_mode": {
    "name": "ipython",
    "version": 3
   },
   "file_extension": ".py",
   "mimetype": "text/x-python",
   "name": "python",
   "nbconvert_exporter": "python",
   "pygments_lexer": "ipython3",
   "version": "3.12.4"
  }
 },
 "nbformat": 4,
 "nbformat_minor": 5
}
