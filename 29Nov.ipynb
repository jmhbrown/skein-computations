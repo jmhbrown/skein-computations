{
 "cells": [
  {
   "cell_type": "code",
   "execution_count": 1,
   "id": "c3e5e6b4-e25c-4e64-ad38-cccc6285b879",
   "metadata": {},
   "outputs": [],
   "source": [
    "load(\"HH-of-T3.sage\")"
   ]
  },
  {
   "cell_type": "code",
   "execution_count": 2,
   "id": "a0021bc6-d76b-44fd-b5cb-02231b49281e",
   "metadata": {},
   "outputs": [],
   "source": [
    "S = SL2Z.0\n",
    "T = SL2Z.1"
   ]
  },
  {
   "cell_type": "code",
   "execution_count": 4,
   "id": "928ee790-81b1-4554-86fe-f3a329ad10dd",
   "metadata": {},
   "outputs": [
    {
     "data": {
      "text/plain": [
       "[1 0|2 0]\n",
       "[0 1|0 2]\n",
       "[---+---]\n",
       "[0 0|1 0]\n",
       "[0 0|0 1]"
      ]
     },
     "execution_count": 4,
     "metadata": {},
     "output_type": "execute_result"
    }
   ],
   "source": [
    "MCG_rep(T^2, 2)"
   ]
  },
  {
   "cell_type": "code",
   "execution_count": 7,
   "id": "1b0015f7-1ff8-4cdb-81d4-167d56c7be65",
   "metadata": {},
   "outputs": [],
   "source": [
    "sigma = SymmetricGroup(2)((1,2))\n",
    "n=2\n",
    "gamma=T^2"
   ]
  },
  {
   "cell_type": "code",
   "execution_count": 9,
   "id": "bee93109-8d7b-4f42-b163-1ae36d2431d7",
   "metadata": {},
   "outputs": [
    {
     "data": {
      "text/plain": [
       "[ 1 -1  0 -2]\n",
       "[-1  1 -2  0]\n",
       "[ 0  0  1 -1]\n",
       "[ 0  0 -1  1]"
      ]
     },
     "execution_count": 9,
     "metadata": {},
     "output_type": "execute_result"
    }
   ],
   "source": [
    "M = (Matrix.identity(2*n) - W_rep(sigma)*MCG_rep(gamma,n))\n",
    "M"
   ]
  },
  {
   "cell_type": "code",
   "execution_count": 12,
   "id": "7887a381-3343-4755-9a18-2400331379cc",
   "metadata": {},
   "outputs": [
    {
     "data": {
      "text/plain": [
       "(\n",
       "[1 0 0 0]  [ 0  0  0 -1]  [ 0  0  0  1]\n",
       "[0 1 0 0]  [ 1  0  0  0]  [ 2  1  2  1]\n",
       "[0 0 4 0]  [-3  1  0  2]  [ 0 -1 -1  0]\n",
       "[0 0 0 0], [ 0  0  1  1], [-1 -1 -1  0]\n",
       ")"
      ]
     },
     "execution_count": 12,
     "metadata": {},
     "output_type": "execute_result"
    }
   ],
   "source": [
    "M.smith_form()"
   ]
  },
  {
   "cell_type": "code",
   "execution_count": 18,
   "id": "07c627a8-d4f3-4033-b0c4-fe30ba20532b",
   "metadata": {},
   "outputs": [
    {
     "data": {
      "text/plain": [
       "[1 0 0 0]\n",
       "[0 1 0 0]\n",
       "[0 0 4 0]\n",
       "[0 0 0 0]"
      ]
     },
     "execution_count": 18,
     "metadata": {},
     "output_type": "execute_result"
    }
   ],
   "source": [
    "M.smith_form()[1]*M*M.smith_form()[2]"
   ]
  },
  {
   "cell_type": "code",
   "execution_count": 20,
   "id": "bdd2ce0d-abc2-4654-a5d7-e43ab3f40ea4",
   "metadata": {},
   "outputs": [
    {
     "data": {
      "text/plain": [
       "[ 0  0  1 -1]\n",
       "[ 1 -1  0 -2]\n",
       "[-1  1 -1  2]\n",
       "[ 1  0  0  0]"
      ]
     },
     "execution_count": 20,
     "metadata": {},
     "output_type": "execute_result"
    }
   ],
   "source": [
    "M.smith_form()[2].inverse()"
   ]
  },
  {
   "cell_type": "code",
   "execution_count": 25,
   "id": "fb0a4a27-809e-4529-904f-86dc46366f8c",
   "metadata": {},
   "outputs": [
    {
     "data": {
      "text/plain": [
       "(\n",
       "[1 0 0 0]  [ 0  0  0 -1]  [ 0  0  0  1]\n",
       "[0 1 0 0]  [ 1  0  0  0]  [ 4  3  4  1]\n",
       "[0 0 8 0]  [-7  1  0  4]  [ 0 -1 -1  0]\n",
       "[0 0 0 0], [ 0  0  1  1], [-1 -1 -1  0]\n",
       ")"
      ]
     },
     "execution_count": 25,
     "metadata": {},
     "output_type": "execute_result"
    }
   ],
   "source": [
    "k=2\n",
    "gamma=T^4\n",
    "sigma = SymmetricGroup(2)((1,2))\n",
    "M = (Matrix.identity(2*n) - W_rep(sigma)*MCG_rep(gamma,n))\n",
    "M.smith_form()"
   ]
  },
  {
   "cell_type": "code",
   "execution_count": 28,
   "id": "d7bd1683-0489-4e9f-b1ec-9c095cecff83",
   "metadata": {},
   "outputs": [
    {
     "data": {
      "text/plain": [
       "[(2,\n",
       "  [\n",
       "  (1, -1, 0, 0)\n",
       "  ],\n",
       "  2),\n",
       " (0,\n",
       "  [\n",
       "  (1, 1, 0, 0)\n",
       "  ],\n",
       "  2)]"
      ]
     },
     "execution_count": 28,
     "metadata": {},
     "output_type": "execute_result"
    }
   ],
   "source": [
    "gamma=T^2\n",
    "W_rep(sigma)*MCG_rep(gamma,n)\n",
    "M = (Matrix.identity(2*n) - W_rep(sigma)*MCG_rep(gamma,n))\n",
    "M.eigenvectors_right()"
   ]
  }
 ],
 "metadata": {
  "kernelspec": {
   "display_name": "SageMath 10.3",
   "language": "sage",
   "name": "sagemath"
  },
  "language_info": {
   "codemirror_mode": {
    "name": "ipython",
    "version": 3
   },
   "file_extension": ".py",
   "mimetype": "text/x-python",
   "name": "python",
   "nbconvert_exporter": "python",
   "pygments_lexer": "ipython3",
   "version": "3.11.9"
  }
 },
 "nbformat": 4,
 "nbformat_minor": 5
}
