{
 "cells": [
  {
   "cell_type": "code",
   "execution_count": 5,
   "id": "b2597a46",
   "metadata": {},
   "outputs": [],
   "source": [
    "load(\"HH-of-T3.sage\")\n",
    "# lets us quickly define different S_n:\n",
    "W = lambda n : SymmetricGroup(n)\n",
    "\n",
    "S = SL2Z.0\n",
    "T = SL2Z.1"
   ]
  },
  {
   "cell_type": "code",
   "execution_count": 6,
   "id": "a9bc860a",
   "metadata": {},
   "outputs": [
    {
     "data": {
      "text/plain": [
       "[1 0 0|0 0 0]\n",
       "[0 0 1|0 0 0]\n",
       "[0 1 0|0 0 0]\n",
       "[-----+-----]\n",
       "[0 0 0|1 0 0]\n",
       "[0 0 0|0 0 1]\n",
       "[0 0 0|0 1 0]"
      ]
     },
     "execution_count": 6,
     "metadata": {},
     "output_type": "execute_result"
    }
   ],
   "source": [
    "W = SymmetricGroup(3)\n",
    "sigma = W([1,3,2])\n",
    "W_rep(sigma)"
   ]
  },
  {
   "cell_type": "code",
   "execution_count": 3,
   "id": "9ade4bea",
   "metadata": {},
   "outputs": [],
   "source": []
  },
  {
   "cell_type": "markdown",
   "id": "890ece57",
   "metadata": {},
   "source": [
    "Trying with $T^k$\n",
    "---\n",
    "\n",
    "Guess: $HH_0(A,A_{\\sigma,T})_{C_W(\\sigma)}$ is isomorphic to the product of $\\mathbb{Z}/\\lambda_i \\mathbb{Z}$ where $\\lambda_i$ ranges over the distinct parts of $\\lambda$, and $\\sigma$ has cycle-type $\\lambda$.\n",
    "\n",
    "For $T^k$ it's the product of $\\mathbb{Z}/k\\lambda_i \\mathbb{Z}$"
   ]
  },
  {
   "cell_type": "code",
   "execution_count": 31,
   "id": "48c472e3",
   "metadata": {},
   "outputs": [
    {
     "data": {
      "text/html": [
       "<div class=\"notruncate\">\n",
       "<table  class=\"table_form\">\n",
       "<tbody>\n",
       "<tr class =\"row-a\">\n",
       "<td><script type=\"math/tex\"></script></td>\n",
       "<td><script type=\"math/tex\"></script></td>\n",
       "<td><script type=\"math/tex\">(1,2)</script></td>\n",
       "<td><script type=\"math/tex\">(1,2)(3,4)</script></td>\n",
       "<td><script type=\"math/tex\">(1,2,3)</script></td>\n",
       "<td><script type=\"math/tex\">(1,2,3,4)</script></td>\n",
       "</tr>\n",
       "<tr class =\"row-b\">\n",
       "<td><script type=\"math/tex\">\\left(\\begin{array}{rr}\n",
       "1 & 0 \\\\\n",
       "0 & 1\n",
       "\\end{array}\\right)</script></td>\n",
       "<td><script type=\"math/tex\">\\left(\\right)</script></td>\n",
       "<td><script type=\"math/tex\">\\left(\\right)</script></td>\n",
       "<td><script type=\"math/tex\">\\left(\\right)</script></td>\n",
       "<td><script type=\"math/tex\">\\left(\\right)</script></td>\n",
       "<td><script type=\"math/tex\">\\left(\\right)</script></td>\n",
       "</tr>\n",
       "<tr class =\"row-a\">\n",
       "<td><script type=\"math/tex\">\\left(\\begin{array}{rr}\n",
       "1 & 1 \\\\\n",
       "0 & 1\n",
       "\\end{array}\\right)</script></td>\n",
       "<td><script type=\"math/tex\">\\left(\\right)</script></td>\n",
       "<td><script type=\"math/tex\">\\left(2\\right)</script></td>\n",
       "<td><script type=\"math/tex\">\\left(2\\right)</script></td>\n",
       "<td><script type=\"math/tex\">\\left(3\\right)</script></td>\n",
       "<td><script type=\"math/tex\">\\left(4\\right)</script></td>\n",
       "</tr>\n",
       "<tr class =\"row-b\">\n",
       "<td><script type=\"math/tex\">\\left(\\begin{array}{rr}\n",
       "1 & 2 \\\\\n",
       "0 & 1\n",
       "\\end{array}\\right)</script></td>\n",
       "<td><script type=\"math/tex\">\\left(2\\right)</script></td>\n",
       "<td><script type=\"math/tex\">\\left(2, 4\\right)</script></td>\n",
       "<td><script type=\"math/tex\">\\left(4\\right)</script></td>\n",
       "<td><script type=\"math/tex\">\\left(2, 6\\right)</script></td>\n",
       "<td><script type=\"math/tex\">\\left(8\\right)</script></td>\n",
       "</tr>\n",
       "<tr class =\"row-a\">\n",
       "<td><script type=\"math/tex\">\\left(\\begin{array}{rr}\n",
       "1 & 3 \\\\\n",
       "0 & 1\n",
       "\\end{array}\\right)</script></td>\n",
       "<td><script type=\"math/tex\">\\left(3\\right)</script></td>\n",
       "<td><script type=\"math/tex\">\\left(3, 6\\right)</script></td>\n",
       "<td><script type=\"math/tex\">\\left(6\\right)</script></td>\n",
       "<td><script type=\"math/tex\">\\left(3, 9\\right)</script></td>\n",
       "<td><script type=\"math/tex\">\\left(12\\right)</script></td>\n",
       "</tr>\n",
       "<tr class =\"row-b\">\n",
       "<td><script type=\"math/tex\">\\left(\\begin{array}{rr}\n",
       "1 & 4 \\\\\n",
       "0 & 1\n",
       "\\end{array}\\right)</script></td>\n",
       "<td><script type=\"math/tex\">\\left(4\\right)</script></td>\n",
       "<td><script type=\"math/tex\">\\left(4, 8\\right)</script></td>\n",
       "<td><script type=\"math/tex\">\\left(8\\right)</script></td>\n",
       "<td><script type=\"math/tex\">\\left(4, 12\\right)</script></td>\n",
       "<td><script type=\"math/tex\">\\left(16\\right)</script></td>\n",
       "</tr>\n",
       "<tr class =\"row-a\">\n",
       "<td><script type=\"math/tex\">\\left(\\begin{array}{rr}\n",
       "1 & 12 \\\\\n",
       "0 & 1\n",
       "\\end{array}\\right)</script></td>\n",
       "<td><script type=\"math/tex\">\\left(12\\right)</script></td>\n",
       "<td><script type=\"math/tex\">\\left(12, 24\\right)</script></td>\n",
       "<td><script type=\"math/tex\">\\left(24\\right)</script></td>\n",
       "<td><script type=\"math/tex\">\\left(12, 36\\right)</script></td>\n",
       "<td><script type=\"math/tex\">\\left(48\\right)</script></td>\n",
       "</tr>\n",
       "</tbody>\n",
       "</table>\n",
       "</div>"
      ],
      "text/plain": [
       "  ()                ()      (1,2)      (1,2)(3,4)   (1,2,3)    (1,2,3,4)\n",
       "  [1 0]\n",
       "[0 1]       ()      ()         ()           ()         ()\n",
       "  [1 1]\n",
       "[0 1]       ()      (2,)       (2,)         (3,)       (4,)\n",
       "  [1 2]\n",
       "[0 1]       (2,)    (2, 4)     (4,)         (2, 6)     (8,)\n",
       "  [1 3]\n",
       "[0 1]       (3,)    (3, 6)     (6,)         (3, 9)     (12,)\n",
       "  [1 4]\n",
       "[0 1]       (4,)    (4, 8)     (8,)         (4, 12)    (16,)\n",
       "  [ 1 12]\n",
       "[ 0  1]   (12,)   (12, 24)   (24,)        (12, 36)   (48,)"
      ]
     },
     "execution_count": 31,
     "metadata": {},
     "output_type": "execute_result"
    }
   ],
   "source": [
    "Monica_table([T^k for k in [0,1,2,3,4,12]],4)"
   ]
  },
  {
   "cell_type": "code",
   "execution_count": 67,
   "id": "aa534dd3",
   "metadata": {},
   "outputs": [
    {
     "data": {
      "text/html": [
       "<div class=\"notruncate\">\n",
       "<table  class=\"table_form\">\n",
       "<tbody>\n",
       "<tr class =\"row-a\">\n",
       "<td><script type=\"math/tex\"></script></td>\n",
       "<td><script type=\"math/tex\"></script></td>\n",
       "<td><script type=\"math/tex\">(1,2)</script></td>\n",
       "<td><script type=\"math/tex\">(1,2)(3,4)</script></td>\n",
       "<td><script type=\"math/tex\">(1,2,3)</script></td>\n",
       "<td><script type=\"math/tex\">(1,2,3)(4,5)</script></td>\n",
       "<td><script type=\"math/tex\">(1,2,3,4)</script></td>\n",
       "<td><script type=\"math/tex\">(1,2,3,4,5)</script></td>\n",
       "</tr>\n",
       "<tr class =\"row-b\">\n",
       "<td><script type=\"math/tex\">\\left(\\begin{array}{rr}\n",
       "1 & 0 \\\\\n",
       "0 & 1\n",
       "\\end{array}\\right)</script></td>\n",
       "<td><script type=\"math/tex\">\\left(\\right)</script></td>\n",
       "<td><script type=\"math/tex\">\\left(\\right)</script></td>\n",
       "<td><script type=\"math/tex\">\\left(\\right)</script></td>\n",
       "<td><script type=\"math/tex\">\\left(\\right)</script></td>\n",
       "<td><script type=\"math/tex\">\\left(\\right)</script></td>\n",
       "<td><script type=\"math/tex\">\\left(\\right)</script></td>\n",
       "<td><script type=\"math/tex\">\\left(\\right)</script></td>\n",
       "</tr>\n",
       "<tr class =\"row-a\">\n",
       "<td><script type=\"math/tex\">\\left(\\begin{array}{rr}\n",
       "1 & 1 \\\\\n",
       "0 & 1\n",
       "\\end{array}\\right)</script></td>\n",
       "<td><script type=\"math/tex\">\\left(\\right)</script></td>\n",
       "<td><script type=\"math/tex\">\\left(2\\right)</script></td>\n",
       "<td><script type=\"math/tex\">\\left(2, 2\\right)</script></td>\n",
       "<td><script type=\"math/tex\">\\left(3\\right)</script></td>\n",
       "<td><script type=\"math/tex\">\\left(6\\right)</script></td>\n",
       "<td><script type=\"math/tex\">\\left(4\\right)</script></td>\n",
       "<td><script type=\"math/tex\">\\left(5\\right)</script></td>\n",
       "</tr>\n",
       "<tr class =\"row-b\">\n",
       "<td><script type=\"math/tex\">\\left(\\begin{array}{rr}\n",
       "1 & 2 \\\\\n",
       "0 & 1\n",
       "\\end{array}\\right)</script></td>\n",
       "<td><script type=\"math/tex\">\\left(2, 2, 2, 2, 2\\right)</script></td>\n",
       "<td><script type=\"math/tex\">\\left(2, 2, 2, 4\\right)</script></td>\n",
       "<td><script type=\"math/tex\">\\left(2, 4, 4\\right)</script></td>\n",
       "<td><script type=\"math/tex\">\\left(2, 2, 6\\right)</script></td>\n",
       "<td><script type=\"math/tex\">\\left(2, 12\\right)</script></td>\n",
       "<td><script type=\"math/tex\">\\left(2, 8\\right)</script></td>\n",
       "<td><script type=\"math/tex\">\\left(10\\right)</script></td>\n",
       "</tr>\n",
       "<tr class =\"row-a\">\n",
       "<td><script type=\"math/tex\">\\left(\\begin{array}{rr}\n",
       "1 & 3 \\\\\n",
       "0 & 1\n",
       "\\end{array}\\right)</script></td>\n",
       "<td><script type=\"math/tex\">\\left(3, 3, 3, 3, 3\\right)</script></td>\n",
       "<td><script type=\"math/tex\">\\left(3, 3, 3, 6\\right)</script></td>\n",
       "<td><script type=\"math/tex\">\\left(3, 6, 6\\right)</script></td>\n",
       "<td><script type=\"math/tex\">\\left(3, 3, 9\\right)</script></td>\n",
       "<td><script type=\"math/tex\">\\left(3, 18\\right)</script></td>\n",
       "<td><script type=\"math/tex\">\\left(3, 12\\right)</script></td>\n",
       "<td><script type=\"math/tex\">\\left(15\\right)</script></td>\n",
       "</tr>\n",
       "<tr class =\"row-b\">\n",
       "<td><script type=\"math/tex\">\\left(\\begin{array}{rr}\n",
       "1 & 4 \\\\\n",
       "0 & 1\n",
       "\\end{array}\\right)</script></td>\n",
       "<td><script type=\"math/tex\">\\left(4, 4, 4, 4, 4\\right)</script></td>\n",
       "<td><script type=\"math/tex\">\\left(4, 4, 4, 8\\right)</script></td>\n",
       "<td><script type=\"math/tex\">\\left(4, 8, 8\\right)</script></td>\n",
       "<td><script type=\"math/tex\">\\left(4, 4, 12\\right)</script></td>\n",
       "<td><script type=\"math/tex\">\\left(4, 24\\right)</script></td>\n",
       "<td><script type=\"math/tex\">\\left(4, 16\\right)</script></td>\n",
       "<td><script type=\"math/tex\">\\left(20\\right)</script></td>\n",
       "</tr>\n",
       "<tr class =\"row-a\">\n",
       "<td><script type=\"math/tex\">\\left(\\begin{array}{rr}\n",
       "1 & 5 \\\\\n",
       "0 & 1\n",
       "\\end{array}\\right)</script></td>\n",
       "<td><script type=\"math/tex\">\\left(5, 5, 5, 5, 5\\right)</script></td>\n",
       "<td><script type=\"math/tex\">\\left(5, 5, 5, 10\\right)</script></td>\n",
       "<td><script type=\"math/tex\">\\left(5, 10, 10\\right)</script></td>\n",
       "<td><script type=\"math/tex\">\\left(5, 5, 15\\right)</script></td>\n",
       "<td><script type=\"math/tex\">\\left(5, 30\\right)</script></td>\n",
       "<td><script type=\"math/tex\">\\left(5, 20\\right)</script></td>\n",
       "<td><script type=\"math/tex\">\\left(25\\right)</script></td>\n",
       "</tr>\n",
       "<tr class =\"row-b\">\n",
       "<td><script type=\"math/tex\">\\left(\\begin{array}{rr}\n",
       "1 & 6 \\\\\n",
       "0 & 1\n",
       "\\end{array}\\right)</script></td>\n",
       "<td><script type=\"math/tex\">\\left(6, 6, 6, 6, 6\\right)</script></td>\n",
       "<td><script type=\"math/tex\">\\left(6, 6, 6, 12\\right)</script></td>\n",
       "<td><script type=\"math/tex\">\\left(6, 12, 12\\right)</script></td>\n",
       "<td><script type=\"math/tex\">\\left(6, 6, 18\\right)</script></td>\n",
       "<td><script type=\"math/tex\">\\left(6, 36\\right)</script></td>\n",
       "<td><script type=\"math/tex\">\\left(6, 24\\right)</script></td>\n",
       "<td><script type=\"math/tex\">\\left(30\\right)</script></td>\n",
       "</tr>\n",
       "<tr class =\"row-a\">\n",
       "<td><script type=\"math/tex\">\\left(\\begin{array}{rr}\n",
       "1 & 7 \\\\\n",
       "0 & 1\n",
       "\\end{array}\\right)</script></td>\n",
       "<td><script type=\"math/tex\">\\left(7, 7, 7, 7, 7\\right)</script></td>\n",
       "<td><script type=\"math/tex\">\\left(7, 7, 7, 14\\right)</script></td>\n",
       "<td><script type=\"math/tex\">\\left(7, 14, 14\\right)</script></td>\n",
       "<td><script type=\"math/tex\">\\left(7, 7, 21\\right)</script></td>\n",
       "<td><script type=\"math/tex\">\\left(7, 42\\right)</script></td>\n",
       "<td><script type=\"math/tex\">\\left(7, 28\\right)</script></td>\n",
       "<td><script type=\"math/tex\">\\left(35\\right)</script></td>\n",
       "</tr>\n",
       "</tbody>\n",
       "</table>\n",
       "</div>"
      ],
      "text/plain": [
       "  ()            ()                (1,2)           (1,2)(3,4)    (1,2,3)      (1,2,3)(4,5)   (1,2,3,4)   (1,2,3,4,5)\n",
       "  [1 0]\n",
       "[0 1]   ()                ()              ()            ()           ()             ()          ()\n",
       "  [1 1]\n",
       "[0 1]   ()                (2,)            (2, 2)        (3,)         (6,)           (4,)        (5,)\n",
       "  [1 2]\n",
       "[0 1]   (2, 2, 2, 2, 2)   (2, 2, 2, 4)    (2, 4, 4)     (2, 2, 6)    (2, 12)        (2, 8)      (10,)\n",
       "  [1 3]\n",
       "[0 1]   (3, 3, 3, 3, 3)   (3, 3, 3, 6)    (3, 6, 6)     (3, 3, 9)    (3, 18)        (3, 12)     (15,)\n",
       "  [1 4]\n",
       "[0 1]   (4, 4, 4, 4, 4)   (4, 4, 4, 8)    (4, 8, 8)     (4, 4, 12)   (4, 24)        (4, 16)     (20,)\n",
       "  [1 5]\n",
       "[0 1]   (5, 5, 5, 5, 5)   (5, 5, 5, 10)   (5, 10, 10)   (5, 5, 15)   (5, 30)        (5, 20)     (25,)\n",
       "  [1 6]\n",
       "[0 1]   (6, 6, 6, 6, 6)   (6, 6, 6, 12)   (6, 12, 12)   (6, 6, 18)   (6, 36)        (6, 24)     (30,)\n",
       "  [1 7]\n",
       "[0 1]   (7, 7, 7, 7, 7)   (7, 7, 7, 14)   (7, 14, 14)   (7, 7, 21)   (7, 42)        (7, 28)     (35,)"
      ]
     },
     "execution_count": 67,
     "metadata": {},
     "output_type": "execute_result"
    }
   ],
   "source": [
    "Monica_table([T^k for k in range(8)],5)"
   ]
  },
  {
   "cell_type": "code",
   "execution_count": 35,
   "id": "99e76fea",
   "metadata": {},
   "outputs": [
    {
     "data": {
      "text/html": [
       "<div class=\"notruncate\">\n",
       "<table  class=\"table_form\">\n",
       "<tbody>\n",
       "<tr class =\"row-a\">\n",
       "<td><script type=\"math/tex\"></script></td>\n",
       "<td><script type=\"math/tex\"></script></td>\n",
       "<td><script type=\"math/tex\">(1,2)</script></td>\n",
       "<td><script type=\"math/tex\">(1,2)(3,4)</script></td>\n",
       "<td><script type=\"math/tex\">(1,2)(3,4)(5,6)</script></td>\n",
       "<td><script type=\"math/tex\">(1,2,3)</script></td>\n",
       "<td><script type=\"math/tex\">(1,2,3)(4,5)</script></td>\n",
       "<td><script type=\"math/tex\">(1,2,3)(4,5,6)</script></td>\n",
       "<td><script type=\"math/tex\">(1,2,3,4)</script></td>\n",
       "<td><script type=\"math/tex\">(1,2,3,4)(5,6)</script></td>\n",
       "<td><script type=\"math/tex\">(1,2,3,4,5)</script></td>\n",
       "<td><script type=\"math/tex\">(1,2,3,4,5,6)</script></td>\n",
       "</tr>\n",
       "<tr class =\"row-b\">\n",
       "<td><script type=\"math/tex\">\\left(\\begin{array}{rr}\n",
       "1 & 0 \\\\\n",
       "0 & 1\n",
       "\\end{array}\\right)</script></td>\n",
       "<td><script type=\"math/tex\">\\left(\\right)</script></td>\n",
       "<td><script type=\"math/tex\">\\left(\\right)</script></td>\n",
       "<td><script type=\"math/tex\">\\left(\\right)</script></td>\n",
       "<td><script type=\"math/tex\">\\left(\\right)</script></td>\n",
       "<td><script type=\"math/tex\">\\left(\\right)</script></td>\n",
       "<td><script type=\"math/tex\">\\left(\\right)</script></td>\n",
       "<td><script type=\"math/tex\">\\left(\\right)</script></td>\n",
       "<td><script type=\"math/tex\">\\left(\\right)</script></td>\n",
       "<td><script type=\"math/tex\">\\left(\\right)</script></td>\n",
       "<td><script type=\"math/tex\">\\left(\\right)</script></td>\n",
       "<td><script type=\"math/tex\">\\left(\\right)</script></td>\n",
       "</tr>\n",
       "<tr class =\"row-a\">\n",
       "<td><script type=\"math/tex\">\\left(\\begin{array}{rr}\n",
       "1 & 1 \\\\\n",
       "0 & 1\n",
       "\\end{array}\\right)</script></td>\n",
       "<td><script type=\"math/tex\">\\left(\\right)</script></td>\n",
       "<td><script type=\"math/tex\">\\left(2\\right)</script></td>\n",
       "<td><script type=\"math/tex\">\\left(2\\right)</script></td>\n",
       "<td><script type=\"math/tex\">\\left(2\\right)</script></td>\n",
       "<td><script type=\"math/tex\">\\left(3\\right)</script></td>\n",
       "<td><script type=\"math/tex\">\\left(6\\right)</script></td>\n",
       "<td><script type=\"math/tex\">\\left(3\\right)</script></td>\n",
       "<td><script type=\"math/tex\">\\left(4\\right)</script></td>\n",
       "<td><script type=\"math/tex\">\\left(2, 4\\right)</script></td>\n",
       "<td><script type=\"math/tex\">\\left(5\\right)</script></td>\n",
       "<td><script type=\"math/tex\">\\left(6\\right)</script></td>\n",
       "</tr>\n",
       "<tr class =\"row-b\">\n",
       "<td><script type=\"math/tex\">\\left(\\begin{array}{rr}\n",
       "1 & 2 \\\\\n",
       "0 & 1\n",
       "\\end{array}\\right)</script></td>\n",
       "<td><script type=\"math/tex\">\\left(2\\right)</script></td>\n",
       "<td><script type=\"math/tex\">\\left(2, 4\\right)</script></td>\n",
       "<td><script type=\"math/tex\">\\left(2, 4\\right)</script></td>\n",
       "<td><script type=\"math/tex\">\\left(4\\right)</script></td>\n",
       "<td><script type=\"math/tex\">\\left(2, 6\\right)</script></td>\n",
       "<td><script type=\"math/tex\">\\left(2, 2, 12\\right)</script></td>\n",
       "<td><script type=\"math/tex\">\\left(6\\right)</script></td>\n",
       "<td><script type=\"math/tex\">\\left(2, 8\\right)</script></td>\n",
       "<td><script type=\"math/tex\">\\left(4, 8\\right)</script></td>\n",
       "<td><script type=\"math/tex\">\\left(2, 10\\right)</script></td>\n",
       "<td><script type=\"math/tex\">\\left(12\\right)</script></td>\n",
       "</tr>\n",
       "<tr class =\"row-a\">\n",
       "<td><script type=\"math/tex\">\\left(\\begin{array}{rr}\n",
       "1 & 3 \\\\\n",
       "0 & 1\n",
       "\\end{array}\\right)</script></td>\n",
       "<td><script type=\"math/tex\">\\left(3\\right)</script></td>\n",
       "<td><script type=\"math/tex\">\\left(3, 6\\right)</script></td>\n",
       "<td><script type=\"math/tex\">\\left(3, 6\\right)</script></td>\n",
       "<td><script type=\"math/tex\">\\left(6\\right)</script></td>\n",
       "<td><script type=\"math/tex\">\\left(3, 9\\right)</script></td>\n",
       "<td><script type=\"math/tex\">\\left(3, 3, 18\\right)</script></td>\n",
       "<td><script type=\"math/tex\">\\left(9\\right)</script></td>\n",
       "<td><script type=\"math/tex\">\\left(3, 12\\right)</script></td>\n",
       "<td><script type=\"math/tex\">\\left(6, 12\\right)</script></td>\n",
       "<td><script type=\"math/tex\">\\left(3, 15\\right)</script></td>\n",
       "<td><script type=\"math/tex\">\\left(18\\right)</script></td>\n",
       "</tr>\n",
       "<tr class =\"row-b\">\n",
       "<td><script type=\"math/tex\">\\left(\\begin{array}{rr}\n",
       "1 & 4 \\\\\n",
       "0 & 1\n",
       "\\end{array}\\right)</script></td>\n",
       "<td><script type=\"math/tex\">\\left(4\\right)</script></td>\n",
       "<td><script type=\"math/tex\">\\left(4, 8\\right)</script></td>\n",
       "<td><script type=\"math/tex\">\\left(4, 8\\right)</script></td>\n",
       "<td><script type=\"math/tex\">\\left(8\\right)</script></td>\n",
       "<td><script type=\"math/tex\">\\left(4, 12\\right)</script></td>\n",
       "<td><script type=\"math/tex\">\\left(4, 4, 24\\right)</script></td>\n",
       "<td><script type=\"math/tex\">\\left(12\\right)</script></td>\n",
       "<td><script type=\"math/tex\">\\left(4, 16\\right)</script></td>\n",
       "<td><script type=\"math/tex\">\\left(8, 16\\right)</script></td>\n",
       "<td><script type=\"math/tex\">\\left(4, 20\\right)</script></td>\n",
       "<td><script type=\"math/tex\">\\left(24\\right)</script></td>\n",
       "</tr>\n",
       "<tr class =\"row-a\">\n",
       "<td><script type=\"math/tex\">\\left(\\begin{array}{rr}\n",
       "1 & 5 \\\\\n",
       "0 & 1\n",
       "\\end{array}\\right)</script></td>\n",
       "<td><script type=\"math/tex\">\\left(5\\right)</script></td>\n",
       "<td><script type=\"math/tex\">\\left(5, 10\\right)</script></td>\n",
       "<td><script type=\"math/tex\">\\left(5, 10\\right)</script></td>\n",
       "<td><script type=\"math/tex\">\\left(10\\right)</script></td>\n",
       "<td><script type=\"math/tex\">\\left(5, 15\\right)</script></td>\n",
       "<td><script type=\"math/tex\">\\left(5, 5, 30\\right)</script></td>\n",
       "<td><script type=\"math/tex\">\\left(15\\right)</script></td>\n",
       "<td><script type=\"math/tex\">\\left(5, 20\\right)</script></td>\n",
       "<td><script type=\"math/tex\">\\left(10, 20\\right)</script></td>\n",
       "<td><script type=\"math/tex\">\\left(5, 25\\right)</script></td>\n",
       "<td><script type=\"math/tex\">\\left(30\\right)</script></td>\n",
       "</tr>\n",
       "<tr class =\"row-b\">\n",
       "<td><script type=\"math/tex\">\\left(\\begin{array}{rr}\n",
       "1 & 6 \\\\\n",
       "0 & 1\n",
       "\\end{array}\\right)</script></td>\n",
       "<td><script type=\"math/tex\">\\left(6\\right)</script></td>\n",
       "<td><script type=\"math/tex\">\\left(6, 12\\right)</script></td>\n",
       "<td><script type=\"math/tex\">\\left(6, 12\\right)</script></td>\n",
       "<td><script type=\"math/tex\">\\left(12\\right)</script></td>\n",
       "<td><script type=\"math/tex\">\\left(6, 18\\right)</script></td>\n",
       "<td><script type=\"math/tex\">\\left(6, 6, 36\\right)</script></td>\n",
       "<td><script type=\"math/tex\">\\left(18\\right)</script></td>\n",
       "<td><script type=\"math/tex\">\\left(6, 24\\right)</script></td>\n",
       "<td><script type=\"math/tex\">\\left(12, 24\\right)</script></td>\n",
       "<td><script type=\"math/tex\">\\left(6, 30\\right)</script></td>\n",
       "<td><script type=\"math/tex\">\\left(36\\right)</script></td>\n",
       "</tr>\n",
       "<tr class =\"row-a\">\n",
       "<td><script type=\"math/tex\">\\left(\\begin{array}{rr}\n",
       "1 & 7 \\\\\n",
       "0 & 1\n",
       "\\end{array}\\right)</script></td>\n",
       "<td><script type=\"math/tex\">\\left(7\\right)</script></td>\n",
       "<td><script type=\"math/tex\">\\left(7, 14\\right)</script></td>\n",
       "<td><script type=\"math/tex\">\\left(7, 14\\right)</script></td>\n",
       "<td><script type=\"math/tex\">\\left(14\\right)</script></td>\n",
       "<td><script type=\"math/tex\">\\left(7, 21\\right)</script></td>\n",
       "<td><script type=\"math/tex\">\\left(7, 7, 42\\right)</script></td>\n",
       "<td><script type=\"math/tex\">\\left(21\\right)</script></td>\n",
       "<td><script type=\"math/tex\">\\left(7, 28\\right)</script></td>\n",
       "<td><script type=\"math/tex\">\\left(14, 28\\right)</script></td>\n",
       "<td><script type=\"math/tex\">\\left(7, 35\\right)</script></td>\n",
       "<td><script type=\"math/tex\">\\left(42\\right)</script></td>\n",
       "</tr>\n",
       "</tbody>\n",
       "</table>\n",
       "</div>"
      ],
      "text/plain": [
       "  ()            ()     (1,2)     (1,2)(3,4)   (1,2)(3,4)(5,6)   (1,2,3)   (1,2,3)(4,5)   (1,2,3)(4,5,6)   (1,2,3,4)   (1,2,3,4)(5,6)   (1,2,3,4,5)   (1,2,3,4,5,6)\n",
       "  [1 0]\n",
       "[0 1]   ()     ()        ()           ()                ()        ()             ()               ()          ()               ()            ()\n",
       "  [1 1]\n",
       "[0 1]   ()     (2,)      (2,)         (2,)              (3,)      (6,)           (3,)             (4,)        (2, 4)           (5,)          (6,)\n",
       "  [1 2]\n",
       "[0 1]   (2,)   (2, 4)    (2, 4)       (4,)              (2, 6)    (2, 2, 12)     (6,)             (2, 8)      (4, 8)           (2, 10)       (12,)\n",
       "  [1 3]\n",
       "[0 1]   (3,)   (3, 6)    (3, 6)       (6,)              (3, 9)    (3, 3, 18)     (9,)             (3, 12)     (6, 12)          (3, 15)       (18,)\n",
       "  [1 4]\n",
       "[0 1]   (4,)   (4, 8)    (4, 8)       (8,)              (4, 12)   (4, 4, 24)     (12,)            (4, 16)     (8, 16)          (4, 20)       (24,)\n",
       "  [1 5]\n",
       "[0 1]   (5,)   (5, 10)   (5, 10)      (10,)             (5, 15)   (5, 5, 30)     (15,)            (5, 20)     (10, 20)         (5, 25)       (30,)\n",
       "  [1 6]\n",
       "[0 1]   (6,)   (6, 12)   (6, 12)      (12,)             (6, 18)   (6, 6, 36)     (18,)            (6, 24)     (12, 24)         (6, 30)       (36,)\n",
       "  [1 7]\n",
       "[0 1]   (7,)   (7, 14)   (7, 14)      (14,)             (7, 21)   (7, 7, 42)     (21,)            (7, 28)     (14, 28)         (7, 35)       (42,)"
      ]
     },
     "execution_count": 35,
     "metadata": {},
     "output_type": "execute_result"
    }
   ],
   "source": [
    "Monica_table([T^k for k in range(8)],6)"
   ]
  },
  {
   "cell_type": "code",
   "execution_count": 36,
   "id": "c100569f",
   "metadata": {},
   "outputs": [
    {
     "data": {
      "text/html": [
       "<div class=\"notruncate\">\n",
       "<table  class=\"table_form\">\n",
       "<tbody>\n",
       "<tr class =\"row-a\">\n",
       "<td><script type=\"math/tex\"></script></td>\n",
       "<td><script type=\"math/tex\"></script></td>\n",
       "<td><script type=\"math/tex\">(1,2)</script></td>\n",
       "<td><script type=\"math/tex\">(1,2)(3,4)</script></td>\n",
       "<td><script type=\"math/tex\">(1,2)(3,4)(5,6)</script></td>\n",
       "<td><script type=\"math/tex\">(1,2,3)</script></td>\n",
       "<td><script type=\"math/tex\">(1,2,3)(4,5)</script></td>\n",
       "<td><script type=\"math/tex\">(1,2,3)(4,5,6)</script></td>\n",
       "<td><script type=\"math/tex\">(1,2,3,4)</script></td>\n",
       "<td><script type=\"math/tex\">(1,2,3,4)(5,6)</script></td>\n",
       "<td><script type=\"math/tex\">(1,2,3,4,5)</script></td>\n",
       "<td><script type=\"math/tex\">(1,2,3,4,5,6)</script></td>\n",
       "</tr>\n",
       "<tr class =\"row-b\">\n",
       "<td><script type=\"math/tex\">\\left(\\begin{array}{rr}\n",
       "0 & -1 \\\\\n",
       "1 & 0\n",
       "\\end{array}\\right)</script></td>\n",
       "<td><script type=\"math/tex\">\\left(2\\right)</script></td>\n",
       "<td><script type=\"math/tex\">\\left(2, 2\\right)</script></td>\n",
       "<td><script type=\"math/tex\">\\left(2, 2\\right)</script></td>\n",
       "<td><script type=\"math/tex\">\\left(2\\right)</script></td>\n",
       "<td><script type=\"math/tex\">\\left(2, 2\\right)</script></td>\n",
       "<td><script type=\"math/tex\">\\left(2, 2, 2\\right)</script></td>\n",
       "<td><script type=\"math/tex\">\\left(2\\right)</script></td>\n",
       "<td><script type=\"math/tex\">\\left(2\\right)</script></td>\n",
       "<td><script type=\"math/tex\">\\left(2\\right)</script></td>\n",
       "<td><script type=\"math/tex\">\\left(2, 2\\right)</script></td>\n",
       "<td><script type=\"math/tex\">\\left(2\\right)</script></td>\n",
       "</tr>\n",
       "<tr class =\"row-a\">\n",
       "<td><script type=\"math/tex\">\\left(\\begin{array}{rr}\n",
       "0 & -1 \\\\\n",
       "1 & 1\n",
       "\\end{array}\\right)</script></td>\n",
       "<td><script type=\"math/tex\">\\left(\\right)</script></td>\n",
       "<td><script type=\"math/tex\">\\left(\\right)</script></td>\n",
       "<td><script type=\"math/tex\">\\left(\\right)</script></td>\n",
       "<td><script type=\"math/tex\">\\left(\\right)</script></td>\n",
       "<td><script type=\"math/tex\">\\left(\\right)</script></td>\n",
       "<td><script type=\"math/tex\">\\left(\\right)</script></td>\n",
       "<td><script type=\"math/tex\">\\left(\\right)</script></td>\n",
       "<td><script type=\"math/tex\">\\left(\\right)</script></td>\n",
       "<td><script type=\"math/tex\">\\left(\\right)</script></td>\n",
       "<td><script type=\"math/tex\">\\left(\\right)</script></td>\n",
       "<td><script type=\"math/tex\">\\left(\\right)</script></td>\n",
       "</tr>\n",
       "<tr class =\"row-b\">\n",
       "<td><script type=\"math/tex\">\\left(\\begin{array}{rr}\n",
       "0 & -1 \\\\\n",
       "1 & 2\n",
       "\\end{array}\\right)</script></td>\n",
       "<td><script type=\"math/tex\">\\left(\\right)</script></td>\n",
       "<td><script type=\"math/tex\">\\left(2\\right)</script></td>\n",
       "<td><script type=\"math/tex\">\\left(2\\right)</script></td>\n",
       "<td><script type=\"math/tex\">\\left(2\\right)</script></td>\n",
       "<td><script type=\"math/tex\">\\left(3\\right)</script></td>\n",
       "<td><script type=\"math/tex\">\\left(6\\right)</script></td>\n",
       "<td><script type=\"math/tex\">\\left(3\\right)</script></td>\n",
       "<td><script type=\"math/tex\">\\left(4\\right)</script></td>\n",
       "<td><script type=\"math/tex\">\\left(2, 4\\right)</script></td>\n",
       "<td><script type=\"math/tex\">\\left(5\\right)</script></td>\n",
       "<td><script type=\"math/tex\">\\left(6\\right)</script></td>\n",
       "</tr>\n",
       "<tr class =\"row-a\">\n",
       "<td><script type=\"math/tex\">\\left(\\begin{array}{rr}\n",
       "0 & -1 \\\\\n",
       "1 & 3\n",
       "\\end{array}\\right)</script></td>\n",
       "<td><script type=\"math/tex\">\\left(\\right)</script></td>\n",
       "<td><script type=\"math/tex\">\\left(\\right)</script></td>\n",
       "<td><script type=\"math/tex\">\\left(\\right)</script></td>\n",
       "<td><script type=\"math/tex\">\\left(\\right)</script></td>\n",
       "<td><script type=\"math/tex\">\\left(\\right)</script></td>\n",
       "<td><script type=\"math/tex\">\\left(\\right)</script></td>\n",
       "<td><script type=\"math/tex\">\\left(\\right)</script></td>\n",
       "<td><script type=\"math/tex\">\\left(\\right)</script></td>\n",
       "<td><script type=\"math/tex\">\\left(\\right)</script></td>\n",
       "<td><script type=\"math/tex\">\\left(\\right)</script></td>\n",
       "<td><script type=\"math/tex\">\\left(\\right)</script></td>\n",
       "</tr>\n",
       "<tr class =\"row-b\">\n",
       "<td><script type=\"math/tex\">\\left(\\begin{array}{rr}\n",
       "0 & -1 \\\\\n",
       "1 & 4\n",
       "\\end{array}\\right)</script></td>\n",
       "<td><script type=\"math/tex\">\\left(2\\right)</script></td>\n",
       "<td><script type=\"math/tex\">\\left(2, 2\\right)</script></td>\n",
       "<td><script type=\"math/tex\">\\left(2, 2\\right)</script></td>\n",
       "<td><script type=\"math/tex\">\\left(2\\right)</script></td>\n",
       "<td><script type=\"math/tex\">\\left(2, 2\\right)</script></td>\n",
       "<td><script type=\"math/tex\">\\left(2, 2, 2\\right)</script></td>\n",
       "<td><script type=\"math/tex\">\\left(2\\right)</script></td>\n",
       "<td><script type=\"math/tex\">\\left(2, 2\\right)</script></td>\n",
       "<td><script type=\"math/tex\">\\left(2, 2\\right)</script></td>\n",
       "<td><script type=\"math/tex\">\\left(2, 2\\right)</script></td>\n",
       "<td><script type=\"math/tex\">\\left(2\\right)</script></td>\n",
       "</tr>\n",
       "<tr class =\"row-a\">\n",
       "<td><script type=\"math/tex\">\\left(\\begin{array}{rr}\n",
       "0 & -1 \\\\\n",
       "1 & 5\n",
       "\\end{array}\\right)</script></td>\n",
       "<td><script type=\"math/tex\">\\left(3\\right)</script></td>\n",
       "<td><script type=\"math/tex\">\\left(3, 3\\right)</script></td>\n",
       "<td><script type=\"math/tex\">\\left(3, 3\\right)</script></td>\n",
       "<td><script type=\"math/tex\">\\left(3\\right)</script></td>\n",
       "<td><script type=\"math/tex\">\\left(3, 3\\right)</script></td>\n",
       "<td><script type=\"math/tex\">\\left(3, 3, 3\\right)</script></td>\n",
       "<td><script type=\"math/tex\">\\left(3\\right)</script></td>\n",
       "<td><script type=\"math/tex\">\\left(3, 3\\right)</script></td>\n",
       "<td><script type=\"math/tex\">\\left(3, 3\\right)</script></td>\n",
       "<td><script type=\"math/tex\">\\left(3, 3\\right)</script></td>\n",
       "<td><script type=\"math/tex\">\\left(3\\right)</script></td>\n",
       "</tr>\n",
       "<tr class =\"row-b\">\n",
       "<td><script type=\"math/tex\">\\left(\\begin{array}{rr}\n",
       "0 & -1 \\\\\n",
       "1 & 6\n",
       "\\end{array}\\right)</script></td>\n",
       "<td><script type=\"math/tex\">\\left(4\\right)</script></td>\n",
       "<td><script type=\"math/tex\">\\left(4, 4\\right)</script></td>\n",
       "<td><script type=\"math/tex\">\\left(4, 4\\right)</script></td>\n",
       "<td><script type=\"math/tex\">\\left(4\\right)</script></td>\n",
       "<td><script type=\"math/tex\">\\left(4, 4\\right)</script></td>\n",
       "<td><script type=\"math/tex\">\\left(4, 4, 4\\right)</script></td>\n",
       "<td><script type=\"math/tex\">\\left(4\\right)</script></td>\n",
       "<td><script type=\"math/tex\">\\left(4, 4\\right)</script></td>\n",
       "<td><script type=\"math/tex\">\\left(4, 4\\right)</script></td>\n",
       "<td><script type=\"math/tex\">\\left(4, 4\\right)</script></td>\n",
       "<td><script type=\"math/tex\">\\left(4\\right)</script></td>\n",
       "</tr>\n",
       "<tr class =\"row-a\">\n",
       "<td><script type=\"math/tex\">\\left(\\begin{array}{rr}\n",
       "0 & -1 \\\\\n",
       "1 & 7\n",
       "\\end{array}\\right)</script></td>\n",
       "<td><script type=\"math/tex\">\\left(5\\right)</script></td>\n",
       "<td><script type=\"math/tex\">\\left(5, 5\\right)</script></td>\n",
       "<td><script type=\"math/tex\">\\left(5, 5\\right)</script></td>\n",
       "<td><script type=\"math/tex\">\\left(5\\right)</script></td>\n",
       "<td><script type=\"math/tex\">\\left(5, 5\\right)</script></td>\n",
       "<td><script type=\"math/tex\">\\left(5, 5, 5\\right)</script></td>\n",
       "<td><script type=\"math/tex\">\\left(5\\right)</script></td>\n",
       "<td><script type=\"math/tex\">\\left(5, 5\\right)</script></td>\n",
       "<td><script type=\"math/tex\">\\left(5, 5\\right)</script></td>\n",
       "<td><script type=\"math/tex\">\\left(5, 5\\right)</script></td>\n",
       "<td><script type=\"math/tex\">\\left(5\\right)</script></td>\n",
       "</tr>\n",
       "</tbody>\n",
       "</table>\n",
       "</div>"
      ],
      "text/plain": [
       "  ()                ()     (1,2)    (1,2)(3,4)   (1,2)(3,4)(5,6)   (1,2,3)   (1,2,3)(4,5)   (1,2,3)(4,5,6)   (1,2,3,4)   (1,2,3,4)(5,6)   (1,2,3,4,5)   (1,2,3,4,5,6)\n",
       "  [ 0 -1]\n",
       "[ 1  0]   (2,)   (2, 2)   (2, 2)       (2,)              (2, 2)    (2, 2, 2)      (2,)             (2,)        (2,)             (2, 2)        (2,)\n",
       "  [ 0 -1]\n",
       "[ 1  1]   ()     ()       ()           ()                ()        ()             ()               ()          ()               ()            ()\n",
       "  [ 0 -1]\n",
       "[ 1  2]   ()     (2,)     (2,)         (2,)              (3,)      (6,)           (3,)             (4,)        (2, 4)           (5,)          (6,)\n",
       "  [ 0 -1]\n",
       "[ 1  3]   ()     ()       ()           ()                ()        ()             ()               ()          ()               ()            ()\n",
       "  [ 0 -1]\n",
       "[ 1  4]   (2,)   (2, 2)   (2, 2)       (2,)              (2, 2)    (2, 2, 2)      (2,)             (2, 2)      (2, 2)           (2, 2)        (2,)\n",
       "  [ 0 -1]\n",
       "[ 1  5]   (3,)   (3, 3)   (3, 3)       (3,)              (3, 3)    (3, 3, 3)      (3,)             (3, 3)      (3, 3)           (3, 3)        (3,)\n",
       "  [ 0 -1]\n",
       "[ 1  6]   (4,)   (4, 4)   (4, 4)       (4,)              (4, 4)    (4, 4, 4)      (4,)             (4, 4)      (4, 4)           (4, 4)        (4,)\n",
       "  [ 0 -1]\n",
       "[ 1  7]   (5,)   (5, 5)   (5, 5)       (5,)              (5, 5)    (5, 5, 5)      (5,)             (5, 5)      (5, 5)           (5, 5)        (5,)"
      ]
     },
     "execution_count": 36,
     "metadata": {},
     "output_type": "execute_result"
    }
   ],
   "source": [
    "Monica_table([S*T^k for k in range(8)],6)"
   ]
  },
  {
   "cell_type": "code",
   "execution_count": 39,
   "id": "4bd3eb1d",
   "metadata": {},
   "outputs": [
    {
     "ename": "KeyboardInterrupt",
     "evalue": "",
     "output_type": "error",
     "traceback": [
      "\u001b[1;31m---------------------------------------------------------------------------\u001b[0m",
      "\u001b[1;31mKeyboardInterrupt\u001b[0m                         Traceback (most recent call last)",
      "\u001b[1;32m/tmp/ipykernel_7827/2538538575.py\u001b[0m in \u001b[0;36m<module>\u001b[1;34m\u001b[0m\n\u001b[1;32m----> 1\u001b[1;33m \u001b[0mMonica_table\u001b[0m\u001b[1;33m(\u001b[0m\u001b[1;33m[\u001b[0m\u001b[0mT\u001b[0m\u001b[1;33m**\u001b[0m\u001b[0mk\u001b[0m \u001b[1;32mfor\u001b[0m \u001b[0mk\u001b[0m \u001b[1;32min\u001b[0m \u001b[1;33m[\u001b[0m\u001b[0mInteger\u001b[0m\u001b[1;33m(\u001b[0m\u001b[1;36m0\u001b[0m\u001b[1;33m)\u001b[0m\u001b[1;33m,\u001b[0m\u001b[0mInteger\u001b[0m\u001b[1;33m(\u001b[0m\u001b[1;36m2\u001b[0m\u001b[1;33m)\u001b[0m\u001b[1;33m,\u001b[0m\u001b[0mInteger\u001b[0m\u001b[1;33m(\u001b[0m\u001b[1;36m8\u001b[0m\u001b[1;33m)\u001b[0m\u001b[1;33m]\u001b[0m\u001b[1;33m]\u001b[0m\u001b[1;33m,\u001b[0m\u001b[0mInteger\u001b[0m\u001b[1;33m(\u001b[0m\u001b[1;36m9\u001b[0m\u001b[1;33m)\u001b[0m\u001b[1;33m)\u001b[0m\u001b[1;33m\u001b[0m\u001b[1;33m\u001b[0m\u001b[0m\n\u001b[0m",
      "\u001b[1;32m<string>\u001b[0m in \u001b[0;36mMonica_table\u001b[1;34m(L, n)\u001b[0m\n",
      "\u001b[1;32m<string>\u001b[0m in \u001b[0;36m<listcomp>\u001b[1;34m(.0)\u001b[0m\n",
      "\u001b[1;32m<string>\u001b[0m in \u001b[0;36m<listcomp>\u001b[1;34m(.0)\u001b[0m\n",
      "\u001b[1;32m<string>\u001b[0m in \u001b[0;36mget_cokernel\u001b[1;34m(gamma, sigma, take_coinvariants)\u001b[0m\n",
      "\u001b[1;32m<string>\u001b[0m in \u001b[0;36m<listcomp>\u001b[1;34m(.0)\u001b[0m\n",
      "\u001b[1;32m<string>\u001b[0m in \u001b[0;36mW_rep\u001b[1;34m(sigma)\u001b[0m\n",
      "\u001b[1;32m/usr/lib/python3/dist-packages/sage/matrix/special.py\u001b[0m in \u001b[0;36mblock_diagonal_matrix\u001b[1;34m(*sub_matrices, **kwds)\u001b[0m\n\u001b[0;32m   2133\u001b[0m     \u001b[1;32mfor\u001b[0m \u001b[0mi\u001b[0m \u001b[1;32min\u001b[0m \u001b[0mrange\u001b[0m\u001b[1;33m(\u001b[0m\u001b[0mn\u001b[0m\u001b[1;33m)\u001b[0m\u001b[1;33m:\u001b[0m\u001b[1;33m\u001b[0m\u001b[1;33m\u001b[0m\u001b[0m\n\u001b[0;32m   2134\u001b[0m         \u001b[0mentries\u001b[0m\u001b[1;33m[\u001b[0m\u001b[0mn\u001b[0m\u001b[1;33m*\u001b[0m\u001b[0mi\u001b[0m\u001b[1;33m+\u001b[0m\u001b[0mi\u001b[0m\u001b[1;33m]\u001b[0m \u001b[1;33m=\u001b[0m \u001b[0msub_matrices\u001b[0m\u001b[1;33m[\u001b[0m\u001b[0mi\u001b[0m\u001b[1;33m]\u001b[0m\u001b[1;33m\u001b[0m\u001b[1;33m\u001b[0m\u001b[0m\n\u001b[1;32m-> 2135\u001b[1;33m     \u001b[1;32mreturn\u001b[0m \u001b[0mblock_matrix\u001b[0m\u001b[1;33m(\u001b[0m\u001b[0mn\u001b[0m\u001b[1;33m,\u001b[0m \u001b[0mn\u001b[0m\u001b[1;33m,\u001b[0m \u001b[0mentries\u001b[0m\u001b[1;33m,\u001b[0m \u001b[1;33m**\u001b[0m\u001b[0mkwds\u001b[0m\u001b[1;33m)\u001b[0m\u001b[1;33m\u001b[0m\u001b[1;33m\u001b[0m\u001b[0m\n\u001b[0m\u001b[0;32m   2136\u001b[0m \u001b[1;33m\u001b[0m\u001b[0m\n\u001b[0;32m   2137\u001b[0m \u001b[1;33m\u001b[0m\u001b[0m\n",
      "\u001b[1;32m/usr/lib/python3/dist-packages/sage/matrix/special.py\u001b[0m in \u001b[0;36mblock_matrix\u001b[1;34m(*args, **kwds)\u001b[0m\n\u001b[0;32m   2093\u001b[0m \u001b[1;33m\u001b[0m\u001b[0m\n\u001b[0;32m   2094\u001b[0m     \u001b[1;32mif\u001b[0m \u001b[0msubdivide\u001b[0m\u001b[1;33m:\u001b[0m\u001b[1;33m\u001b[0m\u001b[1;33m\u001b[0m\u001b[0m\n\u001b[1;32m-> 2095\u001b[1;33m         big.subdivide(running_total(row_heights[:-1]),\n\u001b[0m\u001b[0;32m   2096\u001b[0m                       running_total(col_widths[:-1]))\n\u001b[0;32m   2097\u001b[0m \u001b[1;33m\u001b[0m\u001b[0m\n",
      "\u001b[1;32msrc/cysignals/signals.pyx\u001b[0m in \u001b[0;36mcysignals.signals.python_check_interrupt\u001b[1;34m()\u001b[0m\n",
      "\u001b[1;31mKeyboardInterrupt\u001b[0m: "
     ]
    }
   ],
   "source": []
  },
  {
   "cell_type": "code",
   "execution_count": 54,
   "id": "90b7d0e4",
   "metadata": {},
   "outputs": [
    {
     "name": "stdout",
     "output_type": "stream",
     "text": [
      "Finitely generated module V/W over Integer Ring with invariants ()\n",
      "Finitely generated module V/W over Integer Ring with invariants (2, 12)\n",
      "Finitely generated module V/W over Integer Ring with invariants (2, 2, 4, 24)\n",
      "Finitely generated module V/W over Integer Ring with invariants (3, 3, 6, 36)\n",
      "Finitely generated module V/W over Integer Ring with invariants (4, 4, 8, 48)\n",
      "Finitely generated module V/W over Integer Ring with invariants (5, 5, 10, 60)\n",
      "Finitely generated module V/W over Integer Ring with invariants (6, 6, 12, 72)\n",
      "Finitely generated module V/W over Integer Ring with invariants (7, 7, 14, 84)\n",
      "\n",
      " W8: \n",
      "\n",
      "Finitely generated module V/W over Integer Ring with invariants ()\n",
      "Finitely generated module V/W over Integer Ring with invariants (2, 4)\n",
      "Finitely generated module V/W over Integer Ring with invariants (4, 8)\n",
      "Finitely generated module V/W over Integer Ring with invariants (6, 12)\n",
      "Finitely generated module V/W over Integer Ring with invariants (8, 16)\n",
      "Finitely generated module V/W over Integer Ring with invariants (10, 20)\n",
      "Finitely generated module V/W over Integer Ring with invariants (12, 24)\n",
      "Finitely generated module V/W over Integer Ring with invariants (14, 28)\n",
      "\n",
      " W10, 4|2|2|1|1 \n",
      "\n",
      "Finitely generated module V/W over Integer Ring with invariants ()\n",
      "Finitely generated module V/W over Integer Ring with invariants (2, 4)\n",
      "Finitely generated module V/W over Integer Ring with invariants (2, 4, 8)\n",
      "Finitely generated module V/W over Integer Ring with invariants (3, 6, 12)\n",
      "Finitely generated module V/W over Integer Ring with invariants (4, 8, 16)\n",
      "Finitely generated module V/W over Integer Ring with invariants (5, 10, 20)\n",
      "Finitely generated module V/W over Integer Ring with invariants (6, 12, 24)\n",
      "Finitely generated module V/W over Integer Ring with invariants (7, 14, 28)\n",
      "\n",
      " W11, 5|5|1 \n",
      "\n",
      "Finitely generated module V/W over Integer Ring with invariants ()\n",
      "Finitely generated module V/W over Integer Ring with invariants (5)\n",
      "Finitely generated module V/W over Integer Ring with invariants (2, 10)\n",
      "Finitely generated module V/W over Integer Ring with invariants (3, 15)\n",
      "Finitely generated module V/W over Integer Ring with invariants (4, 20)\n",
      "Finitely generated module V/W over Integer Ring with invariants (5, 25)\n",
      "Finitely generated module V/W over Integer Ring with invariants (6, 30)\n",
      "Finitely generated module V/W over Integer Ring with invariants (7, 35)\n",
      "\n",
      " W11, 5|3|1 \n",
      "\n",
      "Finitely generated module V/W over Integer Ring with invariants ()\n",
      "Finitely generated module V/W over Integer Ring with invariants (15)\n",
      "Finitely generated module V/W over Integer Ring with invariants (2, 2, 30)\n",
      "Finitely generated module V/W over Integer Ring with invariants (3, 3, 45)\n",
      "Finitely generated module V/W over Integer Ring with invariants (4, 4, 60)\n",
      "Finitely generated module V/W over Integer Ring with invariants (5, 5, 75)\n",
      "Finitely generated module V/W over Integer Ring with invariants (6, 6, 90)\n",
      "Finitely generated module V/W over Integer Ring with invariants (7, 7, 105)\n"
     ]
    }
   ],
   "source": [
    "\n",
    "for k in range(8):\n",
    "    print(get_cokernel(T^k,W10([(1,2,3,4),(5,6,7),(8,9)])))\n",
    "    \n",
    "print(\"\\n W8: \\n\")\n",
    "for k in range(8):\n",
    "    print(get_cokernel(T^k,W8([(1,2,3,4),(5,6),(7,8)])))\n",
    "    \n",
    "print(\"\\n W10, 4|2|2|1|1 \\n\")\n",
    "for k in range(8):\n",
    "    print(get_cokernel(T^k,W10([(1,2,3,4),(5,6),(7,8)])))\n",
    "    \n",
    "print(\"\\n W11, 5|5|1 \\n\")\n",
    "for k in range(8):\n",
    "    print(get_cokernel(T^k,W11([(1,2,3,4,5),(6,7,8,9,10)])))\n",
    "    \n",
    "print(\"\\n W11, 5|3|1 \\n\")\n",
    "for k in range(8):\n",
    "    print(get_cokernel(T^k,W11([(1,2,3,4,5),(6,7,8)])))"
   ]
  },
  {
   "cell_type": "code",
   "execution_count": 59,
   "id": "02ec9c1b",
   "metadata": {},
   "outputs": [],
   "source": [
    "W15 = SymmetricGroup(15)\n",
    "W14 = SymmetricGroup(14)\n",
    "W11 = SymmetricGroup(11)\n",
    "W10 = SymmetricGroup(10)\n",
    "W8 = SymmetricGroup(8)\n",
    "\n"
   ]
  },
  {
   "cell_type": "code",
   "execution_count": 56,
   "id": "4e9a0810",
   "metadata": {},
   "outputs": [
    {
     "name": "stdout",
     "output_type": "stream",
     "text": [
      "\n",
      " W11, 5|3|3 \n",
      "\n",
      "Finitely generated module V/W over Integer Ring with invariants ()\n",
      "Finitely generated module V/W over Integer Ring with invariants (15)\n",
      "Finitely generated module V/W over Integer Ring with invariants (2, 30)\n",
      "Finitely generated module V/W over Integer Ring with invariants (3, 45)\n",
      "Finitely generated module V/W over Integer Ring with invariants (4, 60)\n",
      "Finitely generated module V/W over Integer Ring with invariants (5, 75)\n",
      "Finitely generated module V/W over Integer Ring with invariants (6, 90)\n",
      "Finitely generated module V/W over Integer Ring with invariants (7, 105)\n",
      "\n",
      " W11, 4|2|2 \n",
      "\n",
      "Finitely generated module V/W over Integer Ring with invariants ()\n",
      "Finitely generated module V/W over Integer Ring with invariants (2, 4)\n",
      "Finitely generated module V/W over Integer Ring with invariants (2, 4, 8)\n",
      "Finitely generated module V/W over Integer Ring with invariants (3, 6, 12)\n",
      "Finitely generated module V/W over Integer Ring with invariants (4, 8, 16)\n",
      "Finitely generated module V/W over Integer Ring with invariants (5, 10, 20)\n",
      "Finitely generated module V/W over Integer Ring with invariants (6, 12, 24)\n",
      "Finitely generated module V/W over Integer Ring with invariants (7, 14, 28)\n",
      "\n",
      " W14, 8|4|2 \n",
      "\n",
      "Finitely generated module V/W over Integer Ring with invariants ()\n",
      "Finitely generated module V/W over Integer Ring with invariants (2, 4, 8)\n",
      "Finitely generated module V/W over Integer Ring with invariants (4, 8, 16)\n",
      "Finitely generated module V/W over Integer Ring with invariants (6, 12, 24)\n",
      "Finitely generated module V/W over Integer Ring with invariants (8, 16, 32)\n",
      "Finitely generated module V/W over Integer Ring with invariants (10, 20, 40)\n",
      "Finitely generated module V/W over Integer Ring with invariants (12, 24, 48)\n",
      "Finitely generated module V/W over Integer Ring with invariants (14, 28, 56)\n"
     ]
    }
   ],
   "source": [
    "print(\"\\n W11, 5|3|3 \\n\")\n",
    "for k in range(8):\n",
    "    print(get_cokernel(T^k,W11([(1,2,3,4,5),(6,7,8),(9,10,11)])))\n",
    "    \n",
    "print(\"\\n W11, 4|2|2 \\n\")\n",
    "for k in range(8):\n",
    "    print(get_cokernel(T^k,W11([(1,2,3,4),(6,7),(9,10)])))\n",
    "    \n",
    "print(\"\\n W14, 8|4|2 \\n\")\n",
    "for k in range(8):\n",
    "    print(get_cokernel(T^k,W14([(1,2,3,4,5,6,7,8),(9,10,11,12),(13,14)])))"
   ]
  },
  {
   "cell_type": "code",
   "execution_count": 58,
   "id": "7760734c",
   "metadata": {},
   "outputs": [
    {
     "name": "stdout",
     "output_type": "stream",
     "text": [
      "\n",
      " W15, 8|4|2|1 \n",
      "\n",
      "Finitely generated module V/W over Integer Ring with invariants ()\n",
      "Finitely generated module V/W over Integer Ring with invariants (2, 4, 8)\n",
      "Finitely generated module V/W over Integer Ring with invariants (2, 4, 8, 16)\n",
      "Finitely generated module V/W over Integer Ring with invariants (3, 6, 12, 24)\n",
      "Finitely generated module V/W over Integer Ring with invariants (4, 8, 16, 32)\n",
      "Finitely generated module V/W over Integer Ring with invariants (5, 10, 20, 40)\n",
      "Finitely generated module V/W over Integer Ring with invariants (6, 12, 24, 48)\n",
      "Finitely generated module V/W over Integer Ring with invariants (7, 14, 28, 56)\n"
     ]
    }
   ],
   "source": [
    "print(\"\\n W15, 8|4|2|1 \\n\")\n",
    "for k in range(8):\n",
    "    print(get_cokernel(T^k,W15([(1,2,3,4,5,6,7,8),(9,10,11,12),(13,14)])))"
   ]
  },
  {
   "cell_type": "code",
   "execution_count": 88,
   "id": "d78e6434",
   "metadata": {},
   "outputs": [
    {
     "name": "stdout",
     "output_type": "stream",
     "text": [
      "\n",
      " W13, [6, 4, 3]\n",
      "\n",
      "Finitely generated module V/W over Integer Ring with invariants ()\n",
      "Finitely generated module V/W over Integer Ring with invariants (6, 12)\n",
      "Finitely generated module V/W over Integer Ring with invariants (2, 12, 24)\n",
      "Finitely generated module V/W over Integer Ring with invariants (3, 18, 36)\n",
      "Finitely generated module V/W over Integer Ring with invariants (4, 24, 48)\n",
      "Finitely generated module V/W over Integer Ring with invariants (5, 30, 60)\n",
      "Finitely generated module V/W over Integer Ring with invariants (6, 36, 72)\n",
      "Finitely generated module V/W over Integer Ring with invariants (7, 42, 84)\n",
      "\n",
      " W13, [6, 4, 3]\n",
      "\n",
      "-7\t\t Finitely generated module V/W over Integer Ring with invariants (7, 42, 84)\n",
      "-6\t\t Finitely generated module V/W over Integer Ring with invariants (6, 36, 72)\n",
      "-5\t\t Finitely generated module V/W over Integer Ring with invariants (5, 30, 60)\n",
      "-4\t\t Finitely generated module V/W over Integer Ring with invariants (4, 24, 48)\n",
      "-3\t\t Finitely generated module V/W over Integer Ring with invariants (3, 18, 36)\n",
      "-2\t\t Finitely generated module V/W over Integer Ring with invariants (2, 12, 24)\n",
      "-1\t\t Finitely generated module V/W over Integer Ring with invariants (6, 12)\n"
     ]
    }
   ],
   "source": [
    "s = W(13)([(1,2,3,4,5,6),(7,8,9,10),(11,12,13)])\n",
    "p = s.conjugacy_class().partition()\n",
    "print(\"\\n W13, {}\\n\".format(p))\n",
    "for k in range(8):\n",
    "    print(get_cokernel(T^k,W(13)([(1,2,3,4,5,6),(7,8,9,10),(11,12,13)])))\n",
    "    \n",
    "print(\"\\n W13, {}\\n\".format(p))\n",
    "for k in range(-7,0):\n",
    "    print(\"{}\\t\\t\".format(k),get_cokernel(T^k,W(13)([(1,2,3,4,5,6),(7,8,9,10),(11,12,13)])))"
   ]
  },
  {
   "cell_type": "code",
   "execution_count": 70,
   "id": "bdab077b",
   "metadata": {},
   "outputs": [
    {
     "name": "stdout",
     "output_type": "stream",
     "text": [
      "\n",
      " W13, [5, 3, 3, 1, 1], not taking coinv\n",
      "\n",
      "Finitely generated module V/W over Integer Ring with invariants ()\n",
      "Finitely generated module V/W over Integer Ring with invariants (3, 15)\n",
      "Finitely generated module V/W over Integer Ring with invariants (2, 2, 2, 6, 30)\n",
      "Finitely generated module V/W over Integer Ring with invariants (3, 3, 3, 9, 45)\n",
      "Finitely generated module V/W over Integer Ring with invariants (4, 4, 4, 12, 60)\n",
      "Finitely generated module V/W over Integer Ring with invariants (5, 5, 5, 15, 75)\n",
      "Finitely generated module V/W over Integer Ring with invariants (6, 6, 6, 18, 90)\n",
      "Finitely generated module V/W over Integer Ring with invariants (7, 7, 7, 21, 105)\n",
      "\n",
      " W13, [5, 3, 3, 1, 1], taking coinv\n",
      "\n",
      "Finitely generated module V/W over Integer Ring with invariants ()\n",
      "Finitely generated module V/W over Integer Ring with invariants (15)\n",
      "Finitely generated module V/W over Integer Ring with invariants (2, 2, 30)\n",
      "Finitely generated module V/W over Integer Ring with invariants (3, 3, 45)\n",
      "Finitely generated module V/W over Integer Ring with invariants (4, 4, 60)\n",
      "Finitely generated module V/W over Integer Ring with invariants (5, 5, 75)\n",
      "Finitely generated module V/W over Integer Ring with invariants (6, 6, 90)\n",
      "Finitely generated module V/W over Integer Ring with invariants (7, 7, 105)\n"
     ]
    }
   ],
   "source": [
    "s = W(13)([(1,2,3,4,5),(6,7,8),(9,10,11)])\n",
    "p = s.conjugacy_class().partition()\n",
    "print(\"\\n W13, {}, not taking coinv\\n\".format(p))\n",
    "for k in range(8):\n",
    "    print(get_cokernel(T^k,s,False))\n",
    "    \n",
    "print(\"\\n W13, {}, taking coinv\\n\".format(p))\n",
    "for k in range(8):\n",
    "    print(get_cokernel(T^k,s))"
   ]
  },
  {
   "cell_type": "code",
   "execution_count": 73,
   "id": "e8f8cf03",
   "metadata": {},
   "outputs": [
    {
     "name": "stdout",
     "output_type": "stream",
     "text": [
      "\n",
      " W12\t [4, 3, 2, 2, 1]\n",
      "Finitely generated module V/W over Integer Ring with invariants ()\n",
      "Finitely generated module V/W over Integer Ring with invariants (2, 12)\n",
      "Finitely generated module V/W over Integer Ring with invariants (2, 2, 4, 24)\n",
      "Finitely generated module V/W over Integer Ring with invariants (3, 3, 6, 36)\n"
     ]
    }
   ],
   "source": [
    "s = W(4+3+2+2+1)([(1,2,3,4),(5,6,7),(8,9),(10,11)])\n",
    "p = s.conjugacy_class().partition()\n",
    "print(\"\\n W{0}\\t {1}\".format(4+3+2+2+1, p))\n",
    "for k in range(4):\n",
    "    print(get_cokernel(T^k,s))"
   ]
  },
  {
   "cell_type": "code",
   "execution_count": 74,
   "id": "076c254e",
   "metadata": {},
   "outputs": [
    {
     "name": "stdout",
     "output_type": "stream",
     "text": [
      "\n",
      " W20\t [9, 6, 3, 2]\n",
      "Finitely generated module V/W over Integer Ring with invariants ()\n",
      "Finitely generated module V/W over Integer Ring with invariants (3, 6, 18)\n",
      "Finitely generated module V/W over Integer Ring with invariants (2, 6, 12, 36)\n",
      "Finitely generated module V/W over Integer Ring with invariants (3, 9, 18, 54)\n"
     ]
    }
   ],
   "source": [
    "s = W(9+6+3+2)([(1,2,3,4,5,6,7,8,9),(10,11,12,13,14,15),(16,17,18),(19,20)])\n",
    "p = s.conjugacy_class().partition()\n",
    "print(\"\\n W{0}\\t {1}\".format(9+6+3+2, p))\n",
    "for k in range(4):\n",
    "    print(get_cokernel(T^k,s))"
   ]
  },
  {
   "cell_type": "code",
   "execution_count": 75,
   "id": "cf2a8d9a",
   "metadata": {},
   "outputs": [
    {
     "name": "stdout",
     "output_type": "stream",
     "text": [
      "\n",
      " W24\t [9, 6, 4, 3, 2]\n",
      "Finitely generated module V/W over Integer Ring with invariants (6, 6, 36)\n",
      "Finitely generated module V/W over Integer Ring with invariants (2, 2, 12, 12, 72)\n",
      "Finitely generated module V/W over Integer Ring with invariants (3, 3, 18, 18, 108)\n"
     ]
    }
   ],
   "source": [
    "s = W(9+6+4+3+2)([(1,2,3,4,5,6,7,8,9),(10,11,12,13,14,15),(16,17,18),(19,20),(21,22,23,24)])\n",
    "p = s.conjugacy_class().partition()\n",
    "print(\"\\n W{0}\\t {1}\".format(9+6+4+3+2, p))\n",
    "for k in range(1,4):\n",
    "    print(get_cokernel(T^k,s))"
   ]
  },
  {
   "cell_type": "code",
   "execution_count": null,
   "id": "9c305c41",
   "metadata": {},
   "outputs": [],
   "source": []
  },
  {
   "cell_type": "markdown",
   "id": "d883953a",
   "metadata": {},
   "source": [
    "Experiements with ST^k\n",
    "----------------------------\n",
    "- For $k \\geq 3$, we get $(k-2,...,k-2)$ with multiplicity the # of distinct parts of $\\lambda$.\n",
    "- For $k = 2$, it behaves like $T$.\n",
    "- For $k = 1$, we get ()\n",
    "- For $k = 0$, it's just $S$ which is $(2,...,2)$ with multiplicity # of distinct parts, ignoring parts with length some multiple of 4."
   ]
  },
  {
   "cell_type": "code",
   "execution_count": 76,
   "id": "15a3aac4",
   "metadata": {},
   "outputs": [
    {
     "name": "stdout",
     "output_type": "stream",
     "text": [
      "\n",
      " W11, 5|3|3 \n",
      "\n",
      "Finitely generated module V/W over Integer Ring with invariants (2, 2)\n",
      "Finitely generated module V/W over Integer Ring with invariants ()\n",
      "Finitely generated module V/W over Integer Ring with invariants (15)\n",
      "Finitely generated module V/W over Integer Ring with invariants ()\n",
      "Finitely generated module V/W over Integer Ring with invariants (2, 2)\n",
      "Finitely generated module V/W over Integer Ring with invariants (3, 3)\n",
      "Finitely generated module V/W over Integer Ring with invariants (4, 4)\n",
      "Finitely generated module V/W over Integer Ring with invariants (5, 5)\n",
      "\n",
      " W11, 4|2|2 \n",
      "\n",
      "Finitely generated module V/W over Integer Ring with invariants (2, 2)\n",
      "Finitely generated module V/W over Integer Ring with invariants ()\n",
      "Finitely generated module V/W over Integer Ring with invariants (2, 4)\n",
      "Finitely generated module V/W over Integer Ring with invariants ()\n",
      "Finitely generated module V/W over Integer Ring with invariants (2, 2, 2)\n",
      "Finitely generated module V/W over Integer Ring with invariants (3, 3, 3)\n",
      "Finitely generated module V/W over Integer Ring with invariants (4, 4, 4)\n",
      "Finitely generated module V/W over Integer Ring with invariants (5, 5, 5)\n",
      "\n",
      " W14, 8|4|2 \n",
      "\n",
      "Finitely generated module V/W over Integer Ring with invariants (2)\n",
      "Finitely generated module V/W over Integer Ring with invariants ()\n",
      "Finitely generated module V/W over Integer Ring with invariants (2, 4, 8)\n",
      "Finitely generated module V/W over Integer Ring with invariants ()\n",
      "Finitely generated module V/W over Integer Ring with invariants (2, 2, 2)\n",
      "Finitely generated module V/W over Integer Ring with invariants (3, 3, 3)\n",
      "Finitely generated module V/W over Integer Ring with invariants (4, 4, 4)\n",
      "Finitely generated module V/W over Integer Ring with invariants (5, 5, 5)\n"
     ]
    }
   ],
   "source": [
    "print(\"\\n W11, 5|3|3 \\n\")\n",
    "for k in range(8):\n",
    "    print(get_cokernel(S*T^k,W11([(1,2,3,4,5),(6,7,8),(9,10,11)])))\n",
    "    \n",
    "print(\"\\n W11, 4|2|2 \\n\")\n",
    "for k in range(8):\n",
    "    print(get_cokernel(S*T^k,W11([(1,2,3,4),(6,7),(9,10)])))\n",
    "    \n",
    "print(\"\\n W14, 8|4|2 \\n\")\n",
    "for k in range(8):\n",
    "    print(get_cokernel(S*T^k,W14([(1,2,3,4,5,6,7,8),(9,10,11,12),(13,14)])))"
   ]
  },
  {
   "cell_type": "code",
   "execution_count": 128,
   "id": "f7730ce1",
   "metadata": {},
   "outputs": [
    {
     "name": "stdout",
     "output_type": "stream",
     "text": [
      "\n",
      " W15, [5, 4, 3, 2, 1] \n",
      "\n",
      "0\t Finitely generated module V/W over Integer Ring with invariants (2, 2, 2, 2)\n",
      "1\t Finitely generated module V/W over Integer Ring with invariants ()\n",
      "2\t Finitely generated module V/W over Integer Ring with invariants (2, 60)\n",
      "3\t Finitely generated module V/W over Integer Ring with invariants ()\n",
      "4\t Finitely generated module V/W over Integer Ring with invariants (2, 2, 2, 2, 2)\n",
      "5\t Finitely generated module V/W over Integer Ring with invariants (3, 3, 3, 3, 3)\n",
      "6\t Finitely generated module V/W over Integer Ring with invariants (4, 4, 4, 4, 4)\n",
      "7\t Finitely generated module V/W over Integer Ring with invariants (5, 5, 5, 5, 5)\n"
     ]
    }
   ],
   "source": [
    "s = W(15)([(1,2,3,4,5),(6,7,8),(9,10),(11,12,13,14)])\n",
    "p = s.conjugacy_class().partition()\n",
    "print(\"\\n W15, {0} \\n\".format(p))\n",
    "for k in range(8):\n",
    "    print(\"{}\\t\".format(k),get_cokernel(S*T^k,s))"
   ]
  },
  {
   "cell_type": "markdown",
   "id": "babd385b",
   "metadata": {},
   "source": [
    "Trying $S$\n",
    "------------\n",
    "We think for S: a partition $\\lambda$ gives invariants (2,...,2), where the # of 2's is the # of distinct parts of $\\lambda$, which are not $4k$.\n",
    "\n",
    "One idea: $S$ is order 4."
   ]
  },
  {
   "cell_type": "code",
   "execution_count": 90,
   "id": "3688f60a",
   "metadata": {},
   "outputs": [],
   "source": [
    "cc = try_all_conjugacy_classes(S,8)"
   ]
  },
  {
   "cell_type": "code",
   "execution_count": 93,
   "id": "ef652c7c",
   "metadata": {},
   "outputs": [
    {
     "data": {
      "text/html": [
       "<div class=\"notruncate\">\n",
       "<table  class=\"table_form\">\n",
       "<tbody>\n",
       "<tr class =\"row-a\">\n",
       "<td><script type=\"math/tex\"></script></td>\n",
       "<td><script type=\"math/tex\">\\left(2\\right)</script></td>\n",
       "</tr>\n",
       "<tr class =\"row-b\">\n",
       "<td><script type=\"math/tex\">(1,2)</script></td>\n",
       "<td><script type=\"math/tex\">\\left(2, 2\\right)</script></td>\n",
       "</tr>\n",
       "<tr class =\"row-a\">\n",
       "<td><script type=\"math/tex\">(1,2)(3,4)</script></td>\n",
       "<td><script type=\"math/tex\">\\left(2, 2\\right)</script></td>\n",
       "</tr>\n",
       "<tr class =\"row-b\">\n",
       "<td><script type=\"math/tex\">(1,2)(3,4)(5,6)</script></td>\n",
       "<td><script type=\"math/tex\">\\left(2, 2\\right)</script></td>\n",
       "</tr>\n",
       "<tr class =\"row-a\">\n",
       "<td><script type=\"math/tex\">(1,2)(3,4)(5,6)(7,8)</script></td>\n",
       "<td><script type=\"math/tex\">\\left(2\\right)</script></td>\n",
       "</tr>\n",
       "<tr class =\"row-b\">\n",
       "<td><script type=\"math/tex\">(1,2,3)</script></td>\n",
       "<td><script type=\"math/tex\">\\left(2, 2\\right)</script></td>\n",
       "</tr>\n",
       "<tr class =\"row-a\">\n",
       "<td><script type=\"math/tex\">(1,2,3)(4,5)</script></td>\n",
       "<td><script type=\"math/tex\">\\left(2, 2, 2\\right)</script></td>\n",
       "</tr>\n",
       "<tr class =\"row-b\">\n",
       "<td><script type=\"math/tex\">(1,2,3)(4,5)(6,7)</script></td>\n",
       "<td><script type=\"math/tex\">\\left(2, 2, 2\\right)</script></td>\n",
       "</tr>\n",
       "<tr class =\"row-a\">\n",
       "<td><script type=\"math/tex\">(1,2,3)(4,5,6)</script></td>\n",
       "<td><script type=\"math/tex\">\\left(2, 2\\right)</script></td>\n",
       "</tr>\n",
       "<tr class =\"row-b\">\n",
       "<td><script type=\"math/tex\">(1,2,3)(4,5,6)(7,8)</script></td>\n",
       "<td><script type=\"math/tex\">\\left(2, 2\\right)</script></td>\n",
       "</tr>\n",
       "<tr class =\"row-a\">\n",
       "<td><script type=\"math/tex\">(1,2,3,4)</script></td>\n",
       "<td><script type=\"math/tex\">\\left(2\\right)</script></td>\n",
       "</tr>\n",
       "<tr class =\"row-b\">\n",
       "<td><script type=\"math/tex\">(1,2,3,4)(5,6)</script></td>\n",
       "<td><script type=\"math/tex\">\\left(2, 2\\right)</script></td>\n",
       "</tr>\n",
       "<tr class =\"row-a\">\n",
       "<td><script type=\"math/tex\">(1,2,3,4)(5,6)(7,8)</script></td>\n",
       "<td><script type=\"math/tex\">\\left(2\\right)</script></td>\n",
       "</tr>\n",
       "<tr class =\"row-b\">\n",
       "<td><script type=\"math/tex\">(1,2,3,4)(5,6,7)</script></td>\n",
       "<td><script type=\"math/tex\">\\left(2, 2\\right)</script></td>\n",
       "</tr>\n",
       "<tr class =\"row-a\">\n",
       "<td><script type=\"math/tex\">(1,2,3,4)(5,6,7,8)</script></td>\n",
       "<td><script type=\"math/tex\">\\left(\\right)</script></td>\n",
       "</tr>\n",
       "<tr class =\"row-b\">\n",
       "<td><script type=\"math/tex\">(1,2,3,4,5)</script></td>\n",
       "<td><script type=\"math/tex\">\\left(2, 2\\right)</script></td>\n",
       "</tr>\n",
       "<tr class =\"row-a\">\n",
       "<td><script type=\"math/tex\">(1,2,3,4,5)(6,7)</script></td>\n",
       "<td><script type=\"math/tex\">\\left(2, 2, 2\\right)</script></td>\n",
       "</tr>\n",
       "<tr class =\"row-b\">\n",
       "<td><script type=\"math/tex\">(1,2,3,4,5)(6,7,8)</script></td>\n",
       "<td><script type=\"math/tex\">\\left(2, 2\\right)</script></td>\n",
       "</tr>\n",
       "<tr class =\"row-a\">\n",
       "<td><script type=\"math/tex\">(1,2,3,4,5,6)</script></td>\n",
       "<td><script type=\"math/tex\">\\left(2, 2\\right)</script></td>\n",
       "</tr>\n",
       "<tr class =\"row-b\">\n",
       "<td><script type=\"math/tex\">(1,2,3,4,5,6)(7,8)</script></td>\n",
       "<td><script type=\"math/tex\">\\left(2, 2\\right)</script></td>\n",
       "</tr>\n",
       "<tr class =\"row-a\">\n",
       "<td><script type=\"math/tex\">(1,2,3,4,5,6,7)</script></td>\n",
       "<td><script type=\"math/tex\">\\left(2, 2\\right)</script></td>\n",
       "</tr>\n",
       "<tr class =\"row-b\">\n",
       "<td><script type=\"math/tex\">(1,2,3,4,5,6,7,8)</script></td>\n",
       "<td><script type=\"math/tex\">\\left(\\right)</script></td>\n",
       "</tr>\n",
       "</tbody>\n",
       "</table>\n",
       "</div>"
      ],
      "text/plain": [
       "  ()                     (2,)\n",
       "  (1,2)                  (2, 2)\n",
       "  (1,2)(3,4)             (2, 2)\n",
       "  (1,2)(3,4)(5,6)        (2, 2)\n",
       "  (1,2)(3,4)(5,6)(7,8)   (2,)\n",
       "  (1,2,3)                (2, 2)\n",
       "  (1,2,3)(4,5)           (2, 2, 2)\n",
       "  (1,2,3)(4,5)(6,7)      (2, 2, 2)\n",
       "  (1,2,3)(4,5,6)         (2, 2)\n",
       "  (1,2,3)(4,5,6)(7,8)    (2, 2)\n",
       "  (1,2,3,4)              (2,)\n",
       "  (1,2,3,4)(5,6)         (2, 2)\n",
       "  (1,2,3,4)(5,6)(7,8)    (2,)\n",
       "  (1,2,3,4)(5,6,7)       (2, 2)\n",
       "  (1,2,3,4)(5,6,7,8)     ()\n",
       "  (1,2,3,4,5)            (2, 2)\n",
       "  (1,2,3,4,5)(6,7)       (2, 2, 2)\n",
       "  (1,2,3,4,5)(6,7,8)     (2, 2)\n",
       "  (1,2,3,4,5,6)          (2, 2)\n",
       "  (1,2,3,4,5,6)(7,8)     (2, 2)\n",
       "  (1,2,3,4,5,6,7)        (2, 2)\n",
       "  (1,2,3,4,5,6,7,8)      ()"
      ]
     },
     "execution_count": 93,
     "metadata": {},
     "output_type": "execute_result"
    }
   ],
   "source": [
    "\n",
    "table([[p['partition'],p['homology'].invariants()] for p in cc])"
   ]
  },
  {
   "cell_type": "code",
   "execution_count": 94,
   "id": "9b39e0fa",
   "metadata": {},
   "outputs": [
    {
     "data": {
      "text/html": [
       "<div class=\"notruncate\">\n",
       "<table  class=\"table_form\">\n",
       "<tbody>\n",
       "<tr class =\"row-a\">\n",
       "<td><script type=\"math/tex\"></script></td>\n",
       "<td><script type=\"math/tex\">\\left(2\\right)</script></td>\n",
       "</tr>\n",
       "<tr class =\"row-b\">\n",
       "<td><script type=\"math/tex\">(1,2)</script></td>\n",
       "<td><script type=\"math/tex\">\\left(2, 2\\right)</script></td>\n",
       "</tr>\n",
       "<tr class =\"row-a\">\n",
       "<td><script type=\"math/tex\">(1,2)(3,4)</script></td>\n",
       "<td><script type=\"math/tex\">\\left(2, 2\\right)</script></td>\n",
       "</tr>\n",
       "<tr class =\"row-b\">\n",
       "<td><script type=\"math/tex\">(1,2)(3,4)(5,6)</script></td>\n",
       "<td><script type=\"math/tex\">\\left(2, 2\\right)</script></td>\n",
       "</tr>\n",
       "<tr class =\"row-a\">\n",
       "<td><script type=\"math/tex\">(1,2,3)</script></td>\n",
       "<td><script type=\"math/tex\">\\left(2, 2\\right)</script></td>\n",
       "</tr>\n",
       "<tr class =\"row-b\">\n",
       "<td><script type=\"math/tex\">(1,2,3)(4,5)</script></td>\n",
       "<td><script type=\"math/tex\">\\left(2, 2, 2\\right)</script></td>\n",
       "</tr>\n",
       "<tr class =\"row-a\">\n",
       "<td><script type=\"math/tex\">(1,2,3)(4,5)(6,7)</script></td>\n",
       "<td><script type=\"math/tex\">\\left(2, 2\\right)</script></td>\n",
       "</tr>\n",
       "<tr class =\"row-b\">\n",
       "<td><script type=\"math/tex\">(1,2,3)(4,5,6)</script></td>\n",
       "<td><script type=\"math/tex\">\\left(2, 2\\right)</script></td>\n",
       "</tr>\n",
       "<tr class =\"row-a\">\n",
       "<td><script type=\"math/tex\">(1,2,3,4)</script></td>\n",
       "<td><script type=\"math/tex\">\\left(2\\right)</script></td>\n",
       "</tr>\n",
       "<tr class =\"row-b\">\n",
       "<td><script type=\"math/tex\">(1,2,3,4)(5,6)</script></td>\n",
       "<td><script type=\"math/tex\">\\left(2, 2\\right)</script></td>\n",
       "</tr>\n",
       "<tr class =\"row-a\">\n",
       "<td><script type=\"math/tex\">(1,2,3,4)(5,6,7)</script></td>\n",
       "<td><script type=\"math/tex\">\\left(2\\right)</script></td>\n",
       "</tr>\n",
       "<tr class =\"row-b\">\n",
       "<td><script type=\"math/tex\">(1,2,3,4,5)</script></td>\n",
       "<td><script type=\"math/tex\">\\left(2, 2\\right)</script></td>\n",
       "</tr>\n",
       "<tr class =\"row-a\">\n",
       "<td><script type=\"math/tex\">(1,2,3,4,5)(6,7)</script></td>\n",
       "<td><script type=\"math/tex\">\\left(2, 2\\right)</script></td>\n",
       "</tr>\n",
       "<tr class =\"row-b\">\n",
       "<td><script type=\"math/tex\">(1,2,3,4,5,6)</script></td>\n",
       "<td><script type=\"math/tex\">\\left(2, 2\\right)</script></td>\n",
       "</tr>\n",
       "<tr class =\"row-a\">\n",
       "<td><script type=\"math/tex\">(1,2,3,4,5,6,7)</script></td>\n",
       "<td><script type=\"math/tex\">\\left(2\\right)</script></td>\n",
       "</tr>\n",
       "</tbody>\n",
       "</table>\n",
       "</div>"
      ],
      "text/plain": [
       "  ()                  (2,)\n",
       "  (1,2)               (2, 2)\n",
       "  (1,2)(3,4)          (2, 2)\n",
       "  (1,2)(3,4)(5,6)     (2, 2)\n",
       "  (1,2,3)             (2, 2)\n",
       "  (1,2,3)(4,5)        (2, 2, 2)\n",
       "  (1,2,3)(4,5)(6,7)   (2, 2)\n",
       "  (1,2,3)(4,5,6)      (2, 2)\n",
       "  (1,2,3,4)           (2,)\n",
       "  (1,2,3,4)(5,6)      (2, 2)\n",
       "  (1,2,3,4)(5,6,7)    (2,)\n",
       "  (1,2,3,4,5)         (2, 2)\n",
       "  (1,2,3,4,5)(6,7)    (2, 2)\n",
       "  (1,2,3,4,5,6)       (2, 2)\n",
       "  (1,2,3,4,5,6,7)     (2,)"
      ]
     },
     "execution_count": 94,
     "metadata": {},
     "output_type": "execute_result"
    }
   ],
   "source": [
    "cc7 = try_all_conjugacy_classes(S,7)\n",
    "table([[p['partition'],p['homology'].invariants()] for p in cc7])"
   ]
  },
  {
   "cell_type": "code",
   "execution_count": 96,
   "id": "da8e8c57",
   "metadata": {},
   "outputs": [
    {
     "data": {
      "text/plain": [
       "Finitely generated module V/W over Integer Ring with invariants ()"
      ]
     },
     "execution_count": 96,
     "metadata": {},
     "output_type": "execute_result"
    }
   ],
   "source": [
    "get_cokernel(S,W(12)([(1,2,3,4,5,6,7,8),(9,10,11,12)]))"
   ]
  },
  {
   "cell_type": "markdown",
   "id": "237436f8",
   "metadata": {},
   "source": [
    "Trying $ST$\n",
    "-------------\n",
    "David says: this was a special case in Patrick's paper.\n",
    "\n",
    "We think it always gives the trivial group."
   ]
  },
  {
   "cell_type": "code",
   "execution_count": 99,
   "id": "d07eeb48",
   "metadata": {},
   "outputs": [
    {
     "data": {
      "text/plain": [
       "[1 0]\n",
       "[0 1]"
      ]
     },
     "execution_count": 99,
     "metadata": {},
     "output_type": "execute_result"
    }
   ],
   "source": [
    "# it's order 6, so we think rows of length 6k are ignored.\n",
    "(S*T)^6"
   ]
  },
  {
   "cell_type": "code",
   "execution_count": 100,
   "id": "070a16fc",
   "metadata": {},
   "outputs": [
    {
     "data": {
      "text/plain": [
       "Finitely generated module V/W over Integer Ring with invariants ()"
      ]
     },
     "execution_count": 100,
     "metadata": {},
     "output_type": "execute_result"
    }
   ],
   "source": [
    "# we expected to get one invariant factor but we got none.\n",
    "get_cokernel(S*T,W(12)([(1,2,3,4,5,6)]))"
   ]
  },
  {
   "cell_type": "code",
   "execution_count": 102,
   "id": "64f6ae3d",
   "metadata": {},
   "outputs": [
    {
     "data": {
      "text/html": [
       "<div class=\"notruncate\">\n",
       "<table  class=\"table_form\">\n",
       "<tbody>\n",
       "<tr class =\"row-a\">\n",
       "<td><script type=\"math/tex\"></script></td>\n",
       "<td><script type=\"math/tex\">\\left(\\right)</script></td>\n",
       "</tr>\n",
       "<tr class =\"row-b\">\n",
       "<td><script type=\"math/tex\">(1,2)</script></td>\n",
       "<td><script type=\"math/tex\">\\left(\\right)</script></td>\n",
       "</tr>\n",
       "<tr class =\"row-a\">\n",
       "<td><script type=\"math/tex\">(1,2)(3,4)</script></td>\n",
       "<td><script type=\"math/tex\">\\left(\\right)</script></td>\n",
       "</tr>\n",
       "<tr class =\"row-b\">\n",
       "<td><script type=\"math/tex\">(1,2)(3,4)(5,6)</script></td>\n",
       "<td><script type=\"math/tex\">\\left(\\right)</script></td>\n",
       "</tr>\n",
       "<tr class =\"row-a\">\n",
       "<td><script type=\"math/tex\">(1,2,3)</script></td>\n",
       "<td><script type=\"math/tex\">\\left(\\right)</script></td>\n",
       "</tr>\n",
       "<tr class =\"row-b\">\n",
       "<td><script type=\"math/tex\">(1,2,3)(4,5)</script></td>\n",
       "<td><script type=\"math/tex\">\\left(\\right)</script></td>\n",
       "</tr>\n",
       "<tr class =\"row-a\">\n",
       "<td><script type=\"math/tex\">(1,2,3)(4,5,6)</script></td>\n",
       "<td><script type=\"math/tex\">\\left(\\right)</script></td>\n",
       "</tr>\n",
       "<tr class =\"row-b\">\n",
       "<td><script type=\"math/tex\">(1,2,3,4)</script></td>\n",
       "<td><script type=\"math/tex\">\\left(\\right)</script></td>\n",
       "</tr>\n",
       "<tr class =\"row-a\">\n",
       "<td><script type=\"math/tex\">(1,2,3,4)(5,6)</script></td>\n",
       "<td><script type=\"math/tex\">\\left(\\right)</script></td>\n",
       "</tr>\n",
       "<tr class =\"row-b\">\n",
       "<td><script type=\"math/tex\">(1,2,3,4,5)</script></td>\n",
       "<td><script type=\"math/tex\">\\left(\\right)</script></td>\n",
       "</tr>\n",
       "<tr class =\"row-a\">\n",
       "<td><script type=\"math/tex\">(1,2,3,4,5,6)</script></td>\n",
       "<td><script type=\"math/tex\">\\left(\\right)</script></td>\n",
       "</tr>\n",
       "</tbody>\n",
       "</table>\n",
       "</div>"
      ],
      "text/plain": [
       "  ()                ()\n",
       "  (1,2)             ()\n",
       "  (1,2)(3,4)        ()\n",
       "  (1,2)(3,4)(5,6)   ()\n",
       "  (1,2,3)           ()\n",
       "  (1,2,3)(4,5)      ()\n",
       "  (1,2,3)(4,5,6)    ()\n",
       "  (1,2,3,4)         ()\n",
       "  (1,2,3,4)(5,6)    ()\n",
       "  (1,2,3,4,5)       ()\n",
       "  (1,2,3,4,5,6)     ()"
      ]
     },
     "execution_count": 102,
     "metadata": {},
     "output_type": "execute_result"
    }
   ],
   "source": [
    "ccST_6 = try_all_conjugacy_classes(S*T,6)\n",
    "table([[p['partition'],p['homology'].invariants()] for p in ccST_6])"
   ]
  },
  {
   "cell_type": "code",
   "execution_count": 103,
   "id": "0d574c66",
   "metadata": {},
   "outputs": [
    {
     "data": {
      "text/plain": [
       "[ 0 -1]\n",
       "[ 1  1]"
      ]
     },
     "execution_count": 103,
     "metadata": {},
     "output_type": "execute_result"
    }
   ],
   "source": [
    "S*T"
   ]
  },
  {
   "cell_type": "markdown",
   "id": "2b50030a",
   "metadata": {},
   "source": [
    "Trying $S^2$\n",
    "---\n",
    "Guess: for each distinct odd part $\\lambda_i$ we get a $(2,2)$."
   ]
  },
  {
   "cell_type": "code",
   "execution_count": 104,
   "id": "e94d270d",
   "metadata": {},
   "outputs": [
    {
     "data": {
      "text/plain": [
       "[-1  0]\n",
       "[ 0 -1]"
      ]
     },
     "execution_count": 104,
     "metadata": {},
     "output_type": "execute_result"
    }
   ],
   "source": [
    "S^2"
   ]
  },
  {
   "cell_type": "code",
   "execution_count": 105,
   "id": "7292c7ae",
   "metadata": {},
   "outputs": [
    {
     "data": {
      "text/html": [
       "<div class=\"notruncate\">\n",
       "<table  class=\"table_form\">\n",
       "<tbody>\n",
       "<tr class =\"row-a\">\n",
       "<td><script type=\"math/tex\"></script></td>\n",
       "<td><script type=\"math/tex\">\\left(2, 2\\right)</script></td>\n",
       "</tr>\n",
       "<tr class =\"row-b\">\n",
       "<td><script type=\"math/tex\">(1,2)</script></td>\n",
       "<td><script type=\"math/tex\">\\left(2, 2\\right)</script></td>\n",
       "</tr>\n",
       "<tr class =\"row-a\">\n",
       "<td><script type=\"math/tex\">(1,2)(3,4)</script></td>\n",
       "<td><script type=\"math/tex\">\\left(2, 2\\right)</script></td>\n",
       "</tr>\n",
       "<tr class =\"row-b\">\n",
       "<td><script type=\"math/tex\">(1,2)(3,4)(5,6)</script></td>\n",
       "<td><script type=\"math/tex\">\\left(\\right)</script></td>\n",
       "</tr>\n",
       "<tr class =\"row-a\">\n",
       "<td><script type=\"math/tex\">(1,2,3)</script></td>\n",
       "<td><script type=\"math/tex\">\\left(2, 2, 2, 2\\right)</script></td>\n",
       "</tr>\n",
       "<tr class =\"row-b\">\n",
       "<td><script type=\"math/tex\">(1,2,3)(4,5)</script></td>\n",
       "<td><script type=\"math/tex\">\\left(2, 2, 2, 2\\right)</script></td>\n",
       "</tr>\n",
       "<tr class =\"row-a\">\n",
       "<td><script type=\"math/tex\">(1,2,3)(4,5,6)</script></td>\n",
       "<td><script type=\"math/tex\">\\left(2, 2\\right)</script></td>\n",
       "</tr>\n",
       "<tr class =\"row-b\">\n",
       "<td><script type=\"math/tex\">(1,2,3,4)</script></td>\n",
       "<td><script type=\"math/tex\">\\left(2, 2\\right)</script></td>\n",
       "</tr>\n",
       "<tr class =\"row-a\">\n",
       "<td><script type=\"math/tex\">(1,2,3,4)(5,6)</script></td>\n",
       "<td><script type=\"math/tex\">\\left(\\right)</script></td>\n",
       "</tr>\n",
       "<tr class =\"row-b\">\n",
       "<td><script type=\"math/tex\">(1,2,3,4,5)</script></td>\n",
       "<td><script type=\"math/tex\">\\left(2, 2, 2, 2\\right)</script></td>\n",
       "</tr>\n",
       "<tr class =\"row-a\">\n",
       "<td><script type=\"math/tex\">(1,2,3,4,5,6)</script></td>\n",
       "<td><script type=\"math/tex\">\\left(\\right)</script></td>\n",
       "</tr>\n",
       "</tbody>\n",
       "</table>\n",
       "</div>"
      ],
      "text/plain": [
       "  ()                (2, 2)\n",
       "  (1,2)             (2, 2)\n",
       "  (1,2)(3,4)        (2, 2)\n",
       "  (1,2)(3,4)(5,6)   ()\n",
       "  (1,2,3)           (2, 2, 2, 2)\n",
       "  (1,2,3)(4,5)      (2, 2, 2, 2)\n",
       "  (1,2,3)(4,5,6)    (2, 2)\n",
       "  (1,2,3,4)         (2, 2)\n",
       "  (1,2,3,4)(5,6)    ()\n",
       "  (1,2,3,4,5)       (2, 2, 2, 2)\n",
       "  (1,2,3,4,5,6)     ()"
      ]
     },
     "execution_count": 105,
     "metadata": {},
     "output_type": "execute_result"
    }
   ],
   "source": [
    "ccS2_6 = try_all_conjugacy_classes(S^2,6)\n",
    "table([[p['partition'],p['homology'].invariants()] for p in ccS2_6])"
   ]
  },
  {
   "cell_type": "code",
   "execution_count": 106,
   "id": "3f5587cf",
   "metadata": {},
   "outputs": [
    {
     "data": {
      "text/html": [
       "<div class=\"notruncate\">\n",
       "<table  class=\"table_form\">\n",
       "<tbody>\n",
       "<tr class =\"row-a\">\n",
       "<td><script type=\"math/tex\"></script></td>\n",
       "<td><script type=\"math/tex\">\\left(2, 2\\right)</script></td>\n",
       "</tr>\n",
       "<tr class =\"row-b\">\n",
       "<td><script type=\"math/tex\">(1,2)</script></td>\n",
       "<td><script type=\"math/tex\">\\left(\\right)</script></td>\n",
       "</tr>\n",
       "</tbody>\n",
       "</table>\n",
       "</div>"
      ],
      "text/plain": [
       "  ()      (2, 2)\n",
       "  (1,2)   ()"
      ]
     },
     "execution_count": 106,
     "metadata": {},
     "output_type": "execute_result"
    }
   ],
   "source": [
    "ccS2_2 = try_all_conjugacy_classes(S^2,2)\n",
    "table([[p['partition'],p['homology'].invariants()] for p in ccS2_2])"
   ]
  },
  {
   "cell_type": "code",
   "execution_count": 117,
   "id": "fb5117a5",
   "metadata": {},
   "outputs": [
    {
     "ename": "KeyboardInterrupt",
     "evalue": "",
     "output_type": "error",
     "traceback": [
      "\u001b[1;31m---------------------------------------------------------------------------\u001b[0m",
      "\u001b[1;31mKeyboardInterrupt\u001b[0m                         Traceback (most recent call last)",
      "\u001b[1;32m/tmp/ipykernel_7827/763753461.py\u001b[0m in \u001b[0;36m<module>\u001b[1;34m\u001b[0m\n\u001b[1;32m----> 1\u001b[1;33m \u001b[0mccS2_9\u001b[0m \u001b[1;33m=\u001b[0m \u001b[0mtry_all_conjugacy_classes\u001b[0m\u001b[1;33m(\u001b[0m\u001b[0mS\u001b[0m\u001b[1;33m**\u001b[0m\u001b[0mInteger\u001b[0m\u001b[1;33m(\u001b[0m\u001b[1;36m2\u001b[0m\u001b[1;33m)\u001b[0m\u001b[1;33m,\u001b[0m\u001b[0mInteger\u001b[0m\u001b[1;33m(\u001b[0m\u001b[1;36m9\u001b[0m\u001b[1;33m)\u001b[0m\u001b[1;33m)\u001b[0m\u001b[1;33m\u001b[0m\u001b[1;33m\u001b[0m\u001b[0m\n\u001b[0m\u001b[0;32m      2\u001b[0m \u001b[0mtable\u001b[0m\u001b[1;33m(\u001b[0m\u001b[1;33m[\u001b[0m\u001b[1;33m[\u001b[0m\u001b[0mp\u001b[0m\u001b[1;33m[\u001b[0m\u001b[1;34m'partition'\u001b[0m\u001b[1;33m]\u001b[0m\u001b[1;33m,\u001b[0m\u001b[0mp\u001b[0m\u001b[1;33m[\u001b[0m\u001b[1;34m'homology'\u001b[0m\u001b[1;33m]\u001b[0m\u001b[1;33m.\u001b[0m\u001b[0minvariants\u001b[0m\u001b[1;33m(\u001b[0m\u001b[1;33m)\u001b[0m\u001b[1;33m]\u001b[0m \u001b[1;32mfor\u001b[0m \u001b[0mp\u001b[0m \u001b[1;32min\u001b[0m \u001b[0mccS2_9\u001b[0m\u001b[1;33m]\u001b[0m\u001b[1;33m)\u001b[0m\u001b[1;33m\u001b[0m\u001b[1;33m\u001b[0m\u001b[0m\n",
      "\u001b[1;32m<string>\u001b[0m in \u001b[0;36mtry_all_conjugacy_classes\u001b[1;34m(gamma, n, take_coinvariants)\u001b[0m\n",
      "\u001b[1;32m<string>\u001b[0m in \u001b[0;36m<listcomp>\u001b[1;34m(.0)\u001b[0m\n",
      "\u001b[1;32m<string>\u001b[0m in \u001b[0;36mget_cokernel\u001b[1;34m(gamma, sigma, take_coinvariants)\u001b[0m\n",
      "\u001b[1;32m<string>\u001b[0m in \u001b[0;36m<listcomp>\u001b[1;34m(.0)\u001b[0m\n",
      "\u001b[1;32m<string>\u001b[0m in \u001b[0;36mW_rep\u001b[1;34m(sigma)\u001b[0m\n",
      "\u001b[1;32m/usr/lib/python3/dist-packages/sage/matrix/special.py\u001b[0m in \u001b[0;36midentity_matrix\u001b[1;34m(ring, n, sparse)\u001b[0m\n\u001b[0;32m    886\u001b[0m \u001b[1;33m\u001b[0m\u001b[0m\n\u001b[0;32m    887\u001b[0m \u001b[1;33m\u001b[0m\u001b[0m\n\u001b[1;32m--> 888\u001b[1;33m \u001b[1;33m@\u001b[0m\u001b[0mmatrix_method\u001b[0m\u001b[1;33m\u001b[0m\u001b[1;33m\u001b[0m\u001b[0m\n\u001b[0m\u001b[0;32m    889\u001b[0m \u001b[1;32mdef\u001b[0m \u001b[0midentity_matrix\u001b[0m\u001b[1;33m(\u001b[0m\u001b[0mring\u001b[0m\u001b[1;33m,\u001b[0m \u001b[0mn\u001b[0m\u001b[1;33m=\u001b[0m\u001b[1;36m0\u001b[0m\u001b[1;33m,\u001b[0m \u001b[0msparse\u001b[0m\u001b[1;33m=\u001b[0m\u001b[1;32mFalse\u001b[0m\u001b[1;33m)\u001b[0m\u001b[1;33m:\u001b[0m\u001b[1;33m\u001b[0m\u001b[1;33m\u001b[0m\u001b[0m\n\u001b[0;32m    890\u001b[0m     r\"\"\"\n",
      "\u001b[1;32msrc/cysignals/signals.pyx\u001b[0m in \u001b[0;36mcysignals.signals.python_check_interrupt\u001b[1;34m()\u001b[0m\n",
      "\u001b[1;31mKeyboardInterrupt\u001b[0m: "
     ]
    }
   ],
   "source": [
    "ccS2_9 = try_all_conjugacy_classes(S^2,9)\n",
    "table([[p['partition'],p['homology'].invariants()] for p in ccS2_9])"
   ]
  },
  {
   "cell_type": "code",
   "execution_count": 119,
   "id": "1f77a20d",
   "metadata": {},
   "outputs": [
    {
     "data": {
      "text/plain": [
       "Finitely generated module V/W over Integer Ring with invariants (2, 2, 2, 2)"
      ]
     },
     "execution_count": 119,
     "metadata": {},
     "output_type": "execute_result"
    }
   ],
   "source": [
    "get_cokernel(S^2, W(9)([(1,2,3),(4,5,6)]))"
   ]
  },
  {
   "cell_type": "code",
   "execution_count": 121,
   "id": "238fdb9a",
   "metadata": {},
   "outputs": [
    {
     "data": {
      "text/plain": [
       "Finitely generated module V/W over Integer Ring with invariants (2, 2, 2, 2, 2, 2)"
      ]
     },
     "execution_count": 121,
     "metadata": {},
     "output_type": "execute_result"
    }
   ],
   "source": [
    "get_cokernel(S^2, W(9)([(1,2,3),(4,5,6,7,8)]))"
   ]
  },
  {
   "cell_type": "code",
   "execution_count": 122,
   "id": "70bf6ff3",
   "metadata": {},
   "outputs": [
    {
     "data": {
      "text/plain": [
       "Finitely generated module V/W over Integer Ring with invariants (2, 2, 2, 2, 2, 2)"
      ]
     },
     "execution_count": 122,
     "metadata": {},
     "output_type": "execute_result"
    }
   ],
   "source": [
    "get_cokernel(S^2, W(13)([(1,2,3),(4,5,6,7,8),(9,10)]))"
   ]
  },
  {
   "cell_type": "code",
   "execution_count": 123,
   "id": "728c7a46",
   "metadata": {},
   "outputs": [
    {
     "data": {
      "text/plain": [
       "Finitely generated module V/W over Integer Ring with invariants (2, 2, 2, 2, 2, 2, 2, 2)"
      ]
     },
     "execution_count": 123,
     "metadata": {},
     "output_type": "execute_result"
    }
   ],
   "source": [
    "get_cokernel(S^2, W(1+3+5+7)([(1,2,3,4,5,6,7),(8,9,10,11,12),(13,14,15)]))"
   ]
  },
  {
   "cell_type": "markdown",
   "id": "da6680e3",
   "metadata": {},
   "source": [
    "Trying the identity\n",
    "---"
   ]
  },
  {
   "cell_type": "code",
   "execution_count": 107,
   "id": "ec7bc26c",
   "metadata": {},
   "outputs": [
    {
     "data": {
      "text/html": [
       "<div class=\"notruncate\">\n",
       "<table  class=\"table_form\">\n",
       "<tbody>\n",
       "<tr class =\"row-a\">\n",
       "<td><script type=\"math/tex\"></script></td>\n",
       "<td><script type=\"math/tex\">\\left(\\right)</script></td>\n",
       "</tr>\n",
       "<tr class =\"row-b\">\n",
       "<td><script type=\"math/tex\">(1,2)</script></td>\n",
       "<td><script type=\"math/tex\">\\left(\\right)</script></td>\n",
       "</tr>\n",
       "<tr class =\"row-a\">\n",
       "<td><script type=\"math/tex\">(1,2)(3,4)</script></td>\n",
       "<td><script type=\"math/tex\">\\left(\\right)</script></td>\n",
       "</tr>\n",
       "<tr class =\"row-b\">\n",
       "<td><script type=\"math/tex\">(1,2)(3,4)(5,6)</script></td>\n",
       "<td><script type=\"math/tex\">\\left(\\right)</script></td>\n",
       "</tr>\n",
       "<tr class =\"row-a\">\n",
       "<td><script type=\"math/tex\">(1,2,3)</script></td>\n",
       "<td><script type=\"math/tex\">\\left(\\right)</script></td>\n",
       "</tr>\n",
       "<tr class =\"row-b\">\n",
       "<td><script type=\"math/tex\">(1,2,3)(4,5)</script></td>\n",
       "<td><script type=\"math/tex\">\\left(\\right)</script></td>\n",
       "</tr>\n",
       "<tr class =\"row-a\">\n",
       "<td><script type=\"math/tex\">(1,2,3)(4,5,6)</script></td>\n",
       "<td><script type=\"math/tex\">\\left(\\right)</script></td>\n",
       "</tr>\n",
       "<tr class =\"row-b\">\n",
       "<td><script type=\"math/tex\">(1,2,3,4)</script></td>\n",
       "<td><script type=\"math/tex\">\\left(\\right)</script></td>\n",
       "</tr>\n",
       "<tr class =\"row-a\">\n",
       "<td><script type=\"math/tex\">(1,2,3,4)(5,6)</script></td>\n",
       "<td><script type=\"math/tex\">\\left(\\right)</script></td>\n",
       "</tr>\n",
       "<tr class =\"row-b\">\n",
       "<td><script type=\"math/tex\">(1,2,3,4,5)</script></td>\n",
       "<td><script type=\"math/tex\">\\left(\\right)</script></td>\n",
       "</tr>\n",
       "<tr class =\"row-a\">\n",
       "<td><script type=\"math/tex\">(1,2,3,4,5,6)</script></td>\n",
       "<td><script type=\"math/tex\">\\left(\\right)</script></td>\n",
       "</tr>\n",
       "</tbody>\n",
       "</table>\n",
       "</div>"
      ],
      "text/plain": [
       "  ()                ()\n",
       "  (1,2)             ()\n",
       "  (1,2)(3,4)        ()\n",
       "  (1,2)(3,4)(5,6)   ()\n",
       "  (1,2,3)           ()\n",
       "  (1,2,3)(4,5)      ()\n",
       "  (1,2,3)(4,5,6)    ()\n",
       "  (1,2,3,4)         ()\n",
       "  (1,2,3,4)(5,6)    ()\n",
       "  (1,2,3,4,5)       ()\n",
       "  (1,2,3,4,5,6)     ()"
      ]
     },
     "execution_count": 107,
     "metadata": {},
     "output_type": "execute_result"
    }
   ],
   "source": [
    "ccS0_6 = try_all_conjugacy_classes(S^0,6)\n",
    "table([[p['partition'],p['homology'].invariants()] for p in ccS0_6])"
   ]
  },
  {
   "cell_type": "code",
   "execution_count": 108,
   "id": "4465ad27",
   "metadata": {},
   "outputs": [
    {
     "data": {
      "text/html": [
       "<div class=\"notruncate\">\n",
       "<table  class=\"table_form\">\n",
       "<tbody>\n",
       "<tr class =\"row-a\">\n",
       "<td><script type=\"math/tex\"></script></td>\n",
       "<td><script type=\"math/tex\">\\left(\\right)</script></td>\n",
       "</tr>\n",
       "<tr class =\"row-b\">\n",
       "<td><script type=\"math/tex\">(1,2)</script></td>\n",
       "<td><script type=\"math/tex\">\\left(\\right)</script></td>\n",
       "</tr>\n",
       "</tbody>\n",
       "</table>\n",
       "</div>"
      ],
      "text/plain": [
       "  ()      ()\n",
       "  (1,2)   ()"
      ]
     },
     "execution_count": 108,
     "metadata": {},
     "output_type": "execute_result"
    }
   ],
   "source": [
    "ccS0_2 = try_all_conjugacy_classes(S^0,2)\n",
    "table([[p['partition'],p['homology'].invariants()] for p in ccS0_2])"
   ]
  },
  {
   "cell_type": "code",
   "execution_count": null,
   "id": "854fddfd",
   "metadata": {},
   "outputs": [],
   "source": []
  },
  {
   "cell_type": "code",
   "execution_count": 116,
   "id": "3d00d48e",
   "metadata": {},
   "outputs": [
    {
     "data": {
      "text/plain": [
       "[ 0 -1]\n",
       "[ 1  1]"
      ]
     },
     "execution_count": 116,
     "metadata": {},
     "output_type": "execute_result"
    }
   ],
   "source": [
    "S*T^2"
   ]
  },
  {
   "cell_type": "markdown",
   "id": "d755aa5c",
   "metadata": {},
   "source": [
    "Something crazy, absolutely bonkers.:\n",
    "---"
   ]
  },
  {
   "cell_type": "code",
   "execution_count": 4,
   "id": "1b405a4e",
   "metadata": {},
   "outputs": [],
   "source": [
    "gamma = SL2Z(Matrix([[5,2],[-3,-1]]))"
   ]
  },
  {
   "cell_type": "code",
   "execution_count": 8,
   "id": "f003d29b",
   "metadata": {},
   "outputs": [
    {
     "data": {
      "text/html": [
       "<div class=\"notruncate\">\n",
       "<table  class=\"table_form\">\n",
       "<tbody>\n",
       "<tr class =\"row-a\">\n",
       "<td><script type=\"math/tex\"></script></td>\n",
       "<td><script type=\"math/tex\">\\left(2\\right)</script></td>\n",
       "</tr>\n",
       "<tr class =\"row-b\">\n",
       "<td><script type=\"math/tex\">(1,2)</script></td>\n",
       "<td><script type=\"math/tex\">\\left(2, 2\\right)</script></td>\n",
       "</tr>\n",
       "<tr class =\"row-a\">\n",
       "<td><script type=\"math/tex\">(1,2)(3,4)</script></td>\n",
       "<td><script type=\"math/tex\">\\left(2, 2\\right)</script></td>\n",
       "</tr>\n",
       "<tr class =\"row-b\">\n",
       "<td><script type=\"math/tex\">(1,2)(3,4)(5,6)</script></td>\n",
       "<td><script type=\"math/tex\">\\left(2\\right)</script></td>\n",
       "</tr>\n",
       "<tr class =\"row-a\">\n",
       "<td><script type=\"math/tex\">(1,2,3)</script></td>\n",
       "<td><script type=\"math/tex\">\\left(2, 2\\right)</script></td>\n",
       "</tr>\n",
       "<tr class =\"row-b\">\n",
       "<td><script type=\"math/tex\">(1,2,3)(4,5)</script></td>\n",
       "<td><script type=\"math/tex\">\\left(2, 2, 2\\right)</script></td>\n",
       "</tr>\n",
       "<tr class =\"row-a\">\n",
       "<td><script type=\"math/tex\">(1,2,3)(4,5,6)</script></td>\n",
       "<td><script type=\"math/tex\">\\left(2\\right)</script></td>\n",
       "</tr>\n",
       "<tr class =\"row-b\">\n",
       "<td><script type=\"math/tex\">(1,2,3,4)</script></td>\n",
       "<td><script type=\"math/tex\">\\left(2, 2\\right)</script></td>\n",
       "</tr>\n",
       "<tr class =\"row-a\">\n",
       "<td><script type=\"math/tex\">(1,2,3,4)(5,6)</script></td>\n",
       "<td><script type=\"math/tex\">\\left(2, 2\\right)</script></td>\n",
       "</tr>\n",
       "<tr class =\"row-b\">\n",
       "<td><script type=\"math/tex\">(1,2,3,4,5)</script></td>\n",
       "<td><script type=\"math/tex\">\\left(2, 2\\right)</script></td>\n",
       "</tr>\n",
       "<tr class =\"row-a\">\n",
       "<td><script type=\"math/tex\">(1,2,3,4,5,6)</script></td>\n",
       "<td><script type=\"math/tex\">\\left(2\\right)</script></td>\n",
       "</tr>\n",
       "</tbody>\n",
       "</table>\n",
       "</div>"
      ],
      "text/plain": [
       "  ()                (2,)\n",
       "  (1,2)             (2, 2)\n",
       "  (1,2)(3,4)        (2, 2)\n",
       "  (1,2)(3,4)(5,6)   (2,)\n",
       "  (1,2,3)           (2, 2)\n",
       "  (1,2,3)(4,5)      (2, 2, 2)\n",
       "  (1,2,3)(4,5,6)    (2,)\n",
       "  (1,2,3,4)         (2, 2)\n",
       "  (1,2,3,4)(5,6)    (2, 2)\n",
       "  (1,2,3,4,5)       (2, 2)\n",
       "  (1,2,3,4,5,6)     (2,)"
      ]
     },
     "execution_count": 8,
     "metadata": {},
     "output_type": "execute_result"
    }
   ],
   "source": [
    "cc_gamma_6 = try_all_conjugacy_classes(gamma,6)\n",
    "table([[p['partition'],p['homology'].invariants()] for p in cc_gamma_6])"
   ]
  },
  {
   "cell_type": "code",
   "execution_count": null,
   "id": "60e0f688",
   "metadata": {},
   "outputs": [],
   "source": []
  }
 ],
 "metadata": {
  "kernelspec": {
   "display_name": "SageMath 9.5",
   "language": "sage",
   "name": "sagemath"
  },
  "language_info": {
   "codemirror_mode": {
    "name": "ipython",
    "version": 3
   },
   "file_extension": ".py",
   "mimetype": "text/x-python",
   "name": "python",
   "nbconvert_exporter": "python",
   "pygments_lexer": "ipython3",
   "version": "3.10.12"
  },
  "toc": {
   "base_numbering": 1,
   "nav_menu": {},
   "number_sections": true,
   "sideBar": true,
   "skip_h1_title": false,
   "title_cell": "Table of Contents",
   "title_sidebar": "Contents",
   "toc_cell": false,
   "toc_position": {},
   "toc_section_display": true,
   "toc_window_display": false
  },
  "varInspector": {
   "cols": {
    "lenName": 16,
    "lenType": 16,
    "lenVar": 40
   },
   "kernels_config": {
    "python": {
     "delete_cmd_postfix": "",
     "delete_cmd_prefix": "del ",
     "library": "var_list.py",
     "varRefreshCmd": "print(var_dic_list())"
    },
    "r": {
     "delete_cmd_postfix": ") ",
     "delete_cmd_prefix": "rm(",
     "library": "var_list.r",
     "varRefreshCmd": "cat(var_dic_list()) "
    }
   },
   "types_to_exclude": [
    "module",
    "function",
    "builtin_function_or_method",
    "instance",
    "_Feature"
   ],
   "window_display": false
  }
 },
 "nbformat": 4,
 "nbformat_minor": 5
}
